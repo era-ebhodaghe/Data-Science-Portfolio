{
 "cells": [
  {
   "cell_type": "markdown",
   "id": "00435cb4-a67d-45f6-8fa3-e2db669ce39c",
   "metadata": {},
   "source": [
    "# DSC 550"
   ]
  },
  {
   "cell_type": "markdown",
   "id": "17c4b8c4-cf98-47b7-a270-69de56fc95bb",
   "metadata": {},
   "source": [
    "### Week 3: Exercise 3.2"
   ]
  },
  {
   "cell_type": "markdown",
   "id": "107acb0e-5bf4-4006-88ef-b9fc3194504f",
   "metadata": {},
   "source": [
    "### Author: Era Ebhodaghe"
   ]
  },
  {
   "cell_type": "markdown",
   "id": "9bfd5231-ff2e-4d70-809c-b22fbe46a4fb",
   "metadata": {},
   "source": [
    "## Part 1: Using the TextBlob Sentiment Analyzer"
   ]
  },
  {
   "cell_type": "markdown",
   "id": "4e96e154-605a-441c-a392-ef59aebaa3ff",
   "metadata": {},
   "source": [
    "### Step 1: Import the movie review data as a data frame and ensure that the data is loaded properly"
   ]
  },
  {
   "cell_type": "code",
   "execution_count": 219,
   "id": "6cd93f3f-ade3-4432-9cff-95f378ec593b",
   "metadata": {},
   "outputs": [],
   "source": [
    "# importing libraries\n",
    "import pandas as pd"
   ]
  },
  {
   "cell_type": "code",
   "execution_count": 220,
   "id": "e25ef2b7-eec4-493e-a175-e7054476a1e1",
   "metadata": {},
   "outputs": [
    {
     "data": {
      "text/html": [
       "<div>\n",
       "<style scoped>\n",
       "    .dataframe tbody tr th:only-of-type {\n",
       "        vertical-align: middle;\n",
       "    }\n",
       "\n",
       "    .dataframe tbody tr th {\n",
       "        vertical-align: top;\n",
       "    }\n",
       "\n",
       "    .dataframe thead th {\n",
       "        text-align: right;\n",
       "    }\n",
       "</style>\n",
       "<table border=\"1\" class=\"dataframe\">\n",
       "  <thead>\n",
       "    <tr style=\"text-align: right;\">\n",
       "      <th></th>\n",
       "      <th>id</th>\n",
       "      <th>sentiment</th>\n",
       "      <th>review</th>\n",
       "    </tr>\n",
       "  </thead>\n",
       "  <tbody>\n",
       "    <tr>\n",
       "      <th>0</th>\n",
       "      <td>5814_8</td>\n",
       "      <td>1</td>\n",
       "      <td>With all this stuff going down at the moment w...</td>\n",
       "    </tr>\n",
       "    <tr>\n",
       "      <th>1</th>\n",
       "      <td>2381_9</td>\n",
       "      <td>1</td>\n",
       "      <td>\\The Classic War of the Worlds\\\" by Timothy Hi...</td>\n",
       "    </tr>\n",
       "    <tr>\n",
       "      <th>2</th>\n",
       "      <td>7759_3</td>\n",
       "      <td>0</td>\n",
       "      <td>The film starts with a manager (Nicholas Bell)...</td>\n",
       "    </tr>\n",
       "    <tr>\n",
       "      <th>3</th>\n",
       "      <td>3630_4</td>\n",
       "      <td>0</td>\n",
       "      <td>It must be assumed that those who praised this...</td>\n",
       "    </tr>\n",
       "    <tr>\n",
       "      <th>4</th>\n",
       "      <td>9495_8</td>\n",
       "      <td>1</td>\n",
       "      <td>Superbly trashy and wondrously unpretentious 8...</td>\n",
       "    </tr>\n",
       "  </tbody>\n",
       "</table>\n",
       "</div>"
      ],
      "text/plain": [
       "       id  sentiment                                             review\n",
       "0  5814_8          1  With all this stuff going down at the moment w...\n",
       "1  2381_9          1  \\The Classic War of the Worlds\\\" by Timothy Hi...\n",
       "2  7759_3          0  The film starts with a manager (Nicholas Bell)...\n",
       "3  3630_4          0  It must be assumed that those who praised this...\n",
       "4  9495_8          1  Superbly trashy and wondrously unpretentious 8..."
      ]
     },
     "execution_count": 220,
     "metadata": {},
     "output_type": "execute_result"
    }
   ],
   "source": [
    "# read bag of words meets bags of popcorn training data\n",
    "training_data= r'/Users/valuedcustomer/Downloads/labeledTrainData.tsv'\n",
    "reviews_training_data = pd.read_csv(training_data, delimiter  = '\\t')\n",
    "reviews_training_data.head()"
   ]
  },
  {
   "cell_type": "code",
   "execution_count": 221,
   "id": "8ed2ffa8-82d6-4691-98ad-ad545d66ea96",
   "metadata": {},
   "outputs": [
    {
     "data": {
      "text/plain": [
       "(25000, 3)"
      ]
     },
     "execution_count": 221,
     "metadata": {},
     "output_type": "execute_result"
    }
   ],
   "source": [
    "reviews_training_data.shape"
   ]
  },
  {
   "cell_type": "markdown",
   "id": "3bbc6eea-280c-4733-a862-58e2e1d0eca5",
   "metadata": {},
   "source": [
    "### Step 2: How many of each positive and negative reviews are there?"
   ]
  },
  {
   "cell_type": "code",
   "execution_count": 223,
   "id": "7be39632-a418-439d-8fcf-cd3741826c80",
   "metadata": {},
   "outputs": [
    {
     "data": {
      "text/plain": [
       "sentiment\n",
       "1    12500\n",
       "0    12500\n",
       "Name: count, dtype: int64"
      ]
     },
     "execution_count": 223,
     "metadata": {},
     "output_type": "execute_result"
    }
   ],
   "source": [
    "reviews_training_data['sentiment'].value_counts()"
   ]
  },
  {
   "cell_type": "markdown",
   "id": "e050e2eb-aa0f-46e4-a687-5047b06910f0",
   "metadata": {},
   "source": [
    "#### There are 12,500 positive and 12,500 negative reviews"
   ]
  },
  {
   "cell_type": "markdown",
   "id": "fe49162b-2f9e-4ee5-8ecb-21ba2524e4be",
   "metadata": {},
   "source": [
    "### Step 3: Use TextBlob to classify each movie review as positive or negative. Assume that a polarity score greater than or equal to zero is a positive sentiment and less than 0 is a negative sentiment"
   ]
  },
  {
   "cell_type": "markdown",
   "id": "0b7adcb7-56e2-4713-8d2a-dbfdb278abdf",
   "metadata": {},
   "source": [
    "!pip install textblob"
   ]
  },
  {
   "cell_type": "code",
   "execution_count": 227,
   "id": "caca44a5-fd99-4e28-a8e5-0ff06d9001b8",
   "metadata": {},
   "outputs": [],
   "source": [
    " # import library\n",
    "from textblob import TextBlob"
   ]
  },
  {
   "cell_type": "code",
   "execution_count": 228,
   "id": "249a4dde-31bc-4525-8e25-a2c27543c701",
   "metadata": {},
   "outputs": [
    {
     "data": {
      "text/html": [
       "<div>\n",
       "<style scoped>\n",
       "    .dataframe tbody tr th:only-of-type {\n",
       "        vertical-align: middle;\n",
       "    }\n",
       "\n",
       "    .dataframe tbody tr th {\n",
       "        vertical-align: top;\n",
       "    }\n",
       "\n",
       "    .dataframe thead th {\n",
       "        text-align: right;\n",
       "    }\n",
       "</style>\n",
       "<table border=\"1\" class=\"dataframe\">\n",
       "  <thead>\n",
       "    <tr style=\"text-align: right;\">\n",
       "      <th></th>\n",
       "      <th>id</th>\n",
       "      <th>sentiment</th>\n",
       "      <th>review</th>\n",
       "      <th>TextBlob_Subjectivity</th>\n",
       "      <th>TextBlob_Polarity</th>\n",
       "      <th>TextBlob_Analysis</th>\n",
       "    </tr>\n",
       "  </thead>\n",
       "  <tbody>\n",
       "    <tr>\n",
       "      <th>0</th>\n",
       "      <td>5814_8</td>\n",
       "      <td>1</td>\n",
       "      <td>With all this stuff going down at the moment w...</td>\n",
       "      <td>0.606746</td>\n",
       "      <td>0.001277</td>\n",
       "      <td>1</td>\n",
       "    </tr>\n",
       "    <tr>\n",
       "      <th>1</th>\n",
       "      <td>2381_9</td>\n",
       "      <td>1</td>\n",
       "      <td>\\The Classic War of the Worlds\\\" by Timothy Hi...</td>\n",
       "      <td>0.531111</td>\n",
       "      <td>0.256349</td>\n",
       "      <td>1</td>\n",
       "    </tr>\n",
       "    <tr>\n",
       "      <th>2</th>\n",
       "      <td>7759_3</td>\n",
       "      <td>0</td>\n",
       "      <td>The film starts with a manager (Nicholas Bell)...</td>\n",
       "      <td>0.562933</td>\n",
       "      <td>-0.053941</td>\n",
       "      <td>0</td>\n",
       "    </tr>\n",
       "    <tr>\n",
       "      <th>3</th>\n",
       "      <td>3630_4</td>\n",
       "      <td>0</td>\n",
       "      <td>It must be assumed that those who praised this...</td>\n",
       "      <td>0.492901</td>\n",
       "      <td>0.134753</td>\n",
       "      <td>1</td>\n",
       "    </tr>\n",
       "    <tr>\n",
       "      <th>4</th>\n",
       "      <td>9495_8</td>\n",
       "      <td>1</td>\n",
       "      <td>Superbly trashy and wondrously unpretentious 8...</td>\n",
       "      <td>0.459818</td>\n",
       "      <td>-0.024842</td>\n",
       "      <td>0</td>\n",
       "    </tr>\n",
       "  </tbody>\n",
       "</table>\n",
       "</div>"
      ],
      "text/plain": [
       "       id  sentiment                                             review  \\\n",
       "0  5814_8          1  With all this stuff going down at the moment w...   \n",
       "1  2381_9          1  \\The Classic War of the Worlds\\\" by Timothy Hi...   \n",
       "2  7759_3          0  The film starts with a manager (Nicholas Bell)...   \n",
       "3  3630_4          0  It must be assumed that those who praised this...   \n",
       "4  9495_8          1  Superbly trashy and wondrously unpretentious 8...   \n",
       "\n",
       "   TextBlob_Subjectivity  TextBlob_Polarity  TextBlob_Analysis  \n",
       "0               0.606746           0.001277                  1  \n",
       "1               0.531111           0.256349                  1  \n",
       "2               0.562933          -0.053941                  0  \n",
       "3               0.492901           0.134753                  1  \n",
       "4               0.459818          -0.024842                  0  "
      ]
     },
     "execution_count": 228,
     "metadata": {},
     "output_type": "execute_result"
    }
   ],
   "source": [
    "def sentiment_analysis_textblob(reviews):\n",
    "    def getSubjectivity(text):\n",
    "        return TextBlob(text).sentiment.subjectivity\n",
    "    \n",
    "    def getPolarity(text):\n",
    "        return TextBlob(text).sentiment.polarity\n",
    "    \n",
    "    reviews['TextBlob_Subjectivity'] = reviews['review'].apply(getSubjectivity)\n",
    "    reviews['TextBlob_Polarity'] = reviews['review'].apply(getPolarity)\n",
    "    \n",
    "    def getAnalysis(score):\n",
    "        if score < 0:\n",
    "            return 0\n",
    "        else:\n",
    "            return 1\n",
    "        \n",
    "    reviews['TextBlob_Analysis'] = reviews['TextBlob_Polarity'].apply(getAnalysis)\n",
    "\n",
    "sentiment_analysis_textblob(reviews_training_data)\n",
    "reviews_training_data.head()"
   ]
  },
  {
   "cell_type": "markdown",
   "id": "5ffa420f-9f73-439b-8e0d-aa577f9ccb65",
   "metadata": {},
   "source": [
    "### Step 4: Check the accuracy of this model. Is this model better than random guessing?"
   ]
  },
  {
   "cell_type": "code",
   "execution_count": 230,
   "id": "35a11c29-67a4-4f37-bdf4-bd47565c0698",
   "metadata": {},
   "outputs": [
    {
     "name": "stdout",
     "output_type": "stream",
     "text": [
      "The accuracy is 68.524%\n"
     ]
    }
   ],
   "source": [
    "#initializing variables\n",
    "pos_correct = 0\n",
    "pos_count = 0\n",
    "\n",
    "#for loop to evaluate model accuracy\n",
    "for index, row in reviews_training_data.iterrows():\n",
    "    if row['TextBlob_Analysis'] == row['sentiment']:\n",
    "        pos_correct += 1\n",
    "    pos_count += 1\n",
    "    \n",
    "accuracy = (pos_correct / pos_count) * 100.0\n",
    "\n",
    "print(f\"The accuracy is {accuracy}%\")"
   ]
  },
  {
   "cell_type": "markdown",
   "id": "ddb30e4e-f640-41bc-9a3b-76a649774ed3",
   "metadata": {},
   "source": [
    "#### This model with an accuracy of 68.5% is more accurate than random guessing which would have an accuracy of 50%"
   ]
  },
  {
   "cell_type": "markdown",
   "id": "b9105caf-3e2f-4483-bafe-de77fc2f076e",
   "metadata": {},
   "source": [
    "### Step 5: For up to five points extra credit, use another prebuilt text sentiment analyzer, e.g., VADER, and repeat steps (3) and (4)"
   ]
  },
  {
   "cell_type": "code",
   "execution_count": 233,
   "id": "5d04cc9e-28b5-4ed0-89a4-d3ad9fcde0fc",
   "metadata": {},
   "outputs": [
    {
     "name": "stdout",
     "output_type": "stream",
     "text": [
      "Requirement already satisfied: vaderSentiment in /opt/anaconda3/lib/python3.11/site-packages (3.3.2)\n",
      "Requirement already satisfied: requests in /opt/anaconda3/lib/python3.11/site-packages (from vaderSentiment) (2.31.0)\n",
      "Requirement already satisfied: charset-normalizer<4,>=2 in /opt/anaconda3/lib/python3.11/site-packages (from requests->vaderSentiment) (2.0.4)\n",
      "Requirement already satisfied: idna<4,>=2.5 in /opt/anaconda3/lib/python3.11/site-packages (from requests->vaderSentiment) (3.4)\n",
      "Requirement already satisfied: urllib3<3,>=1.21.1 in /opt/anaconda3/lib/python3.11/site-packages (from requests->vaderSentiment) (2.0.7)\n",
      "Requirement already satisfied: certifi>=2017.4.17 in /opt/anaconda3/lib/python3.11/site-packages (from requests->vaderSentiment) (2024.8.30)\n"
     ]
    }
   ],
   "source": [
    "!pip install vaderSentiment"
   ]
  },
  {
   "cell_type": "code",
   "execution_count": 234,
   "id": "702cf602-91b6-4bae-9667-e1c2d76efc87",
   "metadata": {},
   "outputs": [],
   "source": [
    "# import libraries\n",
    "from vaderSentiment.vaderSentiment import SentimentIntensityAnalyzer"
   ]
  },
  {
   "cell_type": "code",
   "execution_count": 235,
   "id": "3b6a52f9-0c6d-4760-875b-5e4dae2366ea",
   "metadata": {},
   "outputs": [
    {
     "data": {
      "text/html": [
       "<div>\n",
       "<style scoped>\n",
       "    .dataframe tbody tr th:only-of-type {\n",
       "        vertical-align: middle;\n",
       "    }\n",
       "\n",
       "    .dataframe tbody tr th {\n",
       "        vertical-align: top;\n",
       "    }\n",
       "\n",
       "    .dataframe thead th {\n",
       "        text-align: right;\n",
       "    }\n",
       "</style>\n",
       "<table border=\"1\" class=\"dataframe\">\n",
       "  <thead>\n",
       "    <tr style=\"text-align: right;\">\n",
       "      <th></th>\n",
       "      <th>id</th>\n",
       "      <th>sentiment</th>\n",
       "      <th>review</th>\n",
       "      <th>TextBlob_Subjectivity</th>\n",
       "      <th>TextBlob_Polarity</th>\n",
       "      <th>TextBlob_Analysis</th>\n",
       "      <th>Vader_Analysis</th>\n",
       "    </tr>\n",
       "  </thead>\n",
       "  <tbody>\n",
       "    <tr>\n",
       "      <th>0</th>\n",
       "      <td>5814_8</td>\n",
       "      <td>1</td>\n",
       "      <td>With all this stuff going down at the moment w...</td>\n",
       "      <td>0.606746</td>\n",
       "      <td>0.001277</td>\n",
       "      <td>1</td>\n",
       "      <td>0</td>\n",
       "    </tr>\n",
       "    <tr>\n",
       "      <th>1</th>\n",
       "      <td>2381_9</td>\n",
       "      <td>1</td>\n",
       "      <td>\\The Classic War of the Worlds\\\" by Timothy Hi...</td>\n",
       "      <td>0.531111</td>\n",
       "      <td>0.256349</td>\n",
       "      <td>1</td>\n",
       "      <td>1</td>\n",
       "    </tr>\n",
       "    <tr>\n",
       "      <th>2</th>\n",
       "      <td>7759_3</td>\n",
       "      <td>0</td>\n",
       "      <td>The film starts with a manager (Nicholas Bell)...</td>\n",
       "      <td>0.562933</td>\n",
       "      <td>-0.053941</td>\n",
       "      <td>0</td>\n",
       "      <td>0</td>\n",
       "    </tr>\n",
       "  </tbody>\n",
       "</table>\n",
       "</div>"
      ],
      "text/plain": [
       "       id  sentiment                                             review  \\\n",
       "0  5814_8          1  With all this stuff going down at the moment w...   \n",
       "1  2381_9          1  \\The Classic War of the Worlds\\\" by Timothy Hi...   \n",
       "2  7759_3          0  The film starts with a manager (Nicholas Bell)...   \n",
       "\n",
       "   TextBlob_Subjectivity  TextBlob_Polarity  TextBlob_Analysis  Vader_Analysis  \n",
       "0               0.606746           0.001277                  1               0  \n",
       "1               0.531111           0.256349                  1               1  \n",
       "2               0.562933          -0.053941                  0               0  "
      ]
     },
     "execution_count": 235,
     "metadata": {},
     "output_type": "execute_result"
    }
   ],
   "source": [
    "def sentiment_scores(review):\n",
    "    sid_obj = SentimentIntensityAnalyzer()\n",
    "    sentiment_dict = sid_obj.polarity_scores(review)\n",
    "        \n",
    "    if sentiment_dict['compound'] < 0:\n",
    "        return 0\n",
    "    else:\n",
    "        return 1\n",
    "\n",
    "reviews_training_data['Vader_Analysis'] = reviews_training_data['review'].apply(sentiment_scores)\n",
    "\n",
    "reviews_training_data.head(3)"
   ]
  },
  {
   "cell_type": "code",
   "execution_count": 236,
   "id": "f7d44386-9649-4846-921a-7a170c80f523",
   "metadata": {},
   "outputs": [
    {
     "name": "stdout",
     "output_type": "stream",
     "text": [
      "The accuracy is 69.404%\n"
     ]
    }
   ],
   "source": [
    "# checking for the accuracy of Vader\n",
    "pos_correct = 0\n",
    "pos_count = 0\n",
    "\n",
    "#for loop to evaluate model accuracy\n",
    "for index, row in reviews_training_data.iterrows():\n",
    "    if row['Vader_Analysis'] == row['sentiment']:\n",
    "        pos_correct += 1\n",
    "    pos_count += 1\n",
    "    \n",
    "accuracy = (pos_correct / pos_count) * 100.0\n",
    "\n",
    "print(f\"The accuracy is {accuracy}%\")"
   ]
  },
  {
   "cell_type": "markdown",
   "id": "c5b4e73d-89a0-43db-b9fb-059224912ba3",
   "metadata": {},
   "source": [
    "## Part 2: Prepping Text for a Custom Model"
   ]
  },
  {
   "cell_type": "markdown",
   "id": "211f3cad-e920-49a1-b428-eec4fb64e1d5",
   "metadata": {},
   "source": [
    "### Step 1: Convert all text to lowercase letters"
   ]
  },
  {
   "cell_type": "code",
   "execution_count": 239,
   "id": "8045b933-67b8-4992-aa7d-fdddc3bae7c4",
   "metadata": {},
   "outputs": [
    {
     "data": {
      "text/plain": [
       "\"with all this stuff going down at the moment with mj i've started listening to his music, watching the odd documentary here and there, watched the wiz and watched moonwalker again. maybe i just want to get a certain insight into this guy who i thought was really cool in the eighties just to maybe make up my mind whether he is guilty or innocent. moonwalker is part biography, part feature film which i remember going to see at the cinema when it was originally released. some of it has subtle messages about mj's feeling towards the press and also the obvious message of drugs are bad m'kay.<br /><br />visually impressive but of course this is all about michael jackson so unless you remotely like mj in anyway then you are going to hate this and find it boring. some may call mj an egotist for consenting to the making of this movie but mj and most of his fans would say that he made it for the fans which if true is really nice of him.<br /><br />the actual feature film bit when it finally starts is only on for 20 minutes or so excluding the smooth criminal sequence and joe pesci is convincing as a psychopathic all powerful drug lord. why he wants mj dead so bad is beyond me. because mj overheard his plans? nah, joe pesci's character ranted that he wanted people to know it is he who is supplying drugs etc so i dunno, maybe he just hates mj's music.<br /><br />lots of cool things in this like mj turning into a car and a robot and the whole speed demon sequence. also, the director must have had the patience of a saint when it came to filming the kiddy bad sequence as usually directors hate working with one kid let alone a whole bunch of them performing a complex dance scene.<br /><br />bottom line, this movie is for people who like mj on one level or another (which i think is most people). if not, then stay away. it does try and give off a wholesome message and ironically mj's bestest buddy in this movie is a girl! michael jackson is truly one of the most talented people ever to grace this planet but is he guilty? well, with all the attention i've gave this subject....hmmm well i don't know because people can be different behind closed doors, i know this for a fact. he is either an extremely nice but stupid guy or one of the most sickest liars. i hope he is not the latter.\""
      ]
     },
     "execution_count": 239,
     "metadata": {},
     "output_type": "execute_result"
    }
   ],
   "source": [
    "reviews_training_data['review'] = reviews_training_data['review'].str.lower()\n",
    "reviews_training_data['review'][0]"
   ]
  },
  {
   "cell_type": "markdown",
   "id": "4b18f420-5d8c-44f4-868e-a48d4f41960f",
   "metadata": {},
   "source": [
    "### Step 2: Remove punctuation and special characters from the text"
   ]
  },
  {
   "cell_type": "code",
   "execution_count": 241,
   "id": "93f755ba-e13b-413a-952a-21e1bb9ea4cd",
   "metadata": {},
   "outputs": [],
   "source": [
    "# import libraries\n",
    "import string\n",
    "import re"
   ]
  },
  {
   "cell_type": "code",
   "execution_count": 242,
   "id": "8ee1d75b-8d38-4e7c-8b88-cac5e87781b8",
   "metadata": {},
   "outputs": [
    {
     "data": {
      "text/plain": [
       "\"with all this stuff going down at the moment with mj i've started listening to his music, watching the odd documentary here and there, watched the wiz and watched moonwalker again. maybe i just want to get a certain insight into this guy who i thought was really cool in the eighties just to maybe make up my mind whether he is guilty or innocent. moonwalker is part biography, part feature film which i remember going to see at the cinema when it was originally released. some of it has subtle messages about mj's feeling towards the press and also the obvious message of drugs are bad m'kay.  visually impressive but of course this is all about michael jackson so unless you remotely like mj in anyway then you are going to hate this and find it boring. some may call mj an egotist for consenting to the making of this movie but mj and most of his fans would say that he made it for the fans which if true is really nice of him.  the actual feature film bit when it finally starts is only on for 20 minutes or so excluding the smooth criminal sequence and joe pesci is convincing as a psychopathic all powerful drug lord. why he wants mj dead so bad is beyond me. because mj overheard his plans? nah, joe pesci's character ranted that he wanted people to know it is he who is supplying drugs etc so i dunno, maybe he just hates mj's music.  lots of cool things in this like mj turning into a car and a robot and the whole speed demon sequence. also, the director must have had the patience of a saint when it came to filming the kiddy bad sequence as usually directors hate working with one kid let alone a whole bunch of them performing a complex dance scene.  bottom line, this movie is for people who like mj on one level or another (which i think is most people). if not, then stay away. it does try and give off a wholesome message and ironically mj's bestest buddy in this movie is a girl! michael jackson is truly one of the most talented people ever to grace this planet but is he guilty? well, with all the attention i've gave this subject....hmmm well i don't know because people can be different behind closed doors, i know this for a fact. he is either an extremely nice but stupid guy or one of the most sickest liars. i hope he is not the latter.\""
      ]
     },
     "execution_count": 242,
     "metadata": {},
     "output_type": "execute_result"
    }
   ],
   "source": [
    "# removing html from text\n",
    "reviews_training_data['review_clean'] = reviews_training_data['review'].str.replace(r'<[^<>]*>', ' ', regex = True)\n",
    "reviews_training_data['review_clean'][0]"
   ]
  },
  {
   "cell_type": "code",
   "execution_count": 243,
   "id": "c35a6d39-19f0-4fb7-8082-662b4103abf3",
   "metadata": {},
   "outputs": [
    {
     "data": {
      "text/plain": [
       "'with all this stuff going down at the moment with mj ive started listening to his music watching the odd documentary here and there watched the wiz and watched moonwalker again maybe i just want to get a certain insight into this guy who i thought was really cool in the eighties just to maybe make up my mind whether he is guilty or innocent moonwalker is part biography part feature film which i remember going to see at the cinema when it was originally released some of it has subtle messages about mjs feeling towards the press and also the obvious message of drugs are bad mkay  visually impressive but of course this is all about michael jackson so unless you remotely like mj in anyway then you are going to hate this and find it boring some may call mj an egotist for consenting to the making of this movie but mj and most of his fans would say that he made it for the fans which if true is really nice of him  the actual feature film bit when it finally starts is only on for 20 minutes or so excluding the smooth criminal sequence and joe pesci is convincing as a psychopathic all powerful drug lord why he wants mj dead so bad is beyond me because mj overheard his plans nah joe pescis character ranted that he wanted people to know it is he who is supplying drugs etc so i dunno maybe he just hates mjs music  lots of cool things in this like mj turning into a car and a robot and the whole speed demon sequence also the director must have had the patience of a saint when it came to filming the kiddy bad sequence as usually directors hate working with one kid let alone a whole bunch of them performing a complex dance scene  bottom line this movie is for people who like mj on one level or another which i think is most people if not then stay away it does try and give off a wholesome message and ironically mjs bestest buddy in this movie is a girl michael jackson is truly one of the most talented people ever to grace this planet but is he guilty well with all the attention ive gave this subjecthmmm well i dont know because people can be different behind closed doors i know this for a fact he is either an extremely nice but stupid guy or one of the most sickest liars i hope he is not the latter'"
      ]
     },
     "execution_count": 243,
     "metadata": {},
     "output_type": "execute_result"
    }
   ],
   "source": [
    "\n",
    "# removing all punctuation from review and create new column\n",
    "reviews_training_data['review_clean'] = reviews_training_data['review_clean'].str.translate(str.maketrans('', '', string.punctuation))\n",
    "reviews_training_data['review_clean'][0]"
   ]
  },
  {
   "cell_type": "markdown",
   "id": "941a6f24-36ed-49a1-86d1-09a04171c5fa",
   "metadata": {},
   "source": [
    "### Step 3: Remove stop words"
   ]
  },
  {
   "cell_type": "code",
   "execution_count": 245,
   "id": "0f9bfe6f-d3d6-41de-9464-1caf76974ba7",
   "metadata": {},
   "outputs": [
    {
     "name": "stderr",
     "output_type": "stream",
     "text": [
      "[nltk_data] Downloading package stopwords to\n",
      "[nltk_data]     /Users/valuedcustomer/nltk_data...\n",
      "[nltk_data]   Package stopwords is already up-to-date!\n"
     ]
    }
   ],
   "source": [
    "# import libraries\n",
    "import nltk\n",
    "from nltk.corpus import stopwords\n",
    "nltk.download('stopwords')\n",
    "from nltk.tokenize import word_tokenize\n"
   ]
  },
  {
   "cell_type": "code",
   "execution_count": 246,
   "id": "d0072014-1e14-4c28-bc71-03c7a413ca85",
   "metadata": {},
   "outputs": [
    {
     "name": "stderr",
     "output_type": "stream",
     "text": [
      "[nltk_data] Downloading package punkt to\n",
      "[nltk_data]     /Users/valuedcustomer/nltk_data...\n",
      "[nltk_data]   Package punkt is already up-to-date!\n"
     ]
    },
    {
     "data": {
      "text/plain": [
       "True"
      ]
     },
     "execution_count": 246,
     "metadata": {},
     "output_type": "execute_result"
    }
   ],
   "source": [
    "\n",
    "import ssl\n",
    "\n",
    "try:\n",
    "    _create_unverified_https_context = ssl._create_unverified_context\n",
    "except AttributeError:\n",
    "    pass\n",
    "else:\n",
    "    ssl._create_default_https_context = _create_unverified_https_context\n",
    "\n",
    "nltk.download('punkt')"
   ]
  },
  {
   "cell_type": "code",
   "execution_count": 247,
   "id": "34607031-5881-41ab-9e95-7ef4b3540c95",
   "metadata": {},
   "outputs": [
    {
     "data": {
      "text/plain": [
       "['with',\n",
       " 'all',\n",
       " 'this',\n",
       " 'stuff',\n",
       " 'going',\n",
       " 'down',\n",
       " 'at',\n",
       " 'the',\n",
       " 'moment',\n",
       " 'with',\n",
       " 'mj',\n",
       " 'ive',\n",
       " 'started',\n",
       " 'listening',\n",
       " 'to',\n",
       " 'his',\n",
       " 'music',\n",
       " 'watching',\n",
       " 'the',\n",
       " 'odd',\n",
       " 'documentary',\n",
       " 'here',\n",
       " 'and',\n",
       " 'there',\n",
       " 'watched',\n",
       " 'the',\n",
       " 'wiz',\n",
       " 'and',\n",
       " 'watched',\n",
       " 'moonwalker',\n",
       " 'again',\n",
       " 'maybe',\n",
       " 'i',\n",
       " 'just',\n",
       " 'want',\n",
       " 'to',\n",
       " 'get',\n",
       " 'a',\n",
       " 'certain',\n",
       " 'insight',\n",
       " 'into',\n",
       " 'this',\n",
       " 'guy',\n",
       " 'who',\n",
       " 'i',\n",
       " 'thought',\n",
       " 'was',\n",
       " 'really',\n",
       " 'cool',\n",
       " 'in',\n",
       " 'the',\n",
       " 'eighties',\n",
       " 'just',\n",
       " 'to',\n",
       " 'maybe',\n",
       " 'make',\n",
       " 'up',\n",
       " 'my',\n",
       " 'mind',\n",
       " 'whether',\n",
       " 'he',\n",
       " 'is',\n",
       " 'guilty',\n",
       " 'or',\n",
       " 'innocent',\n",
       " 'moonwalker',\n",
       " 'is',\n",
       " 'part',\n",
       " 'biography',\n",
       " 'part',\n",
       " 'feature',\n",
       " 'film',\n",
       " 'which',\n",
       " 'i',\n",
       " 'remember',\n",
       " 'going',\n",
       " 'to',\n",
       " 'see',\n",
       " 'at',\n",
       " 'the',\n",
       " 'cinema',\n",
       " 'when',\n",
       " 'it',\n",
       " 'was',\n",
       " 'originally',\n",
       " 'released',\n",
       " 'some',\n",
       " 'of',\n",
       " 'it',\n",
       " 'has',\n",
       " 'subtle',\n",
       " 'messages',\n",
       " 'about',\n",
       " 'mjs',\n",
       " 'feeling',\n",
       " 'towards',\n",
       " 'the',\n",
       " 'press',\n",
       " 'and',\n",
       " 'also',\n",
       " 'the',\n",
       " 'obvious',\n",
       " 'message',\n",
       " 'of',\n",
       " 'drugs',\n",
       " 'are',\n",
       " 'bad',\n",
       " 'mkay',\n",
       " 'visually',\n",
       " 'impressive',\n",
       " 'but',\n",
       " 'of',\n",
       " 'course',\n",
       " 'this',\n",
       " 'is',\n",
       " 'all',\n",
       " 'about',\n",
       " 'michael',\n",
       " 'jackson',\n",
       " 'so',\n",
       " 'unless',\n",
       " 'you',\n",
       " 'remotely',\n",
       " 'like',\n",
       " 'mj',\n",
       " 'in',\n",
       " 'anyway',\n",
       " 'then',\n",
       " 'you',\n",
       " 'are',\n",
       " 'going',\n",
       " 'to',\n",
       " 'hate',\n",
       " 'this',\n",
       " 'and',\n",
       " 'find',\n",
       " 'it',\n",
       " 'boring',\n",
       " 'some',\n",
       " 'may',\n",
       " 'call',\n",
       " 'mj',\n",
       " 'an',\n",
       " 'egotist',\n",
       " 'for',\n",
       " 'consenting',\n",
       " 'to',\n",
       " 'the',\n",
       " 'making',\n",
       " 'of',\n",
       " 'this',\n",
       " 'movie',\n",
       " 'but',\n",
       " 'mj',\n",
       " 'and',\n",
       " 'most',\n",
       " 'of',\n",
       " 'his',\n",
       " 'fans',\n",
       " 'would',\n",
       " 'say',\n",
       " 'that',\n",
       " 'he',\n",
       " 'made',\n",
       " 'it',\n",
       " 'for',\n",
       " 'the',\n",
       " 'fans',\n",
       " 'which',\n",
       " 'if',\n",
       " 'true',\n",
       " 'is',\n",
       " 'really',\n",
       " 'nice',\n",
       " 'of',\n",
       " 'him',\n",
       " 'the',\n",
       " 'actual',\n",
       " 'feature',\n",
       " 'film',\n",
       " 'bit',\n",
       " 'when',\n",
       " 'it',\n",
       " 'finally',\n",
       " 'starts',\n",
       " 'is',\n",
       " 'only',\n",
       " 'on',\n",
       " 'for',\n",
       " '20',\n",
       " 'minutes',\n",
       " 'or',\n",
       " 'so',\n",
       " 'excluding',\n",
       " 'the',\n",
       " 'smooth',\n",
       " 'criminal',\n",
       " 'sequence',\n",
       " 'and',\n",
       " 'joe',\n",
       " 'pesci',\n",
       " 'is',\n",
       " 'convincing',\n",
       " 'as',\n",
       " 'a',\n",
       " 'psychopathic',\n",
       " 'all',\n",
       " 'powerful',\n",
       " 'drug',\n",
       " 'lord',\n",
       " 'why',\n",
       " 'he',\n",
       " 'wants',\n",
       " 'mj',\n",
       " 'dead',\n",
       " 'so',\n",
       " 'bad',\n",
       " 'is',\n",
       " 'beyond',\n",
       " 'me',\n",
       " 'because',\n",
       " 'mj',\n",
       " 'overheard',\n",
       " 'his',\n",
       " 'plans',\n",
       " 'nah',\n",
       " 'joe',\n",
       " 'pescis',\n",
       " 'character',\n",
       " 'ranted',\n",
       " 'that',\n",
       " 'he',\n",
       " 'wanted',\n",
       " 'people',\n",
       " 'to',\n",
       " 'know',\n",
       " 'it',\n",
       " 'is',\n",
       " 'he',\n",
       " 'who',\n",
       " 'is',\n",
       " 'supplying',\n",
       " 'drugs',\n",
       " 'etc',\n",
       " 'so',\n",
       " 'i',\n",
       " 'dunno',\n",
       " 'maybe',\n",
       " 'he',\n",
       " 'just',\n",
       " 'hates',\n",
       " 'mjs',\n",
       " 'music',\n",
       " 'lots',\n",
       " 'of',\n",
       " 'cool',\n",
       " 'things',\n",
       " 'in',\n",
       " 'this',\n",
       " 'like',\n",
       " 'mj',\n",
       " 'turning',\n",
       " 'into',\n",
       " 'a',\n",
       " 'car',\n",
       " 'and',\n",
       " 'a',\n",
       " 'robot',\n",
       " 'and',\n",
       " 'the',\n",
       " 'whole',\n",
       " 'speed',\n",
       " 'demon',\n",
       " 'sequence',\n",
       " 'also',\n",
       " 'the',\n",
       " 'director',\n",
       " 'must',\n",
       " 'have',\n",
       " 'had',\n",
       " 'the',\n",
       " 'patience',\n",
       " 'of',\n",
       " 'a',\n",
       " 'saint',\n",
       " 'when',\n",
       " 'it',\n",
       " 'came',\n",
       " 'to',\n",
       " 'filming',\n",
       " 'the',\n",
       " 'kiddy',\n",
       " 'bad',\n",
       " 'sequence',\n",
       " 'as',\n",
       " 'usually',\n",
       " 'directors',\n",
       " 'hate',\n",
       " 'working',\n",
       " 'with',\n",
       " 'one',\n",
       " 'kid',\n",
       " 'let',\n",
       " 'alone',\n",
       " 'a',\n",
       " 'whole',\n",
       " 'bunch',\n",
       " 'of',\n",
       " 'them',\n",
       " 'performing',\n",
       " 'a',\n",
       " 'complex',\n",
       " 'dance',\n",
       " 'scene',\n",
       " 'bottom',\n",
       " 'line',\n",
       " 'this',\n",
       " 'movie',\n",
       " 'is',\n",
       " 'for',\n",
       " 'people',\n",
       " 'who',\n",
       " 'like',\n",
       " 'mj',\n",
       " 'on',\n",
       " 'one',\n",
       " 'level',\n",
       " 'or',\n",
       " 'another',\n",
       " 'which',\n",
       " 'i',\n",
       " 'think',\n",
       " 'is',\n",
       " 'most',\n",
       " 'people',\n",
       " 'if',\n",
       " 'not',\n",
       " 'then',\n",
       " 'stay',\n",
       " 'away',\n",
       " 'it',\n",
       " 'does',\n",
       " 'try',\n",
       " 'and',\n",
       " 'give',\n",
       " 'off',\n",
       " 'a',\n",
       " 'wholesome',\n",
       " 'message',\n",
       " 'and',\n",
       " 'ironically',\n",
       " 'mjs',\n",
       " 'bestest',\n",
       " 'buddy',\n",
       " 'in',\n",
       " 'this',\n",
       " 'movie',\n",
       " 'is',\n",
       " 'a',\n",
       " 'girl',\n",
       " 'michael',\n",
       " 'jackson',\n",
       " 'is',\n",
       " 'truly',\n",
       " 'one',\n",
       " 'of',\n",
       " 'the',\n",
       " 'most',\n",
       " 'talented',\n",
       " 'people',\n",
       " 'ever',\n",
       " 'to',\n",
       " 'grace',\n",
       " 'this',\n",
       " 'planet',\n",
       " 'but',\n",
       " 'is',\n",
       " 'he',\n",
       " 'guilty',\n",
       " 'well',\n",
       " 'with',\n",
       " 'all',\n",
       " 'the',\n",
       " 'attention',\n",
       " 'ive',\n",
       " 'gave',\n",
       " 'this',\n",
       " 'subjecthmmm',\n",
       " 'well',\n",
       " 'i',\n",
       " 'dont',\n",
       " 'know',\n",
       " 'because',\n",
       " 'people',\n",
       " 'can',\n",
       " 'be',\n",
       " 'different',\n",
       " 'behind',\n",
       " 'closed',\n",
       " 'doors',\n",
       " 'i',\n",
       " 'know',\n",
       " 'this',\n",
       " 'for',\n",
       " 'a',\n",
       " 'fact',\n",
       " 'he',\n",
       " 'is',\n",
       " 'either',\n",
       " 'an',\n",
       " 'extremely',\n",
       " 'nice',\n",
       " 'but',\n",
       " 'stupid',\n",
       " 'guy',\n",
       " 'or',\n",
       " 'one',\n",
       " 'of',\n",
       " 'the',\n",
       " 'most',\n",
       " 'sickest',\n",
       " 'liars',\n",
       " 'i',\n",
       " 'hope',\n",
       " 'he',\n",
       " 'is',\n",
       " 'not',\n",
       " 'the',\n",
       " 'latter']"
      ]
     },
     "execution_count": 247,
     "metadata": {},
     "output_type": "execute_result"
    }
   ],
   "source": [
    "# tokenize text into new column\n",
    "reviews_training_data['tokenized_review'] = reviews_training_data['review_clean'].apply(word_tokenize)\n",
    "reviews_training_data['tokenized_review'][0]"
   ]
  },
  {
   "cell_type": "code",
   "execution_count": 248,
   "id": "516dc0b9-01d0-4fca-a8fe-192633551d58",
   "metadata": {},
   "outputs": [],
   "source": [
    "# loading stop words\n",
    "stop_words = stopwords.words('english')"
   ]
  },
  {
   "cell_type": "code",
   "execution_count": 249,
   "id": "b5dbb35e-240a-4324-86ef-a48ad7978f63",
   "metadata": {},
   "outputs": [
    {
     "data": {
      "text/plain": [
       "['stuff',\n",
       " 'going',\n",
       " 'moment',\n",
       " 'mj',\n",
       " 'ive',\n",
       " 'started',\n",
       " 'listening',\n",
       " 'music',\n",
       " 'watching',\n",
       " 'odd',\n",
       " 'documentary',\n",
       " 'watched',\n",
       " 'wiz',\n",
       " 'watched',\n",
       " 'moonwalker',\n",
       " 'maybe',\n",
       " 'want',\n",
       " 'get',\n",
       " 'certain',\n",
       " 'insight',\n",
       " 'guy',\n",
       " 'thought',\n",
       " 'really',\n",
       " 'cool',\n",
       " 'eighties',\n",
       " 'maybe',\n",
       " 'make',\n",
       " 'mind',\n",
       " 'whether',\n",
       " 'guilty',\n",
       " 'innocent',\n",
       " 'moonwalker',\n",
       " 'part',\n",
       " 'biography',\n",
       " 'part',\n",
       " 'feature',\n",
       " 'film',\n",
       " 'remember',\n",
       " 'going',\n",
       " 'see',\n",
       " 'cinema',\n",
       " 'originally',\n",
       " 'released',\n",
       " 'subtle',\n",
       " 'messages',\n",
       " 'mjs',\n",
       " 'feeling',\n",
       " 'towards',\n",
       " 'press',\n",
       " 'also',\n",
       " 'obvious',\n",
       " 'message',\n",
       " 'drugs',\n",
       " 'bad',\n",
       " 'mkay',\n",
       " 'visually',\n",
       " 'impressive',\n",
       " 'course',\n",
       " 'michael',\n",
       " 'jackson',\n",
       " 'unless',\n",
       " 'remotely',\n",
       " 'like',\n",
       " 'mj',\n",
       " 'anyway',\n",
       " 'going',\n",
       " 'hate',\n",
       " 'find',\n",
       " 'boring',\n",
       " 'may',\n",
       " 'call',\n",
       " 'mj',\n",
       " 'egotist',\n",
       " 'consenting',\n",
       " 'making',\n",
       " 'movie',\n",
       " 'mj',\n",
       " 'fans',\n",
       " 'would',\n",
       " 'say',\n",
       " 'made',\n",
       " 'fans',\n",
       " 'true',\n",
       " 'really',\n",
       " 'nice',\n",
       " 'actual',\n",
       " 'feature',\n",
       " 'film',\n",
       " 'bit',\n",
       " 'finally',\n",
       " 'starts',\n",
       " '20',\n",
       " 'minutes',\n",
       " 'excluding',\n",
       " 'smooth',\n",
       " 'criminal',\n",
       " 'sequence',\n",
       " 'joe',\n",
       " 'pesci',\n",
       " 'convincing',\n",
       " 'psychopathic',\n",
       " 'powerful',\n",
       " 'drug',\n",
       " 'lord',\n",
       " 'wants',\n",
       " 'mj',\n",
       " 'dead',\n",
       " 'bad',\n",
       " 'beyond',\n",
       " 'mj',\n",
       " 'overheard',\n",
       " 'plans',\n",
       " 'nah',\n",
       " 'joe',\n",
       " 'pescis',\n",
       " 'character',\n",
       " 'ranted',\n",
       " 'wanted',\n",
       " 'people',\n",
       " 'know',\n",
       " 'supplying',\n",
       " 'drugs',\n",
       " 'etc',\n",
       " 'dunno',\n",
       " 'maybe',\n",
       " 'hates',\n",
       " 'mjs',\n",
       " 'music',\n",
       " 'lots',\n",
       " 'cool',\n",
       " 'things',\n",
       " 'like',\n",
       " 'mj',\n",
       " 'turning',\n",
       " 'car',\n",
       " 'robot',\n",
       " 'whole',\n",
       " 'speed',\n",
       " 'demon',\n",
       " 'sequence',\n",
       " 'also',\n",
       " 'director',\n",
       " 'must',\n",
       " 'patience',\n",
       " 'saint',\n",
       " 'came',\n",
       " 'filming',\n",
       " 'kiddy',\n",
       " 'bad',\n",
       " 'sequence',\n",
       " 'usually',\n",
       " 'directors',\n",
       " 'hate',\n",
       " 'working',\n",
       " 'one',\n",
       " 'kid',\n",
       " 'let',\n",
       " 'alone',\n",
       " 'whole',\n",
       " 'bunch',\n",
       " 'performing',\n",
       " 'complex',\n",
       " 'dance',\n",
       " 'scene',\n",
       " 'bottom',\n",
       " 'line',\n",
       " 'movie',\n",
       " 'people',\n",
       " 'like',\n",
       " 'mj',\n",
       " 'one',\n",
       " 'level',\n",
       " 'another',\n",
       " 'think',\n",
       " 'people',\n",
       " 'stay',\n",
       " 'away',\n",
       " 'try',\n",
       " 'give',\n",
       " 'wholesome',\n",
       " 'message',\n",
       " 'ironically',\n",
       " 'mjs',\n",
       " 'bestest',\n",
       " 'buddy',\n",
       " 'movie',\n",
       " 'girl',\n",
       " 'michael',\n",
       " 'jackson',\n",
       " 'truly',\n",
       " 'one',\n",
       " 'talented',\n",
       " 'people',\n",
       " 'ever',\n",
       " 'grace',\n",
       " 'planet',\n",
       " 'guilty',\n",
       " 'well',\n",
       " 'attention',\n",
       " 'ive',\n",
       " 'gave',\n",
       " 'subjecthmmm',\n",
       " 'well',\n",
       " 'dont',\n",
       " 'know',\n",
       " 'people',\n",
       " 'different',\n",
       " 'behind',\n",
       " 'closed',\n",
       " 'doors',\n",
       " 'know',\n",
       " 'fact',\n",
       " 'either',\n",
       " 'extremely',\n",
       " 'nice',\n",
       " 'stupid',\n",
       " 'guy',\n",
       " 'one',\n",
       " 'sickest',\n",
       " 'liars',\n",
       " 'hope',\n",
       " 'latter']"
      ]
     },
     "execution_count": 249,
     "metadata": {},
     "output_type": "execute_result"
    }
   ],
   "source": [
    "# removing stop words\n",
    "reviews_training_data['review_no_stopwords'] = reviews_training_data['tokenized_review'].apply(\n",
    "    lambda x: [item for item in x if item not in stop_words])\n",
    "\n",
    "reviews_training_data['review_no_stopwords'][0]"
   ]
  },
  {
   "cell_type": "markdown",
   "id": "27978c2e-b280-4a79-bea9-575c0ea434b0",
   "metadata": {},
   "source": [
    "### Step 4: Apply NLTK's PorterStemmer"
   ]
  },
  {
   "cell_type": "code",
   "execution_count": 251,
   "id": "3d5e2a2c-f17a-4156-8472-453034269dff",
   "metadata": {},
   "outputs": [],
   "source": [
    "# import libraries\n",
    "from nltk.stem.porter import PorterStemmer"
   ]
  },
  {
   "cell_type": "code",
   "execution_count": 252,
   "id": "ac9021c3-a742-46fc-ad76-0933e348355c",
   "metadata": {},
   "outputs": [],
   "source": [
    "# create stemmer\n",
    "porter = PorterStemmer()"
   ]
  },
  {
   "cell_type": "code",
   "execution_count": 253,
   "id": "7d3bf955-28f7-478a-90dc-abf459e5ba43",
   "metadata": {},
   "outputs": [],
   "source": [
    "# Apply stemmer\n",
    "def stem_review(words):\n",
    "    return [porter.stem(word) for word in words]\n",
    "    \n",
    "reviews_training_data['reviews_stemmer'] = reviews_training_data['review_no_stopwords'].apply(stem_review)"
   ]
  },
  {
   "cell_type": "code",
   "execution_count": 254,
   "id": "de363e66-91eb-4497-aa45-3380ccbe8f85",
   "metadata": {},
   "outputs": [
    {
     "data": {
      "text/plain": [
       "222"
      ]
     },
     "execution_count": 254,
     "metadata": {},
     "output_type": "execute_result"
    }
   ],
   "source": [
    "len(reviews_training_data['reviews_stemmer'][0])"
   ]
  },
  {
   "cell_type": "markdown",
   "id": "b2718152-eb2f-476e-b2fd-f156698de7a3",
   "metadata": {},
   "source": [
    "### Step 5: Create a bag-of-words matrix from your stemmed text (output from (4)), where each row is a word-count vector for a single movie review (see sections 5.3 & 6.8 in the Machine Learning with Python Cookbook). Display the dimensions of your bag-of-words matrix. The number of rows in this matrix should be the same as the number of rows in your original data frame."
   ]
  },
  {
   "cell_type": "code",
   "execution_count": 256,
   "id": "7b6c11cb-ae39-41f0-9b6e-6ba4fec15d99",
   "metadata": {},
   "outputs": [],
   "source": [
    "# import libraries\n",
    "import numpy as np\n",
    "from sklearn.feature_extraction.text import CountVectorizer"
   ]
  },
  {
   "cell_type": "code",
   "execution_count": 257,
   "id": "0c962c95-9d21-445f-a97c-58d2774602e3",
   "metadata": {},
   "outputs": [
    {
     "data": {
      "text/plain": [
       "array([[0, 0, 0, ..., 0, 0, 0],\n",
       "       [0, 0, 0, ..., 0, 0, 0],\n",
       "       [0, 0, 0, ..., 0, 0, 0],\n",
       "       ...,\n",
       "       [0, 0, 0, ..., 0, 0, 0],\n",
       "       [0, 0, 0, ..., 0, 0, 0],\n",
       "       [0, 0, 0, ..., 0, 0, 0]])"
      ]
     },
     "execution_count": 257,
     "metadata": {},
     "output_type": "execute_result"
    }
   ],
   "source": [
    "\n",
    "# Create bag of words feature matrix\n",
    "def bag_review(words):\n",
    "    return count.fit_transform(words)\n",
    "\n",
    "count = CountVectorizer()\n",
    "    \n",
    "reviews_training_data['review_bags'] = reviews_training_data['reviews_stemmer'].apply(bag_review)\n",
    "\n",
    "reviews_training_data['review_bags'][0].toarray()"
   ]
  },
  {
   "cell_type": "code",
   "execution_count": 258,
   "id": "6c761506-f474-45a1-86f9-1e481e67b563",
   "metadata": {},
   "outputs": [
    {
     "data": {
      "text/plain": [
       "(222, 158)"
      ]
     },
     "execution_count": 258,
     "metadata": {},
     "output_type": "execute_result"
    }
   ],
   "source": [
    "reviews_training_data['review_bags'][0].shape"
   ]
  },
  {
   "cell_type": "code",
   "execution_count": 259,
   "id": "288b55ab-aec6-4ebf-a895-fce93467b1a3",
   "metadata": {},
   "outputs": [
    {
     "data": {
      "text/plain": [
       "array(['age', 'alon', 'anim', 'beauti', 'broke', 'broken', 'cant',\n",
       "       'catharsi', 'child', 'chirin', 'choic', 'cri', 'cruelti', 'degrad',\n",
       "       'depth', 'doesnt', 'eat', 'encount', 'end', 'even', 'favourit',\n",
       "       'feel', 'follow', 'glad', 'great', 'grew', 'hard', 'heart', 'ill',\n",
       "       'im', 'intricaci', 'ive', 'kill', 'lamb', 'life', 'like', 'loneli',\n",
       "       'made', 'mani', 'mayb', 'mean', 'mother', 'mountain', 'movi',\n",
       "       'need', 'never', 'night', 'one', 'other', 'rare', 'repair', 'sad',\n",
       "       'saw', 'say', 'seen', 'someday', 'stori', 'tape', 'though',\n",
       "       'tomorrow', 'undon', 'unfair', 'unfinish', 'unusu', 'use', 'watch',\n",
       "       'wolf'], dtype=object)"
      ]
     },
     "execution_count": 259,
     "metadata": {},
     "output_type": "execute_result"
    }
   ],
   "source": [
    "count.get_feature_names_out()"
   ]
  },
  {
   "cell_type": "markdown",
   "id": "e1541ffa-fcfb-4808-a811-bc6687bc14f6",
   "metadata": {},
   "source": [
    "### Step 6: Create a term frequency-inverse document frequency (tf-idf) matrix from your stemmed text, for your movie reviews (see section 6.9 in the Machine Learning with Python Cookbook). Display the dimensions of your tf-idf matrix. These dimensions should be the same as your bag-of-words matrix."
   ]
  },
  {
   "cell_type": "code",
   "execution_count": 261,
   "id": "ac193490-d230-4b40-a4b6-1507df01a0d3",
   "metadata": {},
   "outputs": [],
   "source": [
    "# importing libraries\n",
    "from sklearn.feature_extraction.text import TfidfVectorizer"
   ]
  },
  {
   "cell_type": "code",
   "execution_count": 262,
   "id": "7c697651-04fb-449e-9d9b-f970060eb26d",
   "metadata": {},
   "outputs": [
    {
     "data": {
      "text/plain": [
       "array([[0., 0., 0., ..., 0., 0., 0.],\n",
       "       [0., 0., 0., ..., 0., 0., 0.],\n",
       "       [0., 0., 0., ..., 0., 0., 0.],\n",
       "       ...,\n",
       "       [0., 0., 0., ..., 0., 0., 0.],\n",
       "       [0., 0., 0., ..., 0., 0., 0.],\n",
       "       [0., 0., 0., ..., 0., 0., 0.]])"
      ]
     },
     "execution_count": 262,
     "metadata": {},
     "output_type": "execute_result"
    }
   ],
   "source": [
    "# Creating the tf-idf feature matrix\n",
    "def tfidf_review(words):\n",
    "    return tfidf.fit_transform(words)\n",
    "\n",
    "tfidf = TfidfVectorizer()\n",
    "    \n",
    "reviews_training_data['review_tfidf'] = reviews_training_data['reviews_stemmer'].apply(tfidf_review)\n",
    "\n",
    "reviews_training_data['review_tfidf'][0].toarray()\n"
   ]
  },
  {
   "cell_type": "code",
   "execution_count": 263,
   "id": "5501b02d-f59e-478f-890a-a2141d968f50",
   "metadata": {},
   "outputs": [
    {
     "data": {
      "text/plain": [
       "(222, 158)"
      ]
     },
     "execution_count": 263,
     "metadata": {},
     "output_type": "execute_result"
    }
   ],
   "source": [
    "reviews_training_data['review_tfidf'][0].shape"
   ]
  },
  {
   "cell_type": "code",
   "execution_count": 264,
   "id": "8ed8a77a-b974-4d8d-8d3d-ba82045eee20",
   "metadata": {},
   "outputs": [
    {
     "data": {
      "text/plain": [
       "{'saw': 52,\n",
       " 'movi': 43,\n",
       " 'child': 8,\n",
       " 'broke': 4,\n",
       " 'heart': 27,\n",
       " 'stori': 56,\n",
       " 'unfinish': 62,\n",
       " 'end': 18,\n",
       " 'grew': 25,\n",
       " 'mani': 38,\n",
       " 'great': 24,\n",
       " 'anim': 2,\n",
       " 'one': 47,\n",
       " 'favourit': 20,\n",
       " 'unusu': 63,\n",
       " 'unfair': 61,\n",
       " 'cruelti': 12,\n",
       " 'loneli': 36,\n",
       " 'life': 34,\n",
       " 'choic': 10,\n",
       " 'cant': 6,\n",
       " 'undon': 60,\n",
       " 'need': 44,\n",
       " 'other': 48,\n",
       " 'chirin': 9,\n",
       " 'made': 37,\n",
       " 'alon': 1,\n",
       " 'wolf': 66,\n",
       " 'kill': 32,\n",
       " 'mother': 41,\n",
       " 'follow': 22,\n",
       " 'mountain': 42,\n",
       " 'doesnt': 15,\n",
       " 'lamb': 33,\n",
       " 'even': 19,\n",
       " 'though': 58,\n",
       " 'night': 46,\n",
       " 'say': 53,\n",
       " 'mayb': 39,\n",
       " 'ill': 28,\n",
       " 'eat': 16,\n",
       " 'tomorrow': 59,\n",
       " 'tape': 57,\n",
       " 'broken': 5,\n",
       " 'degrad': 13,\n",
       " 'age': 0,\n",
       " 'use': 64,\n",
       " 'repair': 50,\n",
       " 'watch': 65,\n",
       " 'someday': 55,\n",
       " 'cri': 11,\n",
       " 'hard': 26,\n",
       " 'like': 35,\n",
       " 'depth': 14,\n",
       " 'feel': 21,\n",
       " 'intricaci': 30,\n",
       " 'mean': 40,\n",
       " 'rare': 49,\n",
       " 'sad': 51,\n",
       " 'ive': 31,\n",
       " 'never': 45,\n",
       " 'encount': 17,\n",
       " 'catharsi': 7,\n",
       " 'beauti': 3,\n",
       " 'glad': 23,\n",
       " 'seen': 54,\n",
       " 'im': 29}"
      ]
     },
     "execution_count": 264,
     "metadata": {},
     "output_type": "execute_result"
    }
   ],
   "source": [
    "# showing feature names\n",
    "tfidf.vocabulary_"
   ]
  }
 ],
 "metadata": {
  "kernelspec": {
   "display_name": "Python 3 (ipykernel)",
   "language": "python",
   "name": "python3"
  },
  "language_info": {
   "codemirror_mode": {
    "name": "ipython",
    "version": 3
   },
   "file_extension": ".py",
   "mimetype": "text/x-python",
   "name": "python",
   "nbconvert_exporter": "python",
   "pygments_lexer": "ipython3",
   "version": "3.11.7"
  }
 },
 "nbformat": 4,
 "nbformat_minor": 5
}
