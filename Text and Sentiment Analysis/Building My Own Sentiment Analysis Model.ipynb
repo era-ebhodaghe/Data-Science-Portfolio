{
 "cells": [
  {
   "cell_type": "markdown",
   "id": "773f147b-2a38-4bf1-8b2d-fe856ae6d3cb",
   "metadata": {},
   "source": [
    "## DSC 550 Exercise 5.2 - Build your own Sentiment Analysis Model"
   ]
  },
  {
   "cell_type": "markdown",
   "id": "52c0da50-a820-4469-aabd-44da1ccbc986",
   "metadata": {},
   "source": [
    "### Author: Era Ebhodaghe"
   ]
  },
  {
   "cell_type": "code",
   "execution_count": 116,
   "id": "c6f06cbc-55a0-4d78-a69c-af37463b5809",
   "metadata": {},
   "outputs": [
    {
     "name": "stderr",
     "output_type": "stream",
     "text": [
      "[nltk_data] Downloading package stopwords to\n",
      "[nltk_data]     /Users/valuedcustomer/nltk_data...\n",
      "[nltk_data]   Package stopwords is already up-to-date!\n",
      "[nltk_data] Downloading package punkt to\n",
      "[nltk_data]     /Users/valuedcustomer/nltk_data...\n",
      "[nltk_data]   Package punkt is already up-to-date!\n"
     ]
    }
   ],
   "source": [
    "#importing libraries\n",
    "\n",
    "import pandas as pd\n",
    "import nltk\n",
    "import string\n",
    "import re\n",
    "import numpy as np\n",
    "import matplotlib.pyplot as plt\n",
    "import seaborn as sns\n",
    "\n",
    "from sklearn.model_selection import train_test_split\n",
    "from sklearn.feature_extraction.text import TfidfVectorizer\n",
    "from sklearn.linear_model import LogisticRegression\n",
    "from sklearn import metrics\n",
    "from sklearn.metrics import accuracy_score, confusion_matrix, classification_report\n",
    "\n",
    "\n",
    "from nltk.corpus import stopwords\n",
    "from nltk.stem.porter import PorterStemmer\n",
    "from nltk.tokenize import word_tokenize\n",
    "nltk.download('stopwords')\n",
    "nltk.download('punkt')\n",
    "\n",
    "%matplotlib inline"
   ]
  },
  {
   "cell_type": "code",
   "execution_count": 117,
   "id": "7329d7f4-9012-47dc-a80c-dd4a03fe6202",
   "metadata": {},
   "outputs": [
    {
     "data": {
      "text/html": [
       "<div>\n",
       "<style scoped>\n",
       "    .dataframe tbody tr th:only-of-type {\n",
       "        vertical-align: middle;\n",
       "    }\n",
       "\n",
       "    .dataframe tbody tr th {\n",
       "        vertical-align: top;\n",
       "    }\n",
       "\n",
       "    .dataframe thead th {\n",
       "        text-align: right;\n",
       "    }\n",
       "</style>\n",
       "<table border=\"1\" class=\"dataframe\">\n",
       "  <thead>\n",
       "    <tr style=\"text-align: right;\">\n",
       "      <th></th>\n",
       "      <th>id</th>\n",
       "      <th>sentiment</th>\n",
       "      <th>review</th>\n",
       "    </tr>\n",
       "  </thead>\n",
       "  <tbody>\n",
       "    <tr>\n",
       "      <th>0</th>\n",
       "      <td>5814_8</td>\n",
       "      <td>1</td>\n",
       "      <td>With all this stuff going down at the moment w...</td>\n",
       "    </tr>\n",
       "    <tr>\n",
       "      <th>1</th>\n",
       "      <td>2381_9</td>\n",
       "      <td>1</td>\n",
       "      <td>\\The Classic War of the Worlds\\\" by Timothy Hi...</td>\n",
       "    </tr>\n",
       "    <tr>\n",
       "      <th>2</th>\n",
       "      <td>7759_3</td>\n",
       "      <td>0</td>\n",
       "      <td>The film starts with a manager (Nicholas Bell)...</td>\n",
       "    </tr>\n",
       "    <tr>\n",
       "      <th>3</th>\n",
       "      <td>3630_4</td>\n",
       "      <td>0</td>\n",
       "      <td>It must be assumed that those who praised this...</td>\n",
       "    </tr>\n",
       "    <tr>\n",
       "      <th>4</th>\n",
       "      <td>9495_8</td>\n",
       "      <td>1</td>\n",
       "      <td>Superbly trashy and wondrously unpretentious 8...</td>\n",
       "    </tr>\n",
       "  </tbody>\n",
       "</table>\n",
       "</div>"
      ],
      "text/plain": [
       "       id  sentiment                                             review\n",
       "0  5814_8          1  With all this stuff going down at the moment w...\n",
       "1  2381_9          1  \\The Classic War of the Worlds\\\" by Timothy Hi...\n",
       "2  7759_3          0  The film starts with a manager (Nicholas Bell)...\n",
       "3  3630_4          0  It must be assumed that those who praised this...\n",
       "4  9495_8          1  Superbly trashy and wondrously unpretentious 8..."
      ]
     },
     "execution_count": 117,
     "metadata": {},
     "output_type": "execute_result"
    }
   ],
   "source": [
    "# read bag of words meets bags of popcorn training data\n",
    "reviews_df = r'/Users/valuedcustomer/Downloads/labeledTrainData.tsv'\n",
    "reviews_df = pd.read_csv(reviews_df, delimiter  = '\\t')\n",
    "reviews_df.head()"
   ]
  },
  {
   "cell_type": "markdown",
   "id": "996439bc-bc3c-410b-90c8-620cf42ffa25",
   "metadata": {},
   "source": [
    "#### Step #1: Get the stemmed data using the same process you did in Week 3.\n"
   ]
  },
  {
   "cell_type": "code",
   "execution_count": 119,
   "id": "268bc7cf-045a-4bca-96b7-b6de67320882",
   "metadata": {},
   "outputs": [
    {
     "data": {
      "text/html": [
       "<div>\n",
       "<style scoped>\n",
       "    .dataframe tbody tr th:only-of-type {\n",
       "        vertical-align: middle;\n",
       "    }\n",
       "\n",
       "    .dataframe tbody tr th {\n",
       "        vertical-align: top;\n",
       "    }\n",
       "\n",
       "    .dataframe thead th {\n",
       "        text-align: right;\n",
       "    }\n",
       "</style>\n",
       "<table border=\"1\" class=\"dataframe\">\n",
       "  <thead>\n",
       "    <tr style=\"text-align: right;\">\n",
       "      <th></th>\n",
       "      <th>id</th>\n",
       "      <th>sentiment</th>\n",
       "      <th>review</th>\n",
       "    </tr>\n",
       "  </thead>\n",
       "  <tbody>\n",
       "    <tr>\n",
       "      <th>0</th>\n",
       "      <td>5814_8</td>\n",
       "      <td>1</td>\n",
       "      <td>with all this stuff going down at the moment w...</td>\n",
       "    </tr>\n",
       "    <tr>\n",
       "      <th>1</th>\n",
       "      <td>2381_9</td>\n",
       "      <td>1</td>\n",
       "      <td>\\the classic war of the worlds\\\" by timothy hi...</td>\n",
       "    </tr>\n",
       "    <tr>\n",
       "      <th>2</th>\n",
       "      <td>7759_3</td>\n",
       "      <td>0</td>\n",
       "      <td>the film starts with a manager (nicholas bell)...</td>\n",
       "    </tr>\n",
       "    <tr>\n",
       "      <th>3</th>\n",
       "      <td>3630_4</td>\n",
       "      <td>0</td>\n",
       "      <td>it must be assumed that those who praised this...</td>\n",
       "    </tr>\n",
       "    <tr>\n",
       "      <th>4</th>\n",
       "      <td>9495_8</td>\n",
       "      <td>1</td>\n",
       "      <td>superbly trashy and wondrously unpretentious 8...</td>\n",
       "    </tr>\n",
       "  </tbody>\n",
       "</table>\n",
       "</div>"
      ],
      "text/plain": [
       "       id  sentiment                                             review\n",
       "0  5814_8          1  with all this stuff going down at the moment w...\n",
       "1  2381_9          1  \\the classic war of the worlds\\\" by timothy hi...\n",
       "2  7759_3          0  the film starts with a manager (nicholas bell)...\n",
       "3  3630_4          0  it must be assumed that those who praised this...\n",
       "4  9495_8          1  superbly trashy and wondrously unpretentious 8..."
      ]
     },
     "execution_count": 119,
     "metadata": {},
     "output_type": "execute_result"
    }
   ],
   "source": [
    "# Convert reviews to lowercase\n",
    "reviews_df['review'] = reviews_df['review'].str.lower()\n",
    "reviews_df.head()"
   ]
  },
  {
   "cell_type": "code",
   "execution_count": 120,
   "id": "873077c5-f634-4242-a2e3-7808c9ae6569",
   "metadata": {},
   "outputs": [
    {
     "data": {
      "text/html": [
       "<div>\n",
       "<style scoped>\n",
       "    .dataframe tbody tr th:only-of-type {\n",
       "        vertical-align: middle;\n",
       "    }\n",
       "\n",
       "    .dataframe tbody tr th {\n",
       "        vertical-align: top;\n",
       "    }\n",
       "\n",
       "    .dataframe thead th {\n",
       "        text-align: right;\n",
       "    }\n",
       "</style>\n",
       "<table border=\"1\" class=\"dataframe\">\n",
       "  <thead>\n",
       "    <tr style=\"text-align: right;\">\n",
       "      <th></th>\n",
       "      <th>id</th>\n",
       "      <th>sentiment</th>\n",
       "      <th>review</th>\n",
       "    </tr>\n",
       "  </thead>\n",
       "  <tbody>\n",
       "    <tr>\n",
       "      <th>0</th>\n",
       "      <td>5814_8</td>\n",
       "      <td>1</td>\n",
       "      <td>with all this stuff going down at the moment w...</td>\n",
       "    </tr>\n",
       "    <tr>\n",
       "      <th>1</th>\n",
       "      <td>2381_9</td>\n",
       "      <td>1</td>\n",
       "      <td>\\the classic war of the worlds\\\" by timothy hi...</td>\n",
       "    </tr>\n",
       "    <tr>\n",
       "      <th>2</th>\n",
       "      <td>7759_3</td>\n",
       "      <td>0</td>\n",
       "      <td>the film starts with a manager (nicholas bell)...</td>\n",
       "    </tr>\n",
       "    <tr>\n",
       "      <th>3</th>\n",
       "      <td>3630_4</td>\n",
       "      <td>0</td>\n",
       "      <td>it must be assumed that those who praised this...</td>\n",
       "    </tr>\n",
       "    <tr>\n",
       "      <th>4</th>\n",
       "      <td>9495_8</td>\n",
       "      <td>1</td>\n",
       "      <td>superbly trashy and wondrously unpretentious 8...</td>\n",
       "    </tr>\n",
       "  </tbody>\n",
       "</table>\n",
       "</div>"
      ],
      "text/plain": [
       "       id  sentiment                                             review\n",
       "0  5814_8          1  with all this stuff going down at the moment w...\n",
       "1  2381_9          1  \\the classic war of the worlds\\\" by timothy hi...\n",
       "2  7759_3          0  the film starts with a manager (nicholas bell)...\n",
       "3  3630_4          0  it must be assumed that those who praised this...\n",
       "4  9495_8          1  superbly trashy and wondrously unpretentious 8..."
      ]
     },
     "execution_count": 120,
     "metadata": {},
     "output_type": "execute_result"
    }
   ],
   "source": [
    "# remove html from text\n",
    "reviews_df['review'] = reviews_df['review'].str.replace(r'<[^<>]*>', ' ', regex = True)\n",
    "reviews_df.head()"
   ]
  },
  {
   "cell_type": "code",
   "execution_count": 121,
   "id": "9a596c22-2396-446f-b7d6-3468d9b5d61a",
   "metadata": {},
   "outputs": [
    {
     "data": {
      "text/html": [
       "<div>\n",
       "<style scoped>\n",
       "    .dataframe tbody tr th:only-of-type {\n",
       "        vertical-align: middle;\n",
       "    }\n",
       "\n",
       "    .dataframe tbody tr th {\n",
       "        vertical-align: top;\n",
       "    }\n",
       "\n",
       "    .dataframe thead th {\n",
       "        text-align: right;\n",
       "    }\n",
       "</style>\n",
       "<table border=\"1\" class=\"dataframe\">\n",
       "  <thead>\n",
       "    <tr style=\"text-align: right;\">\n",
       "      <th></th>\n",
       "      <th>id</th>\n",
       "      <th>sentiment</th>\n",
       "      <th>review</th>\n",
       "    </tr>\n",
       "  </thead>\n",
       "  <tbody>\n",
       "    <tr>\n",
       "      <th>0</th>\n",
       "      <td>5814_8</td>\n",
       "      <td>1</td>\n",
       "      <td>with all this stuff going down at the moment w...</td>\n",
       "    </tr>\n",
       "    <tr>\n",
       "      <th>1</th>\n",
       "      <td>2381_9</td>\n",
       "      <td>1</td>\n",
       "      <td>the classic war of the worlds by timothy hines...</td>\n",
       "    </tr>\n",
       "    <tr>\n",
       "      <th>2</th>\n",
       "      <td>7759_3</td>\n",
       "      <td>0</td>\n",
       "      <td>the film starts with a manager nicholas bell g...</td>\n",
       "    </tr>\n",
       "    <tr>\n",
       "      <th>3</th>\n",
       "      <td>3630_4</td>\n",
       "      <td>0</td>\n",
       "      <td>it must be assumed that those who praised this...</td>\n",
       "    </tr>\n",
       "    <tr>\n",
       "      <th>4</th>\n",
       "      <td>9495_8</td>\n",
       "      <td>1</td>\n",
       "      <td>superbly trashy and wondrously unpretentious 8...</td>\n",
       "    </tr>\n",
       "  </tbody>\n",
       "</table>\n",
       "</div>"
      ],
      "text/plain": [
       "       id  sentiment                                             review\n",
       "0  5814_8          1  with all this stuff going down at the moment w...\n",
       "1  2381_9          1  the classic war of the worlds by timothy hines...\n",
       "2  7759_3          0  the film starts with a manager nicholas bell g...\n",
       "3  3630_4          0  it must be assumed that those who praised this...\n",
       "4  9495_8          1  superbly trashy and wondrously unpretentious 8..."
      ]
     },
     "execution_count": 121,
     "metadata": {},
     "output_type": "execute_result"
    }
   ],
   "source": [
    "# remove all punctuation from review and create new column\n",
    "reviews_df['review'] = reviews_df['review'].str.translate(str.maketrans('', '', string.punctuation))\n",
    "reviews_df.head()"
   ]
  },
  {
   "cell_type": "code",
   "execution_count": 122,
   "id": "85668aa3-2373-448e-b7b1-4a53a7ddb676",
   "metadata": {},
   "outputs": [
    {
     "data": {
      "text/html": [
       "<div>\n",
       "<style scoped>\n",
       "    .dataframe tbody tr th:only-of-type {\n",
       "        vertical-align: middle;\n",
       "    }\n",
       "\n",
       "    .dataframe tbody tr th {\n",
       "        vertical-align: top;\n",
       "    }\n",
       "\n",
       "    .dataframe thead th {\n",
       "        text-align: right;\n",
       "    }\n",
       "</style>\n",
       "<table border=\"1\" class=\"dataframe\">\n",
       "  <thead>\n",
       "    <tr style=\"text-align: right;\">\n",
       "      <th></th>\n",
       "      <th>id</th>\n",
       "      <th>sentiment</th>\n",
       "      <th>review</th>\n",
       "    </tr>\n",
       "  </thead>\n",
       "  <tbody>\n",
       "    <tr>\n",
       "      <th>0</th>\n",
       "      <td>5814_8</td>\n",
       "      <td>1</td>\n",
       "      <td>[with, all, this, stuff, going, down, at, the,...</td>\n",
       "    </tr>\n",
       "    <tr>\n",
       "      <th>1</th>\n",
       "      <td>2381_9</td>\n",
       "      <td>1</td>\n",
       "      <td>[the, classic, war, of, the, worlds, by, timot...</td>\n",
       "    </tr>\n",
       "    <tr>\n",
       "      <th>2</th>\n",
       "      <td>7759_3</td>\n",
       "      <td>0</td>\n",
       "      <td>[the, film, starts, with, a, manager, nicholas...</td>\n",
       "    </tr>\n",
       "    <tr>\n",
       "      <th>3</th>\n",
       "      <td>3630_4</td>\n",
       "      <td>0</td>\n",
       "      <td>[it, must, be, assumed, that, those, who, prai...</td>\n",
       "    </tr>\n",
       "    <tr>\n",
       "      <th>4</th>\n",
       "      <td>9495_8</td>\n",
       "      <td>1</td>\n",
       "      <td>[superbly, trashy, and, wondrously, unpretenti...</td>\n",
       "    </tr>\n",
       "  </tbody>\n",
       "</table>\n",
       "</div>"
      ],
      "text/plain": [
       "       id  sentiment                                             review\n",
       "0  5814_8          1  [with, all, this, stuff, going, down, at, the,...\n",
       "1  2381_9          1  [the, classic, war, of, the, worlds, by, timot...\n",
       "2  7759_3          0  [the, film, starts, with, a, manager, nicholas...\n",
       "3  3630_4          0  [it, must, be, assumed, that, those, who, prai...\n",
       "4  9495_8          1  [superbly, trashy, and, wondrously, unpretenti..."
      ]
     },
     "execution_count": 122,
     "metadata": {},
     "output_type": "execute_result"
    }
   ],
   "source": [
    "# tokenize text into new column\n",
    "reviews_df['review'] = reviews_df['review'].apply(word_tokenize)\n",
    "reviews_df.head()"
   ]
  },
  {
   "cell_type": "code",
   "execution_count": 123,
   "id": "74bd23c5-ba99-4c2b-8f2d-7b743fcb2235",
   "metadata": {},
   "outputs": [],
   "source": [
    "# load stop words\n",
    "stop_words = stopwords.words('english')"
   ]
  },
  {
   "cell_type": "code",
   "execution_count": 124,
   "id": "4c748b9b-2332-40a9-a984-ee727e3bf2a6",
   "metadata": {},
   "outputs": [
    {
     "data": {
      "text/html": [
       "<div>\n",
       "<style scoped>\n",
       "    .dataframe tbody tr th:only-of-type {\n",
       "        vertical-align: middle;\n",
       "    }\n",
       "\n",
       "    .dataframe tbody tr th {\n",
       "        vertical-align: top;\n",
       "    }\n",
       "\n",
       "    .dataframe thead th {\n",
       "        text-align: right;\n",
       "    }\n",
       "</style>\n",
       "<table border=\"1\" class=\"dataframe\">\n",
       "  <thead>\n",
       "    <tr style=\"text-align: right;\">\n",
       "      <th></th>\n",
       "      <th>id</th>\n",
       "      <th>sentiment</th>\n",
       "      <th>review</th>\n",
       "    </tr>\n",
       "  </thead>\n",
       "  <tbody>\n",
       "    <tr>\n",
       "      <th>0</th>\n",
       "      <td>5814_8</td>\n",
       "      <td>1</td>\n",
       "      <td>[stuff, going, moment, mj, ive, started, liste...</td>\n",
       "    </tr>\n",
       "    <tr>\n",
       "      <th>1</th>\n",
       "      <td>2381_9</td>\n",
       "      <td>1</td>\n",
       "      <td>[classic, war, worlds, timothy, hines, enterta...</td>\n",
       "    </tr>\n",
       "    <tr>\n",
       "      <th>2</th>\n",
       "      <td>7759_3</td>\n",
       "      <td>0</td>\n",
       "      <td>[film, starts, manager, nicholas, bell, giving...</td>\n",
       "    </tr>\n",
       "    <tr>\n",
       "      <th>3</th>\n",
       "      <td>3630_4</td>\n",
       "      <td>0</td>\n",
       "      <td>[must, assumed, praised, film, greatest, filme...</td>\n",
       "    </tr>\n",
       "    <tr>\n",
       "      <th>4</th>\n",
       "      <td>9495_8</td>\n",
       "      <td>1</td>\n",
       "      <td>[superbly, trashy, wondrously, unpretentious, ...</td>\n",
       "    </tr>\n",
       "  </tbody>\n",
       "</table>\n",
       "</div>"
      ],
      "text/plain": [
       "       id  sentiment                                             review\n",
       "0  5814_8          1  [stuff, going, moment, mj, ive, started, liste...\n",
       "1  2381_9          1  [classic, war, worlds, timothy, hines, enterta...\n",
       "2  7759_3          0  [film, starts, manager, nicholas, bell, giving...\n",
       "3  3630_4          0  [must, assumed, praised, film, greatest, filme...\n",
       "4  9495_8          1  [superbly, trashy, wondrously, unpretentious, ..."
      ]
     },
     "execution_count": 124,
     "metadata": {},
     "output_type": "execute_result"
    }
   ],
   "source": [
    "# Removing stop words from the review column\n",
    "reviews_df['review'] = reviews_df['review'].apply(lambda x: [item for item in x if item not in stop_words])\n",
    "\n",
    "reviews_df.head()"
   ]
  },
  {
   "cell_type": "code",
   "execution_count": 125,
   "id": "7917dc1f-8a18-4de6-9bb7-ce76963e0434",
   "metadata": {},
   "outputs": [
    {
     "data": {
      "text/html": [
       "<div>\n",
       "<style scoped>\n",
       "    .dataframe tbody tr th:only-of-type {\n",
       "        vertical-align: middle;\n",
       "    }\n",
       "\n",
       "    .dataframe tbody tr th {\n",
       "        vertical-align: top;\n",
       "    }\n",
       "\n",
       "    .dataframe thead th {\n",
       "        text-align: right;\n",
       "    }\n",
       "</style>\n",
       "<table border=\"1\" class=\"dataframe\">\n",
       "  <thead>\n",
       "    <tr style=\"text-align: right;\">\n",
       "      <th></th>\n",
       "      <th>id</th>\n",
       "      <th>sentiment</th>\n",
       "      <th>review</th>\n",
       "    </tr>\n",
       "  </thead>\n",
       "  <tbody>\n",
       "    <tr>\n",
       "      <th>0</th>\n",
       "      <td>5814_8</td>\n",
       "      <td>1</td>\n",
       "      <td>stuff,go,moment,mj,ive,start,listen,music,watc...</td>\n",
       "    </tr>\n",
       "    <tr>\n",
       "      <th>1</th>\n",
       "      <td>2381_9</td>\n",
       "      <td>1</td>\n",
       "      <td>classic,war,world,timothi,hine,entertain,film,...</td>\n",
       "    </tr>\n",
       "    <tr>\n",
       "      <th>2</th>\n",
       "      <td>7759_3</td>\n",
       "      <td>0</td>\n",
       "      <td>film,start,manag,nichola,bell,give,welcom,inve...</td>\n",
       "    </tr>\n",
       "    <tr>\n",
       "      <th>3</th>\n",
       "      <td>3630_4</td>\n",
       "      <td>0</td>\n",
       "      <td>must,assum,prais,film,greatest,film,opera,ever...</td>\n",
       "    </tr>\n",
       "    <tr>\n",
       "      <th>4</th>\n",
       "      <td>9495_8</td>\n",
       "      <td>1</td>\n",
       "      <td>superbl,trashi,wondrous,unpretenti,80,exploit,...</td>\n",
       "    </tr>\n",
       "  </tbody>\n",
       "</table>\n",
       "</div>"
      ],
      "text/plain": [
       "       id  sentiment                                             review\n",
       "0  5814_8          1  stuff,go,moment,mj,ive,start,listen,music,watc...\n",
       "1  2381_9          1  classic,war,world,timothi,hine,entertain,film,...\n",
       "2  7759_3          0  film,start,manag,nichola,bell,give,welcom,inve...\n",
       "3  3630_4          0  must,assum,prais,film,greatest,film,opera,ever...\n",
       "4  9495_8          1  superbl,trashi,wondrous,unpretenti,80,exploit,..."
      ]
     },
     "execution_count": 125,
     "metadata": {},
     "output_type": "execute_result"
    }
   ],
   "source": [
    "# creating stemmer\n",
    "porter = PorterStemmer()\n",
    "# Apply stemmer\n",
    "def stem_review(words):\n",
    "    stemmed = [porter.stem(word) for word in words]\n",
    "    return \",\".join(stemmed)\n",
    "    \n",
    "reviews_df['review'] = reviews_df['review'].apply(stem_review)\n",
    "\n",
    "reviews_df.head()"
   ]
  },
  {
   "cell_type": "markdown",
   "id": "c98280bd-abd0-4228-b4c2-baf0abedb806",
   "metadata": {},
   "source": [
    "#### Step #2: Split into a training and test set"
   ]
  },
  {
   "cell_type": "code",
   "execution_count": 127,
   "id": "9e2a2c05-80f7-4897-a918-878fd47d14c1",
   "metadata": {},
   "outputs": [],
   "source": [
    "# Split data into training and test data\n",
    "reviews_train, reviews_test = train_test_split(reviews_df, test_size = 0.2, random_state = 15)"
   ]
  },
  {
   "cell_type": "code",
   "execution_count": 128,
   "id": "00eac84d-a7b8-4cfc-9f32-a7a1aa4a903f",
   "metadata": {},
   "outputs": [
    {
     "data": {
      "text/html": [
       "<div>\n",
       "<style scoped>\n",
       "    .dataframe tbody tr th:only-of-type {\n",
       "        vertical-align: middle;\n",
       "    }\n",
       "\n",
       "    .dataframe tbody tr th {\n",
       "        vertical-align: top;\n",
       "    }\n",
       "\n",
       "    .dataframe thead th {\n",
       "        text-align: right;\n",
       "    }\n",
       "</style>\n",
       "<table border=\"1\" class=\"dataframe\">\n",
       "  <thead>\n",
       "    <tr style=\"text-align: right;\">\n",
       "      <th></th>\n",
       "      <th>id</th>\n",
       "      <th>sentiment</th>\n",
       "      <th>review</th>\n",
       "    </tr>\n",
       "  </thead>\n",
       "  <tbody>\n",
       "    <tr>\n",
       "      <th>14986</th>\n",
       "      <td>3249_9</td>\n",
       "      <td>1</td>\n",
       "      <td>corbin,bernsen,sent,letter,four,crimin,associ,...</td>\n",
       "    </tr>\n",
       "    <tr>\n",
       "      <th>1115</th>\n",
       "      <td>9194_1</td>\n",
       "      <td>0</td>\n",
       "      <td>ok,first,huge,zombi,movi,fan,love,romero,flick...</td>\n",
       "    </tr>\n",
       "    <tr>\n",
       "      <th>9687</th>\n",
       "      <td>2918_9</td>\n",
       "      <td>1</td>\n",
       "      <td>saw,cabl,back,late,1980,big,wrestl,fan,sinc,19...</td>\n",
       "    </tr>\n",
       "  </tbody>\n",
       "</table>\n",
       "</div>"
      ],
      "text/plain": [
       "           id  sentiment                                             review\n",
       "14986  3249_9          1  corbin,bernsen,sent,letter,four,crimin,associ,...\n",
       "1115   9194_1          0  ok,first,huge,zombi,movi,fan,love,romero,flick...\n",
       "9687   2918_9          1  saw,cabl,back,late,1980,big,wrestl,fan,sinc,19..."
      ]
     },
     "execution_count": 128,
     "metadata": {},
     "output_type": "execute_result"
    }
   ],
   "source": [
    "reviews_test.head(3)"
   ]
  },
  {
   "cell_type": "code",
   "execution_count": 129,
   "id": "c908384a-cb68-4aa2-a7e8-f933ca2490c9",
   "metadata": {},
   "outputs": [
    {
     "data": {
      "text/html": [
       "<div>\n",
       "<style scoped>\n",
       "    .dataframe tbody tr th:only-of-type {\n",
       "        vertical-align: middle;\n",
       "    }\n",
       "\n",
       "    .dataframe tbody tr th {\n",
       "        vertical-align: top;\n",
       "    }\n",
       "\n",
       "    .dataframe thead th {\n",
       "        text-align: right;\n",
       "    }\n",
       "</style>\n",
       "<table border=\"1\" class=\"dataframe\">\n",
       "  <thead>\n",
       "    <tr style=\"text-align: right;\">\n",
       "      <th></th>\n",
       "      <th>id</th>\n",
       "      <th>sentiment</th>\n",
       "      <th>review</th>\n",
       "    </tr>\n",
       "  </thead>\n",
       "  <tbody>\n",
       "    <tr>\n",
       "      <th>4297</th>\n",
       "      <td>1007_10</td>\n",
       "      <td>1</td>\n",
       "      <td>ok,let,get,clear,im,realli,scifi,reason,love,s...</td>\n",
       "    </tr>\n",
       "    <tr>\n",
       "      <th>22252</th>\n",
       "      <td>5962_4</td>\n",
       "      <td>0</td>\n",
       "      <td>paul,naschi,made,great,number,horror,film,term...</td>\n",
       "    </tr>\n",
       "    <tr>\n",
       "      <th>10447</th>\n",
       "      <td>10698_9</td>\n",
       "      <td>1</td>\n",
       "      <td>small,funni,film,total,incred,unbeliev,imposs,...</td>\n",
       "    </tr>\n",
       "  </tbody>\n",
       "</table>\n",
       "</div>"
      ],
      "text/plain": [
       "            id  sentiment                                             review\n",
       "4297   1007_10          1  ok,let,get,clear,im,realli,scifi,reason,love,s...\n",
       "22252   5962_4          0  paul,naschi,made,great,number,horror,film,term...\n",
       "10447  10698_9          1  small,funni,film,total,incred,unbeliev,imposs,..."
      ]
     },
     "execution_count": 129,
     "metadata": {},
     "output_type": "execute_result"
    }
   ],
   "source": [
    "reviews_train.head(3)"
   ]
  },
  {
   "cell_type": "markdown",
   "id": "b9c91996-c554-4841-a557-ec1bfde58c33",
   "metadata": {},
   "source": [
    "#### Step #3: Fit and apply the tf-idf vectorization to the training set"
   ]
  },
  {
   "cell_type": "code",
   "execution_count": 131,
   "id": "54c1bdc3-7339-4fc1-b251-55913313010c",
   "metadata": {},
   "outputs": [
    {
     "data": {
      "text/plain": [
       "array([[0., 0., 0., ..., 0., 0., 0.],\n",
       "       [0., 0., 0., ..., 0., 0., 0.],\n",
       "       [0., 0., 0., ..., 0., 0., 0.],\n",
       "       ...,\n",
       "       [0., 0., 0., ..., 0., 0., 0.],\n",
       "       [0., 0., 0., ..., 0., 0., 0.],\n",
       "       [0., 0., 0., ..., 0., 0., 0.]])"
      ]
     },
     "execution_count": 131,
     "metadata": {},
     "output_type": "execute_result"
    }
   ],
   "source": [
    "# Create the tf-idf feature matrix\n",
    "tfidf = TfidfVectorizer()\n",
    "    \n",
    "x_train = tfidf.fit_transform(reviews_train['review'])\n",
    "x_train.toarray()"
   ]
  },
  {
   "cell_type": "markdown",
   "id": "7b3d18b8-ef40-430c-8ea5-7c4a71416441",
   "metadata": {},
   "source": [
    "#### Step #4: Apply but DO NOT FIT the tf-idf vectorization to the test set (Why?)"
   ]
  },
  {
   "cell_type": "code",
   "execution_count": 133,
   "id": "8a83400d-b51b-4c10-bb3c-3352950ad4e2",
   "metadata": {},
   "outputs": [
    {
     "data": {
      "text/plain": [
       "array([[0., 0., 0., ..., 0., 0., 0.],\n",
       "       [0., 0., 0., ..., 0., 0., 0.],\n",
       "       [0., 0., 0., ..., 0., 0., 0.],\n",
       "       ...,\n",
       "       [0., 0., 0., ..., 0., 0., 0.],\n",
       "       [0., 0., 0., ..., 0., 0., 0.],\n",
       "       [0., 0., 0., ..., 0., 0., 0.]])"
      ]
     },
     "execution_count": 133,
     "metadata": {},
     "output_type": "execute_result"
    }
   ],
   "source": [
    "# Create the tf-idf feature matrix\n",
    "x_test = tfidf.transform(reviews_test['review'])\n",
    "x_test.toarray()"
   ]
  },
  {
   "cell_type": "code",
   "execution_count": 134,
   "id": "01b583de-d142-45f5-bd43-ccb6313ee643",
   "metadata": {},
   "outputs": [],
   "source": [
    "# Set up target variables\n",
    "y_train = reviews_train['sentiment']\n",
    "y_test = reviews_test['sentiment']"
   ]
  },
  {
   "cell_type": "markdown",
   "id": "11f5f839-723c-4d92-9902-39b77cdded4a",
   "metadata": {},
   "source": [
    "#### Step #5: Train a logistic regression using the training data"
   ]
  },
  {
   "cell_type": "code",
   "execution_count": 136,
   "id": "96ddf285-f376-4490-8c74-13de9b51e499",
   "metadata": {},
   "outputs": [
    {
     "name": "stdout",
     "output_type": "stream",
     "text": [
      "Train Score: 0.93295\n"
     ]
    }
   ],
   "source": [
    "logreg_model = LogisticRegression(random_state = 0, solver = 'liblinear').fit(x_train, y_train)\n",
    "train_score = logreg_model.score(x_train, y_train)\n",
    "print(f\"Train Score: {train_score}\")"
   ]
  },
  {
   "cell_type": "code",
   "execution_count": 137,
   "id": "8d826107-1770-453e-a7fb-732ada4e2cc3",
   "metadata": {},
   "outputs": [
    {
     "data": {
      "text/plain": [
       "array([0, 1])"
      ]
     },
     "execution_count": 137,
     "metadata": {},
     "output_type": "execute_result"
    }
   ],
   "source": [
    "logreg_model.classes_"
   ]
  },
  {
   "cell_type": "code",
   "execution_count": 138,
   "id": "ba50fc74-f972-4dbc-958c-11f338dea9a6",
   "metadata": {},
   "outputs": [
    {
     "data": {
      "text/plain": [
       "array([-0.00724973])"
      ]
     },
     "execution_count": 138,
     "metadata": {},
     "output_type": "execute_result"
    }
   ],
   "source": [
    "logreg_model.intercept_"
   ]
  },
  {
   "cell_type": "code",
   "execution_count": 139,
   "id": "344d32cd-8017-4c21-b6ba-07a3fed7aa39",
   "metadata": {},
   "outputs": [
    {
     "data": {
      "text/plain": [
       "array([[ 0.07180791, -0.00363687, -0.0402892 , ..., -0.1013593 ,\n",
       "        -0.01188908,  0.02402599]])"
      ]
     },
     "execution_count": 139,
     "metadata": {},
     "output_type": "execute_result"
    }
   ],
   "source": [
    "logreg_model.coef_"
   ]
  },
  {
   "cell_type": "markdown",
   "id": "183f84cc-3d7a-44bc-bb9b-d37cbc8cb726",
   "metadata": {},
   "source": [
    "#### Step #6: Find the model accuracy on the test"
   ]
  },
  {
   "cell_type": "code",
   "execution_count": 141,
   "id": "c3f5b529-d645-443f-bccb-432638c52e67",
   "metadata": {},
   "outputs": [
    {
     "data": {
      "text/plain": [
       "array([1, 0, 1, ..., 0, 0, 1])"
      ]
     },
     "execution_count": 141,
     "metadata": {},
     "output_type": "execute_result"
    }
   ],
   "source": [
    "y_pred = logreg_model.predict(x_test)\n",
    "y_pred"
   ]
  },
  {
   "cell_type": "code",
   "execution_count": 142,
   "id": "f4108109-4bba-4145-aac8-5cadfe4fc5eb",
   "metadata": {},
   "outputs": [
    {
     "name": "stdout",
     "output_type": "stream",
     "text": [
      "Test Score: 0.8872\n"
     ]
    }
   ],
   "source": [
    "test_score = accuracy_score(y_test, y_pred)\n",
    "\n",
    "print(f\"Test Score: {test_score}\")"
   ]
  },
  {
   "cell_type": "markdown",
   "id": "50f88ff9-3c2b-48fb-8c8b-f6e660392d47",
   "metadata": {},
   "source": [
    "#### Step #7 Create a confusion matrix for the test set predictions"
   ]
  },
  {
   "cell_type": "code",
   "execution_count": 144,
   "id": "290b7e73-4634-4434-9d05-325a40ab037e",
   "metadata": {},
   "outputs": [
    {
     "data": {
      "text/plain": [
       "(2, 2)"
      ]
     },
     "execution_count": 144,
     "metadata": {},
     "output_type": "execute_result"
    }
   ],
   "source": [
    "conf_matrix = confusion_matrix(y_test, y_pred)\n",
    "conf_matrix.shape"
   ]
  },
  {
   "cell_type": "code",
   "execution_count": 145,
   "id": "9400a849-5ca2-4ebe-9689-159ff7d4de6e",
   "metadata": {},
   "outputs": [
    {
     "data": {
      "text/plain": [
       "<Axes: >"
      ]
     },
     "execution_count": 145,
     "metadata": {},
     "output_type": "execute_result"
    },
    {
     "data": {
      "image/png": "[encoded data removed]",
      "text/plain": [
       "<Figure size 640x480 with 2 Axes>"
      ]
     },
     "metadata": {},
     "output_type": "display_data"
    }
   ],
   "source": [
    "\n",
    "sns.heatmap(conf_matrix / np.sum(conf_matrix), annot=True, fmt = '0.2%')"
   ]
  },
  {
   "cell_type": "markdown",
   "id": "b08619ba-37da-429a-8996-a3caff2058d7",
   "metadata": {},
   "source": [
    "#### Step #8: Get the precision, recall, and F1-score for the test set predictions"
   ]
  },
  {
   "cell_type": "code",
   "execution_count": 147,
   "id": "36f4bc86-d708-4a44-8f3c-c05c71f8c805",
   "metadata": {},
   "outputs": [
    {
     "name": "stdout",
     "output_type": "stream",
     "text": [
      "Report: \n",
      "              precision    recall  f1-score   support\n",
      "\n",
      "           0       0.90      0.87      0.89      2518\n",
      "           1       0.87      0.90      0.89      2482\n",
      "\n",
      "    accuracy                           0.89      5000\n",
      "   macro avg       0.89      0.89      0.89      5000\n",
      "weighted avg       0.89      0.89      0.89      5000\n",
      "\n"
     ]
    }
   ],
   "source": [
    "report = classification_report(y_test, y_pred)\n",
    "print('Report: ', report, sep = '\\n')"
   ]
  },
  {
   "cell_type": "markdown",
   "id": "8c506f68-497a-4968-b90e-421b4ce52ca2",
   "metadata": {},
   "source": [
    "#### Step #9: Create a ROC curve for the test set"
   ]
  },
  {
   "cell_type": "code",
   "execution_count": 149,
   "id": "6a44df43-d05d-487d-89cf-68e9c4e4e0e7",
   "metadata": {},
   "outputs": [
    {
     "data": {
      "image/png": "[encoded data removed]",
      "text/plain": [
       "<Figure size 640x480 with 1 Axes>"
      ]
     },
     "metadata": {},
     "output_type": "display_data"
    }
   ],
   "source": [
    "fpr, tpr, _ = metrics.roc_curve(y_test,  y_pred)\n",
    "auc = metrics.roc_auc_score(y_test, y_pred)\n",
    "\n",
    "plt.plot(fpr, tpr, label = \"AUC=\" + str(auc))\n",
    "plt.ylabel('True Positive Rate')\n",
    "plt.xlabel('False Positive Rate')\n",
    "plt.legend(loc = \"lower right\")\n",
    "plt.show()"
   ]
  },
  {
   "cell_type": "markdown",
   "id": "a2fd883e-99d5-4060-9ef0-d866573a5f04",
   "metadata": {},
   "source": [
    "#### The area under the ROC curve is closer to 1 and is closer to the top left corner of the plot. This indicates a good model which is better than a random guess."
   ]
  },
  {
   "cell_type": "markdown",
   "id": "7b2fff36-1f30-4324-a08c-b54b53cd9223",
   "metadata": {},
   "source": [
    "### Step #10: Pick another classification model you learned about this week and repeat steps (5) - (9)"
   ]
  },
  {
   "cell_type": "markdown",
   "id": "5620fb5e-a60b-47d8-8aae-831b2cab9b44",
   "metadata": {},
   "source": [
    "#### Step #5: Using Random Forests - Training RF using the training data"
   ]
  },
  {
   "cell_type": "code",
   "execution_count": 153,
   "id": "13d3cee5-a71b-4867-b037-bf981430d7d3",
   "metadata": {},
   "outputs": [],
   "source": [
    "from sklearn.ensemble import RandomForestClassifier"
   ]
  },
  {
   "cell_type": "code",
   "execution_count": 154,
   "id": "87cc5478-7668-4cba-92dc-25efa6494481",
   "metadata": {},
   "outputs": [],
   "source": [
    "rf = RandomForestClassifier()"
   ]
  },
  {
   "cell_type": "code",
   "execution_count": 155,
   "id": "dbc928ac-9547-4f2e-8190-24d562fd6ef0",
   "metadata": {},
   "outputs": [
    {
     "data": {
      "text/html": [
       "<style>#sk-container-id-3 {color: black;background-color: white;}#sk-container-id-3 pre{padding: 0;}#sk-container-id-3 div.sk-toggleable {background-color: white;}#sk-container-id-3 label.sk-toggleable__label {cursor: pointer;display: block;width: 100%;margin-bottom: 0;padding: 0.3em;box-sizing: border-box;text-align: center;}#sk-container-id-3 label.sk-toggleable__label-arrow:before {content: \"▸\";float: left;margin-right: 0.25em;color: #696969;}#sk-container-id-3 label.sk-toggleable__label-arrow:hover:before {color: black;}#sk-container-id-3 div.sk-estimator:hover label.sk-toggleable__label-arrow:before {color: black;}#sk-container-id-3 div.sk-toggleable__content {max-height: 0;max-width: 0;overflow: hidden;text-align: left;background-color: #f0f8ff;}#sk-container-id-3 div.sk-toggleable__content pre {margin: 0.2em;color: black;border-radius: 0.25em;background-color: #f0f8ff;}#sk-container-id-3 input.sk-toggleable__control:checked~div.sk-toggleable__content {max-height: 200px;max-width: 100%;overflow: auto;}#sk-container-id-3 input.sk-toggleable__control:checked~label.sk-toggleable__label-arrow:before {content: \"▾\";}#sk-container-id-3 div.sk-estimator input.sk-toggleable__control:checked~label.sk-toggleable__label {background-color: #d4ebff;}#sk-container-id-3 div.sk-label input.sk-toggleable__control:checked~label.sk-toggleable__label {background-color: #d4ebff;}#sk-container-id-3 input.sk-hidden--visually {border: 0;clip: rect(1px 1px 1px 1px);clip: rect(1px, 1px, 1px, 1px);height: 1px;margin: -1px;overflow: hidden;padding: 0;position: absolute;width: 1px;}#sk-container-id-3 div.sk-estimator {font-family: monospace;background-color: #f0f8ff;border: 1px dotted black;border-radius: 0.25em;box-sizing: border-box;margin-bottom: 0.5em;}#sk-container-id-3 div.sk-estimator:hover {background-color: #d4ebff;}#sk-container-id-3 div.sk-parallel-item::after {content: \"\";width: 100%;border-bottom: 1px solid gray;flex-grow: 1;}#sk-container-id-3 div.sk-label:hover label.sk-toggleable__label {background-color: #d4ebff;}#sk-container-id-3 div.sk-serial::before {content: \"\";position: absolute;border-left: 1px solid gray;box-sizing: border-box;top: 0;bottom: 0;left: 50%;z-index: 0;}#sk-container-id-3 div.sk-serial {display: flex;flex-direction: column;align-items: center;background-color: white;padding-right: 0.2em;padding-left: 0.2em;position: relative;}#sk-container-id-3 div.sk-item {position: relative;z-index: 1;}#sk-container-id-3 div.sk-parallel {display: flex;align-items: stretch;justify-content: center;background-color: white;position: relative;}#sk-container-id-3 div.sk-item::before, #sk-container-id-3 div.sk-parallel-item::before {content: \"\";position: absolute;border-left: 1px solid gray;box-sizing: border-box;top: 0;bottom: 0;left: 50%;z-index: -1;}#sk-container-id-3 div.sk-parallel-item {display: flex;flex-direction: column;z-index: 1;position: relative;background-color: white;}#sk-container-id-3 div.sk-parallel-item:first-child::after {align-self: flex-end;width: 50%;}#sk-container-id-3 div.sk-parallel-item:last-child::after {align-self: flex-start;width: 50%;}#sk-container-id-3 div.sk-parallel-item:only-child::after {width: 0;}#sk-container-id-3 div.sk-dashed-wrapped {border: 1px dashed gray;margin: 0 0.4em 0.5em 0.4em;box-sizing: border-box;padding-bottom: 0.4em;background-color: white;}#sk-container-id-3 div.sk-label label {font-family: monospace;font-weight: bold;display: inline-block;line-height: 1.2em;}#sk-container-id-3 div.sk-label-container {text-align: center;}#sk-container-id-3 div.sk-container {/* jupyter's `normalize.less` sets `[hidden] { display: none; }` but bootstrap.min.css set `[hidden] { display: none !important; }` so we also need the `!important` here to be able to override the default hidden behavior on the sphinx rendered scikit-learn.org. See: https://github.com/scikit-learn/scikit-learn/issues/21755 */display: inline-block !important;position: relative;}#sk-container-id-3 div.sk-text-repr-fallback {display: none;}</style><div id=\"sk-container-id-3\" class=\"sk-top-container\"><div class=\"sk-text-repr-fallback\"><pre>RandomForestClassifier()</pre><b>In a Jupyter environment, please rerun this cell to show the HTML representation or trust the notebook. <br />On GitHub, the HTML representation is unable to render, please try loading this page with nbviewer.org.</b></div><div class=\"sk-container\" hidden><div class=\"sk-item\"><div class=\"sk-estimator sk-toggleable\"><input class=\"sk-toggleable__control sk-hidden--visually\" id=\"sk-estimator-id-3\" type=\"checkbox\" checked><label for=\"sk-estimator-id-3\" class=\"sk-toggleable__label sk-toggleable__label-arrow\">RandomForestClassifier</label><div class=\"sk-toggleable__content\"><pre>RandomForestClassifier()</pre></div></div></div></div></div>"
      ],
      "text/plain": [
       "RandomForestClassifier()"
      ]
     },
     "execution_count": 155,
     "metadata": {},
     "output_type": "execute_result"
    }
   ],
   "source": [
    "rf.fit(x_train, y_train)"
   ]
  },
  {
   "cell_type": "markdown",
   "id": "fd4ba646-2915-45fd-8469-c0da595c7aa1",
   "metadata": {},
   "source": [
    "#### Step #6: Find the accuracy of the model on test set (Random Forest)"
   ]
  },
  {
   "cell_type": "code",
   "execution_count": 157,
   "id": "0192dc62-3652-4133-b4c5-627ee41cfb63",
   "metadata": {},
   "outputs": [],
   "source": [
    "y_pred_rf = rf.predict(x_test)"
   ]
  },
  {
   "cell_type": "code",
   "execution_count": 158,
   "id": "31eba107-0b06-45b1-98bb-ae5a201373d2",
   "metadata": {},
   "outputs": [
    {
     "name": "stdout",
     "output_type": "stream",
     "text": [
      "Test Score: 0.8452\n"
     ]
    }
   ],
   "source": [
    "test_score_rf = accuracy_score(y_test, y_pred_rf)\n",
    "\n",
    "print(f\"Test Score: {test_score_rf}\")"
   ]
  },
  {
   "cell_type": "markdown",
   "id": "0e1fba2b-3a26-4cc1-b055-6f6a01b4e960",
   "metadata": {},
   "source": [
    "#### Step #7 Create a confusion matrix for the test set predictions (Random Forest)"
   ]
  },
  {
   "cell_type": "code",
   "execution_count": 160,
   "id": "96645cc4-9ff7-4140-b41b-b6b6cb0843a2",
   "metadata": {},
   "outputs": [
    {
     "data": {
      "text/plain": [
       "(2, 2)"
      ]
     },
     "execution_count": 160,
     "metadata": {},
     "output_type": "execute_result"
    }
   ],
   "source": [
    "conf_matrix_rf = confusion_matrix(y_test, y_pred_rf)\n",
    "conf_matrix_rf.shape"
   ]
  },
  {
   "cell_type": "code",
   "execution_count": 161,
   "id": "f2403352-1f0e-45c4-bf86-57fd1b0152f4",
   "metadata": {},
   "outputs": [
    {
     "data": {
      "text/plain": [
       "<Axes: >"
      ]
     },
     "execution_count": 161,
     "metadata": {},
     "output_type": "execute_result"
    },
    {
     "data": {
      "image/png": "[encoded data removed]",
      "text/plain": [
       "<Figure size 640x480 with 2 Axes>"
      ]
     },
     "metadata": {},
     "output_type": "display_data"
    }
   ],
   "source": [
    "sns.heatmap(conf_matrix_rf / np.sum(conf_matrix_rf), annot=True, fmt = '0.2%')"
   ]
  },
  {
   "cell_type": "markdown",
   "id": "a97ff8a6-969f-4f52-8334-4c0a3f02ebfb",
   "metadata": {},
   "source": [
    "#### Step #8: Get the precision, recall, and F1-score for the test set predictions (Random Forest)"
   ]
  },
  {
   "cell_type": "code",
   "execution_count": 163,
   "id": "1f0d5a8e-5a39-4568-b29c-fead536689d2",
   "metadata": {},
   "outputs": [
    {
     "name": "stdout",
     "output_type": "stream",
     "text": [
      "Report: \n",
      "              precision    recall  f1-score   support\n",
      "\n",
      "           0       0.84      0.86      0.85      2518\n",
      "           1       0.85      0.84      0.84      2482\n",
      "\n",
      "    accuracy                           0.85      5000\n",
      "   macro avg       0.85      0.85      0.85      5000\n",
      "weighted avg       0.85      0.85      0.85      5000\n",
      "\n"
     ]
    }
   ],
   "source": [
    "report_rf = classification_report(y_test, y_pred_rf)\n",
    "print('Report: ', report_rf, sep = '\\n')"
   ]
  },
  {
   "cell_type": "markdown",
   "id": "de6b074d-42a3-480c-97de-a04a7e6bb4bd",
   "metadata": {},
   "source": [
    "#### Step #9: Create a ROC curve for the test set (Random Forest)"
   ]
  },
  {
   "cell_type": "code",
   "execution_count": 165,
   "id": "d78e1ccd-c3a7-4e05-b7c3-66a5a3831805",
   "metadata": {},
   "outputs": [
    {
     "data": {
      "image/png": "[encoded data removed]",
      "text/plain": [
       "<Figure size 640x480 with 1 Axes>"
      ]
     },
     "metadata": {},
     "output_type": "display_data"
    }
   ],
   "source": [
    "fpr_rf, tpr_rf, _ = metrics.roc_curve(y_test,  y_pred_rf)\n",
    "auc_rf = metrics.roc_auc_score(y_test, y_pred_rf)\n",
    "\n",
    "plt.plot(fpr_rf, tpr_rf, label = \"AUC=\" + str(auc_rf))\n",
    "plt.ylabel('True Positive Rate')\n",
    "plt.xlabel('False Positive Rate')\n",
    "plt.legend(loc = \"lower right\")\n",
    "plt.show()"
   ]
  },
  {
   "cell_type": "markdown",
   "id": "905faca4-a805-4fad-ba58-65fe5b5fc527",
   "metadata": {},
   "source": [
    "#### The random forest classifier is slightly worse than the Logistic Regression Model"
   ]
  }
 ],
 "metadata": {
  "kernelspec": {
   "display_name": "Python 3 (ipykernel)",
   "language": "python",
   "name": "python3"
  },
  "language_info": {
   "codemirror_mode": {
    "name": "ipython",
    "version": 3
   },
   "file_extension": ".py",
   "mimetype": "text/x-python",
   "name": "python",
   "nbconvert_exporter": "python",
   "pygments_lexer": "ipython3",
   "version": "3.11.7"
  }
 },
 "nbformat": 4,
 "nbformat_minor": 5
}
