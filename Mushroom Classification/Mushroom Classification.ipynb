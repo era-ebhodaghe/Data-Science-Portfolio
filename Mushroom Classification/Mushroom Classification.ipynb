{
 "cells": [
  {
   "cell_type": "markdown",
   "id": "63448f87-066b-4644-9a43-7a552965cdec",
   "metadata": {},
   "source": [
    "# DSC 550 Exercise 7.2"
   ]
  },
  {
   "cell_type": "markdown",
   "id": "18cd70d4-807e-43a8-85d7-c059798750a5",
   "metadata": {},
   "source": [
    "## Author: Era Ebhodaghe"
   ]
  },
  {
   "cell_type": "code",
   "execution_count": 648,
   "id": "bf2b18d4-3754-4b3e-b278-de0577950fd5",
   "metadata": {},
   "outputs": [],
   "source": [
    "#importing Libraries\n",
    "\n",
    "import pandas as pd\n",
    "import numpy as np\n",
    "\n",
    "from sklearn.linear_model import LinearRegression\n",
    "from sklearn.model_selection import train_test_split\n",
    "from sklearn.metrics import r2_score, mean_squared_error\n",
    "from sklearn.decomposition import PCA\n",
    "from sklearn.preprocessing import MinMaxScaler"
   ]
  },
  {
   "cell_type": "markdown",
   "id": "5f35bb7e-68ba-4efd-8dcf-1d4445a4f515",
   "metadata": {},
   "source": [
    "## Mushroom Classification"
   ]
  },
  {
   "cell_type": "markdown",
   "id": "ae9f2cb0-123b-456a-84ff-49dac84c7d9c",
   "metadata": {},
   "source": [
    "#### Step 1: Load data"
   ]
  },
  {
   "cell_type": "code",
   "execution_count": 680,
   "id": "88ea032f-69bb-4cf3-aa0e-72bae29e94b9",
   "metadata": {},
   "outputs": [
    {
     "data": {
      "text/html": [
       "<div>\n",
       "<style scoped>\n",
       "    .dataframe tbody tr th:only-of-type {\n",
       "        vertical-align: middle;\n",
       "    }\n",
       "\n",
       "    .dataframe tbody tr th {\n",
       "        vertical-align: top;\n",
       "    }\n",
       "\n",
       "    .dataframe thead th {\n",
       "        text-align: right;\n",
       "    }\n",
       "</style>\n",
       "<table border=\"1\" class=\"dataframe\">\n",
       "  <thead>\n",
       "    <tr style=\"text-align: right;\">\n",
       "      <th></th>\n",
       "      <th>class</th>\n",
       "      <th>cap-shape</th>\n",
       "      <th>cap-surface</th>\n",
       "      <th>cap-color</th>\n",
       "      <th>bruises</th>\n",
       "      <th>odor</th>\n",
       "      <th>gill-attachment</th>\n",
       "      <th>gill-spacing</th>\n",
       "      <th>gill-size</th>\n",
       "      <th>gill-color</th>\n",
       "      <th>...</th>\n",
       "      <th>stalk-surface-below-ring</th>\n",
       "      <th>stalk-color-above-ring</th>\n",
       "      <th>stalk-color-below-ring</th>\n",
       "      <th>veil-type</th>\n",
       "      <th>veil-color</th>\n",
       "      <th>ring-number</th>\n",
       "      <th>ring-type</th>\n",
       "      <th>spore-print-color</th>\n",
       "      <th>population</th>\n",
       "      <th>habitat</th>\n",
       "    </tr>\n",
       "  </thead>\n",
       "  <tbody>\n",
       "    <tr>\n",
       "      <th>0</th>\n",
       "      <td>p</td>\n",
       "      <td>x</td>\n",
       "      <td>s</td>\n",
       "      <td>n</td>\n",
       "      <td>t</td>\n",
       "      <td>p</td>\n",
       "      <td>f</td>\n",
       "      <td>c</td>\n",
       "      <td>n</td>\n",
       "      <td>k</td>\n",
       "      <td>...</td>\n",
       "      <td>s</td>\n",
       "      <td>w</td>\n",
       "      <td>w</td>\n",
       "      <td>p</td>\n",
       "      <td>w</td>\n",
       "      <td>o</td>\n",
       "      <td>p</td>\n",
       "      <td>k</td>\n",
       "      <td>s</td>\n",
       "      <td>u</td>\n",
       "    </tr>\n",
       "    <tr>\n",
       "      <th>1</th>\n",
       "      <td>e</td>\n",
       "      <td>x</td>\n",
       "      <td>s</td>\n",
       "      <td>y</td>\n",
       "      <td>t</td>\n",
       "      <td>a</td>\n",
       "      <td>f</td>\n",
       "      <td>c</td>\n",
       "      <td>b</td>\n",
       "      <td>k</td>\n",
       "      <td>...</td>\n",
       "      <td>s</td>\n",
       "      <td>w</td>\n",
       "      <td>w</td>\n",
       "      <td>p</td>\n",
       "      <td>w</td>\n",
       "      <td>o</td>\n",
       "      <td>p</td>\n",
       "      <td>n</td>\n",
       "      <td>n</td>\n",
       "      <td>g</td>\n",
       "    </tr>\n",
       "  </tbody>\n",
       "</table>\n",
       "<p>2 rows × 23 columns</p>\n",
       "</div>"
      ],
      "text/plain": [
       "  class cap-shape cap-surface cap-color bruises odor gill-attachment  \\\n",
       "0     p         x           s         n       t    p               f   \n",
       "1     e         x           s         y       t    a               f   \n",
       "\n",
       "  gill-spacing gill-size gill-color  ... stalk-surface-below-ring  \\\n",
       "0            c         n          k  ...                        s   \n",
       "1            c         b          k  ...                        s   \n",
       "\n",
       "  stalk-color-above-ring stalk-color-below-ring veil-type veil-color  \\\n",
       "0                      w                      w         p          w   \n",
       "1                      w                      w         p          w   \n",
       "\n",
       "  ring-number ring-type spore-print-color population habitat  \n",
       "0           o         p                 k          s       u  \n",
       "1           o         p                 n          n       g  \n",
       "\n",
       "[2 rows x 23 columns]"
      ]
     },
     "execution_count": 680,
     "metadata": {},
     "output_type": "execute_result"
    }
   ],
   "source": [
    "mushroom_df = pd.read_csv('/Users/valuedcustomer/Downloads/mushrooms.csv')\n",
    "mushroom_df.head(2)"
   ]
  },
  {
   "cell_type": "markdown",
   "id": "8f07e4ef-cb86-4dd7-bffc-9b6ad001d67c",
   "metadata": {},
   "source": [
    "#### Step 2: Convert all categorical features to dummy variables"
   ]
  },
  {
   "cell_type": "code",
   "execution_count": 682,
   "id": "99cdff3e-4334-41e7-8aa3-3b80acce5a72",
   "metadata": {},
   "outputs": [],
   "source": [
    "mushroom_df = mushroom_df.astype('category')"
   ]
  },
  {
   "cell_type": "code",
   "execution_count": 683,
   "id": "6677a7fd-7fd5-4ddf-9648-0543268a4497",
   "metadata": {},
   "outputs": [
    {
     "data": {
      "text/plain": [
       "class                       category\n",
       "cap-shape                   category\n",
       "cap-surface                 category\n",
       "cap-color                   category\n",
       "bruises                     category\n",
       "odor                        category\n",
       "gill-attachment             category\n",
       "gill-spacing                category\n",
       "gill-size                   category\n",
       "gill-color                  category\n",
       "stalk-shape                 category\n",
       "stalk-root                  category\n",
       "stalk-surface-above-ring    category\n",
       "stalk-surface-below-ring    category\n",
       "stalk-color-above-ring      category\n",
       "stalk-color-below-ring      category\n",
       "veil-type                   category\n",
       "veil-color                  category\n",
       "ring-number                 category\n",
       "ring-type                   category\n",
       "spore-print-color           category\n",
       "population                  category\n",
       "habitat                     category\n",
       "dtype: object"
      ]
     },
     "execution_count": 683,
     "metadata": {},
     "output_type": "execute_result"
    }
   ],
   "source": [
    "mushroom_df.dtypes"
   ]
  },
  {
   "cell_type": "code",
   "execution_count": 684,
   "id": "eb4b7f3c-7a50-4a30-88ff-3b3010cef343",
   "metadata": {},
   "outputs": [],
   "source": [
    "#using label encoder to change features to numerical values\n",
    "from sklearn.preprocessing import LabelEncoder\n",
    "le = LabelEncoder()\n",
    "for column in mushroom_df.columns:\n",
    "    mushroom_df[column] = le.fit_transform(mushroom_df[column])"
   ]
  },
  {
   "cell_type": "code",
   "execution_count": 685,
   "id": "abdff0f9-1cd5-4162-8405-72ecf6acda6d",
   "metadata": {},
   "outputs": [
    {
     "data": {
      "text/html": [
       "<div>\n",
       "<style scoped>\n",
       "    .dataframe tbody tr th:only-of-type {\n",
       "        vertical-align: middle;\n",
       "    }\n",
       "\n",
       "    .dataframe tbody tr th {\n",
       "        vertical-align: top;\n",
       "    }\n",
       "\n",
       "    .dataframe thead th {\n",
       "        text-align: right;\n",
       "    }\n",
       "</style>\n",
       "<table border=\"1\" class=\"dataframe\">\n",
       "  <thead>\n",
       "    <tr style=\"text-align: right;\">\n",
       "      <th></th>\n",
       "      <th>class</th>\n",
       "      <th>cap-shape</th>\n",
       "      <th>cap-surface</th>\n",
       "      <th>cap-color</th>\n",
       "      <th>bruises</th>\n",
       "      <th>odor</th>\n",
       "      <th>gill-attachment</th>\n",
       "      <th>gill-spacing</th>\n",
       "      <th>gill-size</th>\n",
       "      <th>gill-color</th>\n",
       "      <th>...</th>\n",
       "      <th>stalk-surface-below-ring</th>\n",
       "      <th>stalk-color-above-ring</th>\n",
       "      <th>stalk-color-below-ring</th>\n",
       "      <th>veil-type</th>\n",
       "      <th>veil-color</th>\n",
       "      <th>ring-number</th>\n",
       "      <th>ring-type</th>\n",
       "      <th>spore-print-color</th>\n",
       "      <th>population</th>\n",
       "      <th>habitat</th>\n",
       "    </tr>\n",
       "  </thead>\n",
       "  <tbody>\n",
       "    <tr>\n",
       "      <th>0</th>\n",
       "      <td>1</td>\n",
       "      <td>5</td>\n",
       "      <td>2</td>\n",
       "      <td>4</td>\n",
       "      <td>1</td>\n",
       "      <td>6</td>\n",
       "      <td>1</td>\n",
       "      <td>0</td>\n",
       "      <td>1</td>\n",
       "      <td>4</td>\n",
       "      <td>...</td>\n",
       "      <td>2</td>\n",
       "      <td>7</td>\n",
       "      <td>7</td>\n",
       "      <td>0</td>\n",
       "      <td>2</td>\n",
       "      <td>1</td>\n",
       "      <td>4</td>\n",
       "      <td>2</td>\n",
       "      <td>3</td>\n",
       "      <td>5</td>\n",
       "    </tr>\n",
       "    <tr>\n",
       "      <th>1</th>\n",
       "      <td>0</td>\n",
       "      <td>5</td>\n",
       "      <td>2</td>\n",
       "      <td>9</td>\n",
       "      <td>1</td>\n",
       "      <td>0</td>\n",
       "      <td>1</td>\n",
       "      <td>0</td>\n",
       "      <td>0</td>\n",
       "      <td>4</td>\n",
       "      <td>...</td>\n",
       "      <td>2</td>\n",
       "      <td>7</td>\n",
       "      <td>7</td>\n",
       "      <td>0</td>\n",
       "      <td>2</td>\n",
       "      <td>1</td>\n",
       "      <td>4</td>\n",
       "      <td>3</td>\n",
       "      <td>2</td>\n",
       "      <td>1</td>\n",
       "    </tr>\n",
       "    <tr>\n",
       "      <th>2</th>\n",
       "      <td>0</td>\n",
       "      <td>0</td>\n",
       "      <td>2</td>\n",
       "      <td>8</td>\n",
       "      <td>1</td>\n",
       "      <td>3</td>\n",
       "      <td>1</td>\n",
       "      <td>0</td>\n",
       "      <td>0</td>\n",
       "      <td>5</td>\n",
       "      <td>...</td>\n",
       "      <td>2</td>\n",
       "      <td>7</td>\n",
       "      <td>7</td>\n",
       "      <td>0</td>\n",
       "      <td>2</td>\n",
       "      <td>1</td>\n",
       "      <td>4</td>\n",
       "      <td>3</td>\n",
       "      <td>2</td>\n",
       "      <td>3</td>\n",
       "    </tr>\n",
       "  </tbody>\n",
       "</table>\n",
       "<p>3 rows × 23 columns</p>\n",
       "</div>"
      ],
      "text/plain": [
       "   class  cap-shape  cap-surface  cap-color  bruises  odor  gill-attachment  \\\n",
       "0      1          5            2          4        1     6                1   \n",
       "1      0          5            2          9        1     0                1   \n",
       "2      0          0            2          8        1     3                1   \n",
       "\n",
       "   gill-spacing  gill-size  gill-color  ...  stalk-surface-below-ring  \\\n",
       "0             0          1           4  ...                         2   \n",
       "1             0          0           4  ...                         2   \n",
       "2             0          0           5  ...                         2   \n",
       "\n",
       "   stalk-color-above-ring  stalk-color-below-ring  veil-type  veil-color  \\\n",
       "0                       7                       7          0           2   \n",
       "1                       7                       7          0           2   \n",
       "2                       7                       7          0           2   \n",
       "\n",
       "   ring-number  ring-type  spore-print-color  population  habitat  \n",
       "0            1          4                  2           3        5  \n",
       "1            1          4                  3           2        1  \n",
       "2            1          4                  3           2        3  \n",
       "\n",
       "[3 rows x 23 columns]"
      ]
     },
     "execution_count": 685,
     "metadata": {},
     "output_type": "execute_result"
    }
   ],
   "source": [
    "mushroom_df.head(3)"
   ]
  },
  {
   "cell_type": "markdown",
   "id": "d7f20101-79e9-49a2-9904-b26785cf16af",
   "metadata": {},
   "source": [
    "#### Step 3: Split the data into a training and test set"
   ]
  },
  {
   "cell_type": "code",
   "execution_count": 687,
   "id": "4574313e-6665-4459-b0c0-42f8303f64f0",
   "metadata": {},
   "outputs": [],
   "source": [
    "from sklearn.model_selection import train_test_split\n",
    "\n",
    "# Separate the target variable from the features\n",
    "X = mushroom_df.drop('class', axis=1)\n",
    "y = mushroom_df['class']\n",
    "\n",
    "# Split the data into training and test sets\n",
    "X_train, X_test, y_train, y_test = train_test_split(X, y, test_size=0.2, random_state=42)"
   ]
  },
  {
   "cell_type": "markdown",
   "id": "9fa99148-59f3-45ce-bdc0-ec4577d55963",
   "metadata": {},
   "source": [
    "#### Step 4: Fit a decision tree classifier on the training set"
   ]
  },
  {
   "cell_type": "code",
   "execution_count": 689,
   "id": "2304e638-8856-4960-b6e0-4b15a29dcd39",
   "metadata": {},
   "outputs": [
    {
     "name": "stdout",
     "output_type": "stream",
     "text": [
      "Accuracy: 1.0\n"
     ]
    }
   ],
   "source": [
    "from sklearn.tree import DecisionTreeClassifier\n",
    "from sklearn.metrics import accuracy_score\n",
    "\n",
    "# Initialize the decision tree classifier\n",
    "clf = DecisionTreeClassifier()\n",
    "\n",
    "# Fit the classifier on the training set\n",
    "clf.fit(X_train, y_train)\n",
    "\n",
    "# Predict the target variable for the test set\n",
    "y_pred = clf.predict(X_test)\n",
    "\n",
    "# Calculate the accuracy of the model\n",
    "accuracy = accuracy_score(y_test, y_pred)\n",
    "print(\"Accuracy:\", accuracy)"
   ]
  },
  {
   "cell_type": "markdown",
   "id": "9c62d850-ccbf-4a35-a2b6-cae1c9414478",
   "metadata": {},
   "source": [
    "#### Step 5: Create a confusion matrix for the model predictions on the the test set"
   ]
  },
  {
   "cell_type": "code",
   "execution_count": 691,
   "id": "3e9fe613-2e6b-4b91-a0b8-3573b997c691",
   "metadata": {},
   "outputs": [
    {
     "name": "stdout",
     "output_type": "stream",
     "text": [
      "Confusion Matrix:\n",
      "[[843   0]\n",
      " [  0 782]]\n"
     ]
    }
   ],
   "source": [
    "from sklearn.metrics import confusion_matrix\n",
    "\n",
    "# Create a confusion matrix\n",
    "confusion_mat = confusion_matrix(y_test, y_pred)\n",
    "print(\"Confusion Matrix:\")\n",
    "print(confusion_mat)"
   ]
  },
  {
   "cell_type": "markdown",
   "id": "76083316-3d2e-411b-9cbc-404c432e935e",
   "metadata": {},
   "source": [
    "#### Step 6: Create a visualization of the decision tree"
   ]
  },
  {
   "cell_type": "code",
   "execution_count": 693,
   "id": "1f5a65d7-726e-455b-b9c2-03a63d9dab72",
   "metadata": {},
   "outputs": [
    {
     "data": {
      "image/png": "[encoded data removed]",
      "text/plain": [
       "<Figure size 1200x800 with 1 Axes>"
      ]
     },
     "metadata": {},
     "output_type": "display_data"
    }
   ],
   "source": [
    "import matplotlib.pyplot as plt\n",
    "from sklearn.tree import plot_tree\n",
    "\n",
    "# Creating a visualization of the decision tree\n",
    "plt.figure(figsize=(12, 8))\n",
    "plot_tree(clf, filled=True, feature_names=X.columns)\n",
    "plt.show()"
   ]
  },
  {
   "cell_type": "markdown",
   "id": "438731ae-a2aa-40ba-bb4b-54d664a9fa10",
   "metadata": {},
   "source": [
    "#### Step 7 and 8: Use chi-square statistic selector to pick the five best features"
   ]
  },
  {
   "cell_type": "code",
   "execution_count": 695,
   "id": "661f1b3c-91a7-4277-9972-614458ab17ca",
   "metadata": {},
   "outputs": [
    {
     "name": "stdout",
     "output_type": "stream",
     "text": [
      "Selected Features: Index(['bruises', 'gill-size', 'gill-color', 'stalk-root', 'ring-type'], dtype='object')\n"
     ]
    }
   ],
   "source": [
    "from sklearn.feature_selection import SelectKBest\n",
    "from sklearn.feature_selection import chi2\n",
    "\n",
    "# Apply chi-square statistic selector to pick the five best features\n",
    "selector = SelectKBest(chi2, k=5)\n",
    "X_train_selected = selector.fit_transform(X_train, y_train)\n",
    "\n",
    "# Get the selected feature names\n",
    "selected_feature_names = X.columns[selector.get_support()]\n",
    "print(\"Selected Features:\", selected_feature_names)"
   ]
  },
  {
   "cell_type": "markdown",
   "id": "22fb674b-9a09-40b3-843f-5c55d3d907dd",
   "metadata": {},
   "source": [
    "#### Step 9: Repeat steps 4 and 5 with the five best features selected"
   ]
  },
  {
   "cell_type": "code",
   "execution_count": 697,
   "id": "ab460371-68f7-47a5-86d0-db3c26d017bc",
   "metadata": {},
   "outputs": [
    {
     "name": "stdout",
     "output_type": "stream",
     "text": [
      "Accuracy (Selected Features): 0.9747692307692307\n",
      "Confusion Matrix (Selected Features):\n",
      "[[843   0]\n",
      " [ 41 741]]\n"
     ]
    }
   ],
   "source": [
    "clf_selected = DecisionTreeClassifier()\n",
    "clf_selected.fit(X_train_selected, y_train)\n",
    "\n",
    "# Transform the test set with selected features\n",
    "X_test_selected = selector.transform(X_test)\n",
    "\n",
    "# Predict the target variable for the test set with selected features\n",
    "y_pred_selected = clf_selected.predict(X_test_selected)\n",
    "\n",
    "# Calculate the accuracy of the model with selected features\n",
    "accuracy_selected = accuracy_score(y_test, y_pred_selected)\n",
    "print(\"Accuracy (Selected Features):\", accuracy_selected)\n",
    "\n",
    "# Create a confusion matrix with selected features\n",
    "confusion_mat_selected = confusion_matrix(y_test, y_pred_selected)\n",
    "print(\"Confusion Matrix (Selected Features):\")\n",
    "print(confusion_mat_selected)"
   ]
  },
  {
   "cell_type": "markdown",
   "id": "56e1b647-9f48-412d-a9aa-f9826f2ecc58",
   "metadata": {},
   "source": [
    "#### Step 10: Summarize your findings"
   ]
  },
  {
   "cell_type": "markdown",
   "id": "54571833-e0ac-4464-9727-30b54765db99",
   "metadata": {},
   "source": [
    "#### In this analysis, we first loaded the Mushroom Classification dataset and converted all categorical features to dummy variables. Then, we split the data into training and test sets. Next, we trained a decision tree classifier on the training set and evaluated its accuracy on the test set. We also created a confusion matrix to understand the model's predictions in more detail.\n",
    "#### Additionally, we used the chi-square statistic selector to identify the five best features from the dataset. These features were selected based on their statistical significance in relation to the target variable. We repeated the steps of fitting the decision tree classifier and evaluating accuracy and confusion matrix using only the selected features.\n",
    "#### By comparing the accuracy and confusion matrices between the model with all features and the model with selected features, we can assess the impact of feature selection on the model's performance."
   ]
  },
  {
   "cell_type": "code",
   "execution_count": null,
   "id": "c6e34abe-fc3b-4fab-adf2-b74c491c9513",
   "metadata": {},
   "outputs": [],
   "source": []
  }
 ],
 "metadata": {
  "kernelspec": {
   "display_name": "Python 3 (ipykernel)",
   "language": "python",
   "name": "python3"
  },
  "language_info": {
   "codemirror_mode": {
    "name": "ipython",
    "version": 3
   },
   "file_extension": ".py",
   "mimetype": "text/x-python",
   "name": "python",
   "nbconvert_exporter": "python",
   "pygments_lexer": "ipython3",
   "version": "3.11.7"
  }
 },
 "nbformat": 4,
 "nbformat_minor": 5
}
