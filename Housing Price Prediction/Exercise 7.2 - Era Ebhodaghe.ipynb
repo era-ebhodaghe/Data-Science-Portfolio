{
 "cells": [
  {
   "cell_type": "markdown",
   "id": "63448f87-066b-4644-9a43-7a552965cdec",
   "metadata": {},
   "source": [
    "# Housing Price Prediction - Regression"
   ]
  },
  {
   "cell_type": "markdown",
   "id": "18cd70d4-807e-43a8-85d7-c059798750a5",
   "metadata": {},
   "source": [
    "## Author: Era Ebhodaghe"
   ]
  },
  {
   "cell_type": "code",
   "execution_count": 5,
   "id": "bf2b18d4-3754-4b3e-b278-de0577950fd5",
   "metadata": {},
   "outputs": [],
   "source": [
    "#importing Libraries\n",
    "\n",
    "import pandas as pd\n",
    "import numpy as np\n",
    "\n",
    "from sklearn.linear_model import LinearRegression\n",
    "from sklearn.model_selection import train_test_split\n",
    "from sklearn.metrics import r2_score, mean_squared_error\n",
    "from sklearn.decomposition import PCA\n",
    "from sklearn.preprocessing import MinMaxScaler"
   ]
  },
  {
   "cell_type": "markdown",
   "id": "c19018c2-2a69-4eb5-83ba-c9fe460d9fe7",
   "metadata": {},
   "source": [
    "## Part 1: PCA and Variance Threshold in a Linear Regression"
   ]
  },
  {
   "cell_type": "markdown",
   "id": "adaba6fd-4b39-4fa4-9aee-84c387682b02",
   "metadata": {},
   "source": [
    "#### Step 1: Load Dataset"
   ]
  },
  {
   "cell_type": "code",
   "execution_count": 8,
   "id": "a65ba0f3-c485-42d3-83d9-627a8cb3d6ef",
   "metadata": {},
   "outputs": [
    {
     "data": {
      "text/html": [
       "<div>\n",
       "<style scoped>\n",
       "    .dataframe tbody tr th:only-of-type {\n",
       "        vertical-align: middle;\n",
       "    }\n",
       "\n",
       "    .dataframe tbody tr th {\n",
       "        vertical-align: top;\n",
       "    }\n",
       "\n",
       "    .dataframe thead th {\n",
       "        text-align: right;\n",
       "    }\n",
       "</style>\n",
       "<table border=\"1\" class=\"dataframe\">\n",
       "  <thead>\n",
       "    <tr style=\"text-align: right;\">\n",
       "      <th></th>\n",
       "      <th>Id</th>\n",
       "      <th>MSSubClass</th>\n",
       "      <th>MSZoning</th>\n",
       "      <th>LotFrontage</th>\n",
       "      <th>LotArea</th>\n",
       "      <th>Street</th>\n",
       "      <th>Alley</th>\n",
       "      <th>LotShape</th>\n",
       "      <th>LandContour</th>\n",
       "      <th>Utilities</th>\n",
       "      <th>...</th>\n",
       "      <th>PoolArea</th>\n",
       "      <th>PoolQC</th>\n",
       "      <th>Fence</th>\n",
       "      <th>MiscFeature</th>\n",
       "      <th>MiscVal</th>\n",
       "      <th>MoSold</th>\n",
       "      <th>YrSold</th>\n",
       "      <th>SaleType</th>\n",
       "      <th>SaleCondition</th>\n",
       "      <th>SalePrice</th>\n",
       "    </tr>\n",
       "  </thead>\n",
       "  <tbody>\n",
       "    <tr>\n",
       "      <th>0</th>\n",
       "      <td>1</td>\n",
       "      <td>60</td>\n",
       "      <td>RL</td>\n",
       "      <td>65.0</td>\n",
       "      <td>8450</td>\n",
       "      <td>Pave</td>\n",
       "      <td>NaN</td>\n",
       "      <td>Reg</td>\n",
       "      <td>Lvl</td>\n",
       "      <td>AllPub</td>\n",
       "      <td>...</td>\n",
       "      <td>0</td>\n",
       "      <td>NaN</td>\n",
       "      <td>NaN</td>\n",
       "      <td>NaN</td>\n",
       "      <td>0</td>\n",
       "      <td>2</td>\n",
       "      <td>2008</td>\n",
       "      <td>WD</td>\n",
       "      <td>Normal</td>\n",
       "      <td>208500</td>\n",
       "    </tr>\n",
       "    <tr>\n",
       "      <th>1</th>\n",
       "      <td>2</td>\n",
       "      <td>20</td>\n",
       "      <td>RL</td>\n",
       "      <td>80.0</td>\n",
       "      <td>9600</td>\n",
       "      <td>Pave</td>\n",
       "      <td>NaN</td>\n",
       "      <td>Reg</td>\n",
       "      <td>Lvl</td>\n",
       "      <td>AllPub</td>\n",
       "      <td>...</td>\n",
       "      <td>0</td>\n",
       "      <td>NaN</td>\n",
       "      <td>NaN</td>\n",
       "      <td>NaN</td>\n",
       "      <td>0</td>\n",
       "      <td>5</td>\n",
       "      <td>2007</td>\n",
       "      <td>WD</td>\n",
       "      <td>Normal</td>\n",
       "      <td>181500</td>\n",
       "    </tr>\n",
       "  </tbody>\n",
       "</table>\n",
       "<p>2 rows × 81 columns</p>\n",
       "</div>"
      ],
      "text/plain": [
       "   Id  MSSubClass MSZoning  LotFrontage  LotArea Street Alley LotShape  \\\n",
       "0   1          60       RL         65.0     8450   Pave   NaN      Reg   \n",
       "1   2          20       RL         80.0     9600   Pave   NaN      Reg   \n",
       "\n",
       "  LandContour Utilities  ... PoolArea PoolQC Fence MiscFeature MiscVal MoSold  \\\n",
       "0         Lvl    AllPub  ...        0    NaN   NaN         NaN       0      2   \n",
       "1         Lvl    AllPub  ...        0    NaN   NaN         NaN       0      5   \n",
       "\n",
       "  YrSold  SaleType  SaleCondition  SalePrice  \n",
       "0   2008        WD         Normal     208500  \n",
       "1   2007        WD         Normal     181500  \n",
       "\n",
       "[2 rows x 81 columns]"
      ]
     },
     "execution_count": 8,
     "metadata": {},
     "output_type": "execute_result"
    }
   ],
   "source": [
    "#loading dataset\n",
    "housing_df = pd.read_csv('/Users/valuedcustomer/Downloads/house-prices-advanced-regression-techniques/train.csv')\n",
    "housing_df.head(2)"
   ]
  },
  {
   "cell_type": "markdown",
   "id": "e81f0334-ae66-44d8-8389-62c473898986",
   "metadata": {},
   "source": [
    "#### Step 2: Drop ID Column"
   ]
  },
  {
   "cell_type": "code",
   "execution_count": 10,
   "id": "6150a1f4-43de-4a09-8c1c-6b73b8fd11e4",
   "metadata": {},
   "outputs": [
    {
     "data": {
      "text/html": [
       "<div>\n",
       "<style scoped>\n",
       "    .dataframe tbody tr th:only-of-type {\n",
       "        vertical-align: middle;\n",
       "    }\n",
       "\n",
       "    .dataframe tbody tr th {\n",
       "        vertical-align: top;\n",
       "    }\n",
       "\n",
       "    .dataframe thead th {\n",
       "        text-align: right;\n",
       "    }\n",
       "</style>\n",
       "<table border=\"1\" class=\"dataframe\">\n",
       "  <thead>\n",
       "    <tr style=\"text-align: right;\">\n",
       "      <th></th>\n",
       "      <th>MSSubClass</th>\n",
       "      <th>MSZoning</th>\n",
       "      <th>LotFrontage</th>\n",
       "      <th>LotArea</th>\n",
       "      <th>Street</th>\n",
       "      <th>Alley</th>\n",
       "      <th>LotShape</th>\n",
       "      <th>LandContour</th>\n",
       "      <th>Utilities</th>\n",
       "      <th>LotConfig</th>\n",
       "      <th>...</th>\n",
       "      <th>PoolArea</th>\n",
       "      <th>PoolQC</th>\n",
       "      <th>Fence</th>\n",
       "      <th>MiscFeature</th>\n",
       "      <th>MiscVal</th>\n",
       "      <th>MoSold</th>\n",
       "      <th>YrSold</th>\n",
       "      <th>SaleType</th>\n",
       "      <th>SaleCondition</th>\n",
       "      <th>SalePrice</th>\n",
       "    </tr>\n",
       "  </thead>\n",
       "  <tbody>\n",
       "    <tr>\n",
       "      <th>0</th>\n",
       "      <td>60</td>\n",
       "      <td>RL</td>\n",
       "      <td>65.0</td>\n",
       "      <td>8450</td>\n",
       "      <td>Pave</td>\n",
       "      <td>NaN</td>\n",
       "      <td>Reg</td>\n",
       "      <td>Lvl</td>\n",
       "      <td>AllPub</td>\n",
       "      <td>Inside</td>\n",
       "      <td>...</td>\n",
       "      <td>0</td>\n",
       "      <td>NaN</td>\n",
       "      <td>NaN</td>\n",
       "      <td>NaN</td>\n",
       "      <td>0</td>\n",
       "      <td>2</td>\n",
       "      <td>2008</td>\n",
       "      <td>WD</td>\n",
       "      <td>Normal</td>\n",
       "      <td>208500</td>\n",
       "    </tr>\n",
       "    <tr>\n",
       "      <th>1</th>\n",
       "      <td>20</td>\n",
       "      <td>RL</td>\n",
       "      <td>80.0</td>\n",
       "      <td>9600</td>\n",
       "      <td>Pave</td>\n",
       "      <td>NaN</td>\n",
       "      <td>Reg</td>\n",
       "      <td>Lvl</td>\n",
       "      <td>AllPub</td>\n",
       "      <td>FR2</td>\n",
       "      <td>...</td>\n",
       "      <td>0</td>\n",
       "      <td>NaN</td>\n",
       "      <td>NaN</td>\n",
       "      <td>NaN</td>\n",
       "      <td>0</td>\n",
       "      <td>5</td>\n",
       "      <td>2007</td>\n",
       "      <td>WD</td>\n",
       "      <td>Normal</td>\n",
       "      <td>181500</td>\n",
       "    </tr>\n",
       "  </tbody>\n",
       "</table>\n",
       "<p>2 rows × 80 columns</p>\n",
       "</div>"
      ],
      "text/plain": [
       "   MSSubClass MSZoning  LotFrontage  LotArea Street Alley LotShape  \\\n",
       "0          60       RL         65.0     8450   Pave   NaN      Reg   \n",
       "1          20       RL         80.0     9600   Pave   NaN      Reg   \n",
       "\n",
       "  LandContour Utilities LotConfig  ... PoolArea PoolQC Fence MiscFeature  \\\n",
       "0         Lvl    AllPub    Inside  ...        0    NaN   NaN         NaN   \n",
       "1         Lvl    AllPub       FR2  ...        0    NaN   NaN         NaN   \n",
       "\n",
       "  MiscVal MoSold  YrSold  SaleType  SaleCondition  SalePrice  \n",
       "0       0      2    2008        WD         Normal     208500  \n",
       "1       0      5    2007        WD         Normal     181500  \n",
       "\n",
       "[2 rows x 80 columns]"
      ]
     },
     "execution_count": 10,
     "metadata": {},
     "output_type": "execute_result"
    }
   ],
   "source": [
    "housing_df = housing_df.drop('Id', axis = 1)\n",
    "housing_df.head(2)"
   ]
  },
  {
   "cell_type": "markdown",
   "id": "076b7d40-0ff1-42b8-b8e3-007d9fdb992a",
   "metadata": {},
   "source": [
    "#### Step 3: Fill in missing data with the median value for numerical columns"
   ]
  },
  {
   "cell_type": "code",
   "execution_count": 12,
   "id": "aeeefc42-0966-4feb-9462-9436cca07a25",
   "metadata": {},
   "outputs": [],
   "source": [
    "numerical_cols = housing_df.select_dtypes(include=np.number).columns\n",
    "housing_df[numerical_cols] = housing_df[numerical_cols].fillna(housing_df[numerical_cols].median())"
   ]
  },
  {
   "cell_type": "markdown",
   "id": "8c4730bc-7976-4415-87eb-885a0acc9b69",
   "metadata": {},
   "source": [
    "#### Step 4: Fill in missing data with the mode value for categorical columns"
   ]
  },
  {
   "cell_type": "code",
   "execution_count": 14,
   "id": "924b200b-e34a-40c8-8c3b-b3255e23af4a",
   "metadata": {},
   "outputs": [],
   "source": [
    "categorical_cols = housing_df.select_dtypes(include=object).columns\n",
    "housing_df[categorical_cols] = housing_df[categorical_cols].fillna(housing_df[categorical_cols].mode().iloc[0])"
   ]
  },
  {
   "cell_type": "markdown",
   "id": "28abbd43-f38c-4ad4-9804-3f6ba9b0f007",
   "metadata": {},
   "source": [
    "#### Step 5: Convert Categorical Columns to dummy variable"
   ]
  },
  {
   "cell_type": "code",
   "execution_count": 16,
   "id": "e2838cbe-38cc-4049-9018-5831c6cb97b6",
   "metadata": {},
   "outputs": [
    {
     "data": {
      "text/html": [
       "<div>\n",
       "<style scoped>\n",
       "    .dataframe tbody tr th:only-of-type {\n",
       "        vertical-align: middle;\n",
       "    }\n",
       "\n",
       "    .dataframe tbody tr th {\n",
       "        vertical-align: top;\n",
       "    }\n",
       "\n",
       "    .dataframe thead th {\n",
       "        text-align: right;\n",
       "    }\n",
       "</style>\n",
       "<table border=\"1\" class=\"dataframe\">\n",
       "  <thead>\n",
       "    <tr style=\"text-align: right;\">\n",
       "      <th></th>\n",
       "      <th>MSSubClass</th>\n",
       "      <th>LotFrontage</th>\n",
       "      <th>LotArea</th>\n",
       "      <th>OverallQual</th>\n",
       "      <th>OverallCond</th>\n",
       "      <th>YearBuilt</th>\n",
       "      <th>YearRemodAdd</th>\n",
       "      <th>MasVnrArea</th>\n",
       "      <th>BsmtFinSF1</th>\n",
       "      <th>BsmtFinSF2</th>\n",
       "      <th>...</th>\n",
       "      <th>SaleType_ConLw</th>\n",
       "      <th>SaleType_New</th>\n",
       "      <th>SaleType_Oth</th>\n",
       "      <th>SaleType_WD</th>\n",
       "      <th>SaleCondition_Abnorml</th>\n",
       "      <th>SaleCondition_AdjLand</th>\n",
       "      <th>SaleCondition_Alloca</th>\n",
       "      <th>SaleCondition_Family</th>\n",
       "      <th>SaleCondition_Normal</th>\n",
       "      <th>SaleCondition_Partial</th>\n",
       "    </tr>\n",
       "  </thead>\n",
       "  <tbody>\n",
       "    <tr>\n",
       "      <th>0</th>\n",
       "      <td>60</td>\n",
       "      <td>65.0</td>\n",
       "      <td>8450</td>\n",
       "      <td>7</td>\n",
       "      <td>5</td>\n",
       "      <td>2003</td>\n",
       "      <td>2003</td>\n",
       "      <td>196.0</td>\n",
       "      <td>706</td>\n",
       "      <td>0</td>\n",
       "      <td>...</td>\n",
       "      <td>False</td>\n",
       "      <td>False</td>\n",
       "      <td>False</td>\n",
       "      <td>True</td>\n",
       "      <td>False</td>\n",
       "      <td>False</td>\n",
       "      <td>False</td>\n",
       "      <td>False</td>\n",
       "      <td>True</td>\n",
       "      <td>False</td>\n",
       "    </tr>\n",
       "    <tr>\n",
       "      <th>1</th>\n",
       "      <td>20</td>\n",
       "      <td>80.0</td>\n",
       "      <td>9600</td>\n",
       "      <td>6</td>\n",
       "      <td>8</td>\n",
       "      <td>1976</td>\n",
       "      <td>1976</td>\n",
       "      <td>0.0</td>\n",
       "      <td>978</td>\n",
       "      <td>0</td>\n",
       "      <td>...</td>\n",
       "      <td>False</td>\n",
       "      <td>False</td>\n",
       "      <td>False</td>\n",
       "      <td>True</td>\n",
       "      <td>False</td>\n",
       "      <td>False</td>\n",
       "      <td>False</td>\n",
       "      <td>False</td>\n",
       "      <td>True</td>\n",
       "      <td>False</td>\n",
       "    </tr>\n",
       "    <tr>\n",
       "      <th>2</th>\n",
       "      <td>60</td>\n",
       "      <td>68.0</td>\n",
       "      <td>11250</td>\n",
       "      <td>7</td>\n",
       "      <td>5</td>\n",
       "      <td>2001</td>\n",
       "      <td>2002</td>\n",
       "      <td>162.0</td>\n",
       "      <td>486</td>\n",
       "      <td>0</td>\n",
       "      <td>...</td>\n",
       "      <td>False</td>\n",
       "      <td>False</td>\n",
       "      <td>False</td>\n",
       "      <td>True</td>\n",
       "      <td>False</td>\n",
       "      <td>False</td>\n",
       "      <td>False</td>\n",
       "      <td>False</td>\n",
       "      <td>True</td>\n",
       "      <td>False</td>\n",
       "    </tr>\n",
       "  </tbody>\n",
       "</table>\n",
       "<p>3 rows × 288 columns</p>\n",
       "</div>"
      ],
      "text/plain": [
       "   MSSubClass  LotFrontage  LotArea  OverallQual  OverallCond  YearBuilt  \\\n",
       "0          60         65.0     8450            7            5       2003   \n",
       "1          20         80.0     9600            6            8       1976   \n",
       "2          60         68.0    11250            7            5       2001   \n",
       "\n",
       "   YearRemodAdd  MasVnrArea  BsmtFinSF1  BsmtFinSF2  ...  SaleType_ConLw  \\\n",
       "0          2003       196.0         706           0  ...           False   \n",
       "1          1976         0.0         978           0  ...           False   \n",
       "2          2002       162.0         486           0  ...           False   \n",
       "\n",
       "   SaleType_New  SaleType_Oth  SaleType_WD  SaleCondition_Abnorml  \\\n",
       "0         False         False         True                  False   \n",
       "1         False         False         True                  False   \n",
       "2         False         False         True                  False   \n",
       "\n",
       "   SaleCondition_AdjLand  SaleCondition_Alloca  SaleCondition_Family  \\\n",
       "0                  False                 False                 False   \n",
       "1                  False                 False                 False   \n",
       "2                  False                 False                 False   \n",
       "\n",
       "   SaleCondition_Normal  SaleCondition_Partial  \n",
       "0                  True                  False  \n",
       "1                  True                  False  \n",
       "2                  True                  False  \n",
       "\n",
       "[3 rows x 288 columns]"
      ]
     },
     "execution_count": 16,
     "metadata": {},
     "output_type": "execute_result"
    }
   ],
   "source": [
    "housing_df = pd.get_dummies(housing_df)\n",
    "housing_df.head(3)"
   ]
  },
  {
   "cell_type": "markdown",
   "id": "bd38499c-dd2d-492f-8d08-5bf07da42b31",
   "metadata": {},
   "source": [
    "#### Step 6: Split data into training and test sets"
   ]
  },
  {
   "cell_type": "code",
   "execution_count": 18,
   "id": "8dfc1624-e490-4395-8f00-7abafa6d9fb8",
   "metadata": {},
   "outputs": [],
   "source": [
    "target = 'SalePrice'\n",
    "features = housing_df.drop(target, axis=1)\n",
    "X_train, X_test, y_train, y_test = train_test_split(features, housing_df[target], test_size=0.2, random_state=42)"
   ]
  },
  {
   "cell_type": "markdown",
   "id": "1bb72f33-5292-407d-889c-755f2f70c04b",
   "metadata": {},
   "source": [
    "#### Step 7: Run a linear regression and evaluate on the test set"
   ]
  },
  {
   "cell_type": "code",
   "execution_count": 20,
   "id": "ebbcd244-01e4-44ef-93dd-f957dadc5ed2",
   "metadata": {},
   "outputs": [
    {
     "name": "stdout",
     "output_type": "stream",
     "text": [
      "Linear Regression Results:\n",
      "R^2 Score: 0.886098953863544\n",
      "RMSE: 29557.70930242208\n"
     ]
    }
   ],
   "source": [
    "lr = LinearRegression()\n",
    "lr.fit(X_train, y_train)\n",
    "y_pred = lr.predict(X_test)\n",
    "r2 = r2_score(y_test, y_pred)\n",
    "rmse = np.sqrt(mean_squared_error(y_test, y_pred))\n",
    "print(\"Linear Regression Results:\")\n",
    "print(\"R^2 Score:\", r2)\n",
    "print(\"RMSE:\", rmse)"
   ]
  },
  {
   "cell_type": "markdown",
   "id": "f7871573-acfb-4cb1-8969-fd9f4893d493",
   "metadata": {},
   "source": [
    "#### Step 8 and 9: Fit and transform training features with PCA (retain 90% variance)"
   ]
  },
  {
   "cell_type": "code",
   "execution_count": 22,
   "id": "016e8ccd-f8ed-4dae-884f-3ce010b378c6",
   "metadata": {},
   "outputs": [
    {
     "name": "stdout",
     "output_type": "stream",
     "text": [
      "Number of features in PCA-transformed matrix: 1\n"
     ]
    }
   ],
   "source": [
    "pca = PCA(n_components=0.90)\n",
    "X_train_pca = pca.fit_transform(X_train)\n",
    "num_features_pca = X_train_pca.shape[1]\n",
    "print(\"Number of features in PCA-transformed matrix:\", num_features_pca)"
   ]
  },
  {
   "cell_type": "markdown",
   "id": "ec94e657-b918-4e9d-a106-a4ada47aa130",
   "metadata": {},
   "source": [
    "#### Step 10:Transform test features with the same PCA"
   ]
  },
  {
   "cell_type": "code",
   "execution_count": 24,
   "id": "36caa1c9-55a7-4e62-aad6-b446d324a53d",
   "metadata": {},
   "outputs": [],
   "source": [
    "X_test_pca = pca.transform(X_test)"
   ]
  },
  {
   "cell_type": "markdown",
   "id": "b97b9362-4f37-437d-bb88-d17ac5e0fbc4",
   "metadata": {},
   "source": [
    "#### Step 11: Repeat step 7 with you PCA transformed data"
   ]
  },
  {
   "cell_type": "code",
   "execution_count": 26,
   "id": "0cff580d-7fff-44cd-991e-b161461cb2a2",
   "metadata": {},
   "outputs": [
    {
     "name": "stdout",
     "output_type": "stream",
     "text": [
      "\n",
      "Linear Regression with PCA Results:\n",
      "R^2 Score: 0.06348978229901636\n",
      "RMSE: 84754.58020738687\n"
     ]
    }
   ],
   "source": [
    "lr_pca = LinearRegression()\n",
    "lr_pca.fit(X_train_pca, y_train)\n",
    "y_pred_pca = lr_pca.predict(X_test_pca)\n",
    "r2_pca = r2_score(y_test, y_pred_pca)\n",
    "rmse_pca = np.sqrt(mean_squared_error(y_test, y_pred_pca))\n",
    "print(\"\\nLinear Regression with PCA Results:\")\n",
    "print(\"R^2 Score:\", r2_pca)\n",
    "print(\"RMSE:\", rmse_pca)"
   ]
  },
  {
   "cell_type": "markdown",
   "id": "6ae40041-8c7b-4595-a15a-725f626f37e6",
   "metadata": {},
   "source": [
    "#### Step 12: Apply MinMaxScaler to original training features"
   ]
  },
  {
   "cell_type": "code",
   "execution_count": 28,
   "id": "51980be6-6bfc-4e59-bdee-f5d09766760c",
   "metadata": {},
   "outputs": [],
   "source": [
    "scaler = MinMaxScaler()\n",
    "X_train_scaled = scaler.fit_transform(X_train)"
   ]
  },
  {
   "cell_type": "markdown",
   "id": "9914db63-976d-4a2f-a991-e99b15568d31",
   "metadata": {},
   "source": [
    "#### Step 13: Find min-max scaled features with variance above 0.1"
   ]
  },
  {
   "cell_type": "code",
   "execution_count": 30,
   "id": "cea755e2-8542-4a93-9cfc-e0de7e77c007",
   "metadata": {},
   "outputs": [],
   "source": [
    "var_threshold = 0.1\n",
    "high_var_features = X_train_scaled[:, np.var(X_train_scaled, axis=0) > var_threshold]"
   ]
  },
  {
   "cell_type": "markdown",
   "id": "8e85eb28-fb97-4bc6-8e8b-a3f075c5a4b7",
   "metadata": {},
   "source": [
    "#### Step 14 and 15: Transform test features with the same steps as in steps 11 and 12"
   ]
  },
  {
   "cell_type": "code",
   "execution_count": 32,
   "id": "887e37f5-4f69-4584-bb44-b2705590aa07",
   "metadata": {},
   "outputs": [
    {
     "name": "stdout",
     "output_type": "stream",
     "text": [
      "\n",
      "Linear Regression with High Variance Data Results:\n",
      "R^2 Score: 0.6681096563409217\n",
      "RMSE: 50455.00174294488\n"
     ]
    }
   ],
   "source": [
    "X_test_scaled = scaler.transform(X_test)\n",
    "# Step 15: Repeat step 7 with high variance data\n",
    "X_test_high_var = X_test_scaled[:, np.var(X_train_scaled, axis=0) > var_threshold]\n",
    "lr_high_var = LinearRegression()\n",
    "lr_high_var.fit(high_var_features, y_train)\n",
    "y_pred_high_var = lr_high_var.predict(X_test_high_var)\n",
    "r2_high_var = r2_score(y_test, y_pred_high_var)\n",
    "rmse_high_var = np.sqrt(mean_squared_error(y_test, y_pred_high_var))\n",
    "print(\"\\nLinear Regression with High Variance Data Results:\")\n",
    "print(\"R^2 Score:\", r2_high_var)\n",
    "print(\"RMSE:\", rmse_high_var)\n"
   ]
  },
  {
   "cell_type": "markdown",
   "id": "e8973b3a-8879-404c-8956-5330231028f3",
   "metadata": {},
   "source": [
    "#### Step 16: Summarize findings"
   ]
  },
  {
   "cell_type": "code",
   "execution_count": 34,
   "id": "159f2105-8104-4b6c-8590-90788c21c3c1",
   "metadata": {},
   "outputs": [
    {
     "name": "stdout",
     "output_type": "stream",
     "text": [
      "\n",
      "Summary of Findings:\n",
      "Linear Regression Results:\n",
      "R^2 Score: 0.886098953863544\n",
      "RMSE: 29557.70930242208\n",
      "\n",
      "Linear Regression with PCA Results:\n",
      "R^2 Score: 0.06348978229901636\n",
      "RMSE: 84754.58020738687\n",
      "\n",
      "Linear Regression with High Variance Data Results:\n",
      "R^2 Score: 0.6681096563409217\n",
      "RMSE: 50455.00174294488\n"
     ]
    }
   ],
   "source": [
    "print(\"\\nSummary of Findings:\")\n",
    "print(\"Linear Regression Results:\")\n",
    "print(\"R^2 Score:\", r2)\n",
    "print(\"RMSE:\", rmse)\n",
    "print(\"\\nLinear Regression with PCA Results:\")\n",
    "print(\"R^2 Score:\", r2_pca)\n",
    "print(\"RMSE:\", rmse_pca)\n",
    "print(\"\\nLinear Regression with High Variance Data Results:\")\n",
    "print(\"R^2 Score:\", r2_high_var)\n",
    "print(\"RMSE:\", rmse_high_var)"
   ]
  }
 ],
 "metadata": {
  "kernelspec": {
   "display_name": "Python 3 (ipykernel)",
   "language": "python",
   "name": "python3"
  },
  "language_info": {
   "codemirror_mode": {
    "name": "ipython",
    "version": 3
   },
   "file_extension": ".py",
   "mimetype": "text/x-python",
   "name": "python",
   "nbconvert_exporter": "python",
   "pygments_lexer": "ipython3",
   "version": "3.11.7"
  }
 },
 "nbformat": 4,
 "nbformat_minor": 5
}
