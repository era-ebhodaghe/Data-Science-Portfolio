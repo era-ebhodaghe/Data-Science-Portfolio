{
 "cells": [
  {
   "cell_type": "markdown",
   "id": "b7f7a05d-11cf-4144-9317-d48af1001059",
   "metadata": {},
   "source": [
    "# US National Parks"
   ]
  },
  {
   "cell_type": "markdown",
   "id": "2bb7970f-3962-43c7-8123-310c659b6c8d",
   "metadata": {},
   "source": [
    "### Author: Era Ebhodaghe"
   ]
  },
  {
   "cell_type": "markdown",
   "id": "e7b72487-429b-4626-9ddf-3ab7443d0aea",
   "metadata": {},
   "source": [
    "# Milestone 2 - Flat File"
   ]
  },
  {
   "cell_type": "markdown",
   "id": "b3c8f500-45b9-49f6-8a62-247695c9fede",
   "metadata": {},
   "source": [
    "### Cleaning/Formatting Flat File Source"
   ]
  },
  {
   "cell_type": "markdown",
   "id": "d64b885f-533c-44c6-a26e-993261025dd8",
   "metadata": {},
   "source": [
    " -  Replace Headers\n",
    " -  Format data into a more readable format\n",
    " -  Identify outliers and bad data\n",
    " -  Find duplicates\n",
    " -  Fix casing or inconsistent values\n",
    " -  Conduct Fuzzy Matching"
   ]
  },
  {
   "cell_type": "code",
   "execution_count": 132,
   "id": "e37f6916-e804-4658-88c7-cf8c5345ca4e",
   "metadata": {},
   "outputs": [],
   "source": [
    "# importing libraries\n",
    "\n",
    "#for date and time operations\n",
    "from datetime import datetime, timedelta\n",
    "#for file and folder operations\n",
    "import os\n",
    "#for regular expression operations\n",
    "import re\n",
    "#for obtaining web requests\n",
    "import requests\n",
    "#for storing and analyzing data\n",
    "import pandas as pd\n",
    "#for web scraping\n",
    "from bs4 import BeautifulSoup\n",
    "#for numerical analysis\n",
    "import numpy as np\n"
   ]
  },
  {
   "cell_type": "code",
   "execution_count": 134,
   "id": "030bb7a8-4ec1-4d67-b154-145ceb7e30f9",
   "metadata": {},
   "outputs": [
    {
     "data": {
      "text/html": [
       "<div>\n",
       "<style scoped>\n",
       "    .dataframe tbody tr th:only-of-type {\n",
       "        vertical-align: middle;\n",
       "    }\n",
       "\n",
       "    .dataframe tbody tr th {\n",
       "        vertical-align: top;\n",
       "    }\n",
       "\n",
       "    .dataframe thead th {\n",
       "        text-align: right;\n",
       "    }\n",
       "</style>\n",
       "<table border=\"1\" class=\"dataframe\">\n",
       "  <thead>\n",
       "    <tr style=\"text-align: right;\">\n",
       "      <th></th>\n",
       "      <th>Created By</th>\n",
       "      <th>Measure Selector</th>\n",
       "      <th>Year</th>\n",
       "      <th>Date Edit</th>\n",
       "      <th>ScrapeURL</th>\n",
       "      <th>GIS Notes</th>\n",
       "      <th>Gnis Id</th>\n",
       "      <th>Geometry</th>\n",
       "      <th>Metadata</th>\n",
       "      <th>Number of Records</th>\n",
       "      <th>Parkname</th>\n",
       "      <th>Region</th>\n",
       "      <th>State</th>\n",
       "      <th>Unit Code</th>\n",
       "      <th>Unit Name</th>\n",
       "      <th>Unit Type</th>\n",
       "      <th>Visitors</th>\n",
       "      <th>YearRaw</th>\n",
       "    </tr>\n",
       "  </thead>\n",
       "  <tbody>\n",
       "    <tr>\n",
       "      <th>0</th>\n",
       "      <td>Legacy</td>\n",
       "      <td>1</td>\n",
       "      <td>1/1/1904 12:00:00 AM</td>\n",
       "      <td>4/22/2015</td>\n",
       "      <td>https://irma.nps.gov/Stats/SSRSReports/Park%20...</td>\n",
       "      <td>LEGACY: contact allen_mccoy@nps.gov for additi...</td>\n",
       "      <td>1163670</td>\n",
       "      <td>POLYGON</td>\n",
       "      <td>NaN</td>\n",
       "      <td>1</td>\n",
       "      <td>Crater Lake</td>\n",
       "      <td>PW</td>\n",
       "      <td>OR</td>\n",
       "      <td>CRLA</td>\n",
       "      <td>Crater Lake National Park</td>\n",
       "      <td>National Park</td>\n",
       "      <td>1500.0</td>\n",
       "      <td>1904</td>\n",
       "    </tr>\n",
       "    <tr>\n",
       "      <th>1</th>\n",
       "      <td>Legacy</td>\n",
       "      <td>1</td>\n",
       "      <td>1/1/1941 12:00:00 AM</td>\n",
       "      <td>4/22/2015</td>\n",
       "      <td>https://irma.nps.gov/Stats/SSRSReports/Park%20...</td>\n",
       "      <td>LEGACY: contact allen_mccoy@nps.gov for additi...</td>\n",
       "      <td>1531834</td>\n",
       "      <td>MULTIPOLYGON</td>\n",
       "      <td>NaN</td>\n",
       "      <td>1</td>\n",
       "      <td>Lake Roosevelt</td>\n",
       "      <td>PW</td>\n",
       "      <td>WA</td>\n",
       "      <td>LARO</td>\n",
       "      <td>Lake Roosevelt National Recreation Area</td>\n",
       "      <td>National Recreation Area</td>\n",
       "      <td>0.0</td>\n",
       "      <td>1941</td>\n",
       "    </tr>\n",
       "    <tr>\n",
       "      <th>2</th>\n",
       "      <td>Legacy</td>\n",
       "      <td>1</td>\n",
       "      <td>1/1/1961 12:00:00 AM</td>\n",
       "      <td>4/22/2015</td>\n",
       "      <td>https://irma.nps.gov/Stats/SSRSReports/Park%20...</td>\n",
       "      <td>LEGACY: contact allen_mccoy@nps.gov for additi...</td>\n",
       "      <td>2055170</td>\n",
       "      <td>MULTIPOLYGON</td>\n",
       "      <td>NaN</td>\n",
       "      <td>1</td>\n",
       "      <td>Lewis and Clark</td>\n",
       "      <td>PW</td>\n",
       "      <td>WA</td>\n",
       "      <td>LEWI</td>\n",
       "      <td>Lewis and Clark National Historical Park</td>\n",
       "      <td>National Historical Park</td>\n",
       "      <td>69000.0</td>\n",
       "      <td>1961</td>\n",
       "    </tr>\n",
       "  </tbody>\n",
       "</table>\n",
       "</div>"
      ],
      "text/plain": [
       "  Created By  Measure Selector                  Year  Date Edit  \\\n",
       "0     Legacy                 1  1/1/1904 12:00:00 AM  4/22/2015   \n",
       "1     Legacy                 1  1/1/1941 12:00:00 AM  4/22/2015   \n",
       "2     Legacy                 1  1/1/1961 12:00:00 AM  4/22/2015   \n",
       "\n",
       "                                           ScrapeURL  \\\n",
       "0  https://irma.nps.gov/Stats/SSRSReports/Park%20...   \n",
       "1  https://irma.nps.gov/Stats/SSRSReports/Park%20...   \n",
       "2  https://irma.nps.gov/Stats/SSRSReports/Park%20...   \n",
       "\n",
       "                                           GIS Notes  Gnis Id      Geometry  \\\n",
       "0  LEGACY: contact allen_mccoy@nps.gov for additi...  1163670       POLYGON   \n",
       "1  LEGACY: contact allen_mccoy@nps.gov for additi...  1531834  MULTIPOLYGON   \n",
       "2  LEGACY: contact allen_mccoy@nps.gov for additi...  2055170  MULTIPOLYGON   \n",
       "\n",
       "  Metadata  Number of Records         Parkname Region State Unit Code  \\\n",
       "0      NaN                  1      Crater Lake     PW    OR      CRLA   \n",
       "1      NaN                  1   Lake Roosevelt     PW    WA      LARO   \n",
       "2      NaN                  1  Lewis and Clark     PW    WA      LEWI   \n",
       "\n",
       "                                  Unit Name                 Unit Type  \\\n",
       "0                 Crater Lake National Park             National Park   \n",
       "1   Lake Roosevelt National Recreation Area  National Recreation Area   \n",
       "2  Lewis and Clark National Historical Park  National Historical Park   \n",
       "\n",
       "   Visitors YearRaw  \n",
       "0    1500.0    1904  \n",
       "1       0.0    1941  \n",
       "2   69000.0    1961  "
      ]
     },
     "execution_count": 134,
     "metadata": {},
     "output_type": "execute_result"
    }
   ],
   "source": [
    "#loading dataset\n",
    "park_visit_df = pd.read_csv('/Users/valuedcustomer/Documents/Bellvue/DSC 540/All National Parks Visitation 1904-2016.csv')\n",
    "#vieiwing the first few rows for cleanup\n",
    "park_visit_df.head(3)"
   ]
  },
  {
   "cell_type": "code",
   "execution_count": 136,
   "id": "92a5461e-b72f-424f-a569-0542083c6c11",
   "metadata": {},
   "outputs": [
    {
     "name": "stdout",
     "output_type": "stream",
     "text": [
      "<class 'pandas.core.frame.DataFrame'>\n",
      "RangeIndex: 21560 entries, 0 to 21559\n",
      "Data columns (total 18 columns):\n",
      " #   Column             Non-Null Count  Dtype  \n",
      "---  ------             --------------  -----  \n",
      " 0   Created By         21560 non-null  object \n",
      " 1   Measure Selector   21560 non-null  int64  \n",
      " 2   Year               21560 non-null  object \n",
      " 3   Date Edit          21560 non-null  object \n",
      " 4   ScrapeURL          21560 non-null  object \n",
      " 5   GIS Notes          21560 non-null  object \n",
      " 6   Gnis Id            21560 non-null  object \n",
      " 7   Geometry           21560 non-null  object \n",
      " 8   Metadata           18848 non-null  object \n",
      " 9   Number of Records  21560 non-null  int64  \n",
      " 10  Parkname           19342 non-null  object \n",
      " 11  Region             21560 non-null  object \n",
      " 12  State              21560 non-null  object \n",
      " 13  Unit Code          21560 non-null  object \n",
      " 14  Unit Name          21560 non-null  object \n",
      " 15  Unit Type          21560 non-null  object \n",
      " 16  Visitors           21556 non-null  float64\n",
      " 17  YearRaw            21560 non-null  object \n",
      "dtypes: float64(1), int64(2), object(15)\n",
      "memory usage: 3.0+ MB\n"
     ]
    }
   ],
   "source": [
    "park_visit_df.info()"
   ]
  },
  {
   "cell_type": "code",
   "execution_count": 138,
   "id": "b3226d2b-5de0-4b13-9150-8760e876c3bc",
   "metadata": {},
   "outputs": [
    {
     "data": {
      "text/plain": [
       "Created By              0\n",
       "Measure Selector        0\n",
       "Year                    0\n",
       "Date Edit               0\n",
       "ScrapeURL               0\n",
       "GIS Notes               0\n",
       "Gnis Id                 0\n",
       "Geometry                0\n",
       "Metadata             2712\n",
       "Number of Records       0\n",
       "Parkname             2218\n",
       "Region                  0\n",
       "State                   0\n",
       "Unit Code               0\n",
       "Unit Name               0\n",
       "Unit Type               0\n",
       "Visitors                4\n",
       "YearRaw                 0\n",
       "dtype: int64"
      ]
     },
     "execution_count": 138,
     "metadata": {},
     "output_type": "execute_result"
    }
   ],
   "source": [
    "#checking for null values\n",
    "park_visit_df.isnull().sum()"
   ]
  },
  {
   "cell_type": "markdown",
   "id": "675657e7-3aed-4cf4-ab87-3f895e366173",
   "metadata": {},
   "source": [
    "### Step 1: Changing the State Abbreviations to full name to make it easier to read"
   ]
  },
  {
   "cell_type": "code",
   "execution_count": 141,
   "id": "eaeb1430-cb94-47d3-b398-3952ba66d800",
   "metadata": {},
   "outputs": [],
   "source": [
    "abbrevs = {\n",
    "    'AA': 'Armed Forces Americas',\n",
    "    'AB': 'Alberta',\n",
    "    'AE': 'Armed Forces Europe',\n",
    "    'AK': 'Alaska',\n",
    "    'AL': 'Alabama',\n",
    "    'AP': 'Armed Forces Pacific',\n",
    "    'AR': 'Arkansas',\n",
    "    'AS': 'American Samoa',\n",
    "    'AZ': 'Arizona',\n",
    "    'BC': 'British Columbia',\n",
    "    'CA': 'California',\n",
    "    'CD': 'Canada',\n",
    "    'CO': 'Colorado',\n",
    "    'CT': 'Connecticut',\n",
    "    'DC': 'Dist. Of Columbia',\n",
    "    'DE': 'Delaware',\n",
    "    'FF': 'Foreign Countries',\n",
    "    'FL': 'Florida',\n",
    "    'GA': 'Georgia',\n",
    "    'GU': 'Guam',\n",
    "    'HI': 'Hawaii',\n",
    "    'IA': 'Iowa',\n",
    "    'ID': 'Idaho',\n",
    "    'IL': 'Illinois',\n",
    "    'IN': 'Indiana',\n",
    "    'KS': 'Kansas',\n",
    "    'KY': 'Kentucky',\n",
    "    'LA': 'Louisiana',\n",
    "    'MA': 'Massachusetts',\n",
    "    'MB': 'Manitoba',\n",
    "    'MD': 'Maryland',\n",
    "    'ME': 'Maine',\n",
    "    'MI': 'Michigan',\n",
    "    'MN': 'Minnesota',\n",
    "    'MO': 'Missouri',\n",
    "    'MS': 'Mississippi',\n",
    "    'MT': 'Montana',\n",
    "    'MX': 'Mexico',\n",
    "    'NB': 'New Brunswick',\n",
    "    'NC': 'North Carolina',\n",
    "    'ND': 'North Dakota',\n",
    "    'NE': 'Nebraska',\n",
    "    'NH': 'New Hampshire',\n",
    "    'NJ': 'New Jersey',\n",
    "    'NL': 'Newfoundland and Labrador',\n",
    "    'NM': 'New Mexico',\n",
    "    'NS': 'Nova Scotia',\n",
    "    'NT': 'Northwest Territories',\n",
    "    'NU': 'Nunavut',\n",
    "    'NV': 'Nevada',\n",
    "    'NY': 'New York',\n",
    "    'OH': 'Ohio',\n",
    "    'OK': 'Oklahoma',\n",
    "    'ON': 'Ontario',\n",
    "    'OR': 'Oregon',\n",
    "    'PA': 'Pennsylvania',\n",
    "    'PE': 'Prince Edward Island',\n",
    "    'PR': 'Puerto Rico',\n",
    "    'QC': 'Quebec',\n",
    "    'RI': 'Rhode Island',\n",
    "    'SC': 'South Carolina',\n",
    "    'SD': 'South Dakota',\n",
    "    'SK': 'Saskatchewan',\n",
    "    'TN': 'Tennessee',\n",
    "    'TT': 'Trust Territory',\n",
    "    'TX': 'Texas',\n",
    "    'UN': 'Unknown',\n",
    "    'UT': 'Utah',\n",
    "    'VA': 'Virginia',\n",
    "    'VI': 'Virgin Islands',\n",
    "    'VT': 'Vermont',\n",
    "    'WA': 'Washington',\n",
    "    'WI': 'Wisconsin',\n",
    "    'WV': 'West Virginia',\n",
    "    'WY': 'Wyoming',\n",
    "    'YT': 'Yukon ',\n",
    "}"
   ]
  },
  {
   "cell_type": "code",
   "execution_count": 143,
   "id": "5b12c815-b536-4c4e-b4b7-0bfc4d3900d7",
   "metadata": {},
   "outputs": [],
   "source": [
    "park_visit_df.State.replace(abbrevs, inplace=True)"
   ]
  },
  {
   "cell_type": "code",
   "execution_count": 145,
   "id": "2b19dd5c-f3f0-44b6-98f9-6d8c634fc953",
   "metadata": {},
   "outputs": [
    {
     "data": {
      "text/html": [
       "<div>\n",
       "<style scoped>\n",
       "    .dataframe tbody tr th:only-of-type {\n",
       "        vertical-align: middle;\n",
       "    }\n",
       "\n",
       "    .dataframe tbody tr th {\n",
       "        vertical-align: top;\n",
       "    }\n",
       "\n",
       "    .dataframe thead th {\n",
       "        text-align: right;\n",
       "    }\n",
       "</style>\n",
       "<table border=\"1\" class=\"dataframe\">\n",
       "  <thead>\n",
       "    <tr style=\"text-align: right;\">\n",
       "      <th></th>\n",
       "      <th>Created By</th>\n",
       "      <th>Measure Selector</th>\n",
       "      <th>Year</th>\n",
       "      <th>Date Edit</th>\n",
       "      <th>ScrapeURL</th>\n",
       "      <th>GIS Notes</th>\n",
       "      <th>Gnis Id</th>\n",
       "      <th>Geometry</th>\n",
       "      <th>Metadata</th>\n",
       "      <th>Number of Records</th>\n",
       "      <th>Parkname</th>\n",
       "      <th>Region</th>\n",
       "      <th>State</th>\n",
       "      <th>Unit Code</th>\n",
       "      <th>Unit Name</th>\n",
       "      <th>Unit Type</th>\n",
       "      <th>Visitors</th>\n",
       "      <th>YearRaw</th>\n",
       "    </tr>\n",
       "  </thead>\n",
       "  <tbody>\n",
       "    <tr>\n",
       "      <th>0</th>\n",
       "      <td>Legacy</td>\n",
       "      <td>1</td>\n",
       "      <td>1/1/1904 12:00:00 AM</td>\n",
       "      <td>4/22/2015</td>\n",
       "      <td>https://irma.nps.gov/Stats/SSRSReports/Park%20...</td>\n",
       "      <td>LEGACY: contact allen_mccoy@nps.gov for additi...</td>\n",
       "      <td>1163670</td>\n",
       "      <td>POLYGON</td>\n",
       "      <td>NaN</td>\n",
       "      <td>1</td>\n",
       "      <td>Crater Lake</td>\n",
       "      <td>PW</td>\n",
       "      <td>Oregon</td>\n",
       "      <td>CRLA</td>\n",
       "      <td>Crater Lake National Park</td>\n",
       "      <td>National Park</td>\n",
       "      <td>1500.0</td>\n",
       "      <td>1904</td>\n",
       "    </tr>\n",
       "    <tr>\n",
       "      <th>1</th>\n",
       "      <td>Legacy</td>\n",
       "      <td>1</td>\n",
       "      <td>1/1/1941 12:00:00 AM</td>\n",
       "      <td>4/22/2015</td>\n",
       "      <td>https://irma.nps.gov/Stats/SSRSReports/Park%20...</td>\n",
       "      <td>LEGACY: contact allen_mccoy@nps.gov for additi...</td>\n",
       "      <td>1531834</td>\n",
       "      <td>MULTIPOLYGON</td>\n",
       "      <td>NaN</td>\n",
       "      <td>1</td>\n",
       "      <td>Lake Roosevelt</td>\n",
       "      <td>PW</td>\n",
       "      <td>Washington</td>\n",
       "      <td>LARO</td>\n",
       "      <td>Lake Roosevelt National Recreation Area</td>\n",
       "      <td>National Recreation Area</td>\n",
       "      <td>0.0</td>\n",
       "      <td>1941</td>\n",
       "    </tr>\n",
       "  </tbody>\n",
       "</table>\n",
       "</div>"
      ],
      "text/plain": [
       "  Created By  Measure Selector                  Year  Date Edit  \\\n",
       "0     Legacy                 1  1/1/1904 12:00:00 AM  4/22/2015   \n",
       "1     Legacy                 1  1/1/1941 12:00:00 AM  4/22/2015   \n",
       "\n",
       "                                           ScrapeURL  \\\n",
       "0  https://irma.nps.gov/Stats/SSRSReports/Park%20...   \n",
       "1  https://irma.nps.gov/Stats/SSRSReports/Park%20...   \n",
       "\n",
       "                                           GIS Notes  Gnis Id      Geometry  \\\n",
       "0  LEGACY: contact allen_mccoy@nps.gov for additi...  1163670       POLYGON   \n",
       "1  LEGACY: contact allen_mccoy@nps.gov for additi...  1531834  MULTIPOLYGON   \n",
       "\n",
       "  Metadata  Number of Records        Parkname Region       State Unit Code  \\\n",
       "0      NaN                  1     Crater Lake     PW      Oregon      CRLA   \n",
       "1      NaN                  1  Lake Roosevelt     PW  Washington      LARO   \n",
       "\n",
       "                                 Unit Name                 Unit Type  \\\n",
       "0                Crater Lake National Park             National Park   \n",
       "1  Lake Roosevelt National Recreation Area  National Recreation Area   \n",
       "\n",
       "   Visitors YearRaw  \n",
       "0    1500.0    1904  \n",
       "1       0.0    1941  "
      ]
     },
     "execution_count": 145,
     "metadata": {},
     "output_type": "execute_result"
    }
   ],
   "source": [
    "park_visit_df.head(2)"
   ]
  },
  {
   "cell_type": "markdown",
   "id": "5521f376-fbf1-4508-8ec2-c772c56347c4",
   "metadata": {},
   "source": [
    "### Step 2: Filter Unit Type to only include National Parks"
   ]
  },
  {
   "cell_type": "code",
   "execution_count": 148,
   "id": "43ccb97f-a72e-4dfa-9e33-b50c64c8f3b5",
   "metadata": {},
   "outputs": [],
   "source": [
    "park_visit_new = park_visit_df[park_visit_df['Unit Type'].str.contains('National Park')]"
   ]
  },
  {
   "cell_type": "code",
   "execution_count": 150,
   "id": "8aa9b8b9-5dcb-4a9a-a04a-bbcd7994b6fd",
   "metadata": {},
   "outputs": [
    {
     "data": {
      "text/html": [
       "<div>\n",
       "<style scoped>\n",
       "    .dataframe tbody tr th:only-of-type {\n",
       "        vertical-align: middle;\n",
       "    }\n",
       "\n",
       "    .dataframe tbody tr th {\n",
       "        vertical-align: top;\n",
       "    }\n",
       "\n",
       "    .dataframe thead th {\n",
       "        text-align: right;\n",
       "    }\n",
       "</style>\n",
       "<table border=\"1\" class=\"dataframe\">\n",
       "  <thead>\n",
       "    <tr style=\"text-align: right;\">\n",
       "      <th></th>\n",
       "      <th>Created By</th>\n",
       "      <th>Measure Selector</th>\n",
       "      <th>Year</th>\n",
       "      <th>Date Edit</th>\n",
       "      <th>ScrapeURL</th>\n",
       "      <th>GIS Notes</th>\n",
       "      <th>Gnis Id</th>\n",
       "      <th>Geometry</th>\n",
       "      <th>Metadata</th>\n",
       "      <th>Number of Records</th>\n",
       "      <th>Parkname</th>\n",
       "      <th>Region</th>\n",
       "      <th>State</th>\n",
       "      <th>Unit Code</th>\n",
       "      <th>Unit Name</th>\n",
       "      <th>Unit Type</th>\n",
       "      <th>Visitors</th>\n",
       "      <th>YearRaw</th>\n",
       "    </tr>\n",
       "  </thead>\n",
       "  <tbody>\n",
       "    <tr>\n",
       "      <th>0</th>\n",
       "      <td>Legacy</td>\n",
       "      <td>1</td>\n",
       "      <td>1/1/1904 12:00:00 AM</td>\n",
       "      <td>4/22/2015</td>\n",
       "      <td>https://irma.nps.gov/Stats/SSRSReports/Park%20...</td>\n",
       "      <td>LEGACY: contact allen_mccoy@nps.gov for additi...</td>\n",
       "      <td>1163670</td>\n",
       "      <td>POLYGON</td>\n",
       "      <td>NaN</td>\n",
       "      <td>1</td>\n",
       "      <td>Crater Lake</td>\n",
       "      <td>PW</td>\n",
       "      <td>Oregon</td>\n",
       "      <td>CRLA</td>\n",
       "      <td>Crater Lake National Park</td>\n",
       "      <td>National Park</td>\n",
       "      <td>1500.0</td>\n",
       "      <td>1904</td>\n",
       "    </tr>\n",
       "    <tr>\n",
       "      <th>3</th>\n",
       "      <td>Legacy</td>\n",
       "      <td>1</td>\n",
       "      <td>1/1/1935 12:00:00 AM</td>\n",
       "      <td>4/22/2015</td>\n",
       "      <td>https://irma.nps.gov/Stats/SSRSReports/Park%20...</td>\n",
       "      <td>LEGACY: contact allen_mccoy@nps.gov for additi...</td>\n",
       "      <td>1530459</td>\n",
       "      <td>MULTIPOLYGON</td>\n",
       "      <td>NaN</td>\n",
       "      <td>1</td>\n",
       "      <td>Olympic</td>\n",
       "      <td>PW</td>\n",
       "      <td>Washington</td>\n",
       "      <td>OLYM</td>\n",
       "      <td>Olympic National Park</td>\n",
       "      <td>National Park</td>\n",
       "      <td>2200.0</td>\n",
       "      <td>1935</td>\n",
       "    </tr>\n",
       "    <tr>\n",
       "      <th>5</th>\n",
       "      <td>Legacy</td>\n",
       "      <td>1</td>\n",
       "      <td>1/1/1919 12:00:00 AM</td>\n",
       "      <td>12/18/2013</td>\n",
       "      <td>https://irma.nps.gov/Stats/SSRSReports/Park%20...</td>\n",
       "      <td>LEGACY: NPS Inventory and Monitoring Program D...</td>\n",
       "      <td>578853</td>\n",
       "      <td>MULTIPOLYGON</td>\n",
       "      <td>NaN</td>\n",
       "      <td>1</td>\n",
       "      <td>NaN</td>\n",
       "      <td>NE</td>\n",
       "      <td>Maine</td>\n",
       "      <td>ACAD</td>\n",
       "      <td>Acadia National Park</td>\n",
       "      <td>National Park</td>\n",
       "      <td>64000.0</td>\n",
       "      <td>1919</td>\n",
       "    </tr>\n",
       "    <tr>\n",
       "      <th>8</th>\n",
       "      <td>Legacy</td>\n",
       "      <td>1</td>\n",
       "      <td>1/1/1944 12:00:00 AM</td>\n",
       "      <td>12/18/2013</td>\n",
       "      <td>https://irma.nps.gov/Stats/SSRSReports/Park%20...</td>\n",
       "      <td>LEGACY: NPS Inventory and Monitoring Program D...</td>\n",
       "      <td>1377082</td>\n",
       "      <td>POLYGON</td>\n",
       "      <td>NaN</td>\n",
       "      <td>1</td>\n",
       "      <td>NaN</td>\n",
       "      <td>IM</td>\n",
       "      <td>Texas</td>\n",
       "      <td>BIBE</td>\n",
       "      <td>Big Bend National Park</td>\n",
       "      <td>National Park</td>\n",
       "      <td>1409.0</td>\n",
       "      <td>1944</td>\n",
       "    </tr>\n",
       "    <tr>\n",
       "      <th>22</th>\n",
       "      <td>Legacy</td>\n",
       "      <td>1</td>\n",
       "      <td>1/1/1948 12:00:00 AM</td>\n",
       "      <td>12/18/2013</td>\n",
       "      <td>https://irma.nps.gov/Stats/SSRSReports/Park%20...</td>\n",
       "      <td>LEGACY: NPS Inventory and Monitoring Program D...</td>\n",
       "      <td>293666</td>\n",
       "      <td>POLYGON</td>\n",
       "      <td>NaN</td>\n",
       "      <td>1</td>\n",
       "      <td>NaN</td>\n",
       "      <td>SE</td>\n",
       "      <td>Florida</td>\n",
       "      <td>EVER</td>\n",
       "      <td>Everglades National Park</td>\n",
       "      <td>National Park</td>\n",
       "      <td>7482.0</td>\n",
       "      <td>1948</td>\n",
       "    </tr>\n",
       "  </tbody>\n",
       "</table>\n",
       "</div>"
      ],
      "text/plain": [
       "   Created By  Measure Selector                  Year   Date Edit  \\\n",
       "0      Legacy                 1  1/1/1904 12:00:00 AM   4/22/2015   \n",
       "3      Legacy                 1  1/1/1935 12:00:00 AM   4/22/2015   \n",
       "5      Legacy                 1  1/1/1919 12:00:00 AM  12/18/2013   \n",
       "8      Legacy                 1  1/1/1944 12:00:00 AM  12/18/2013   \n",
       "22     Legacy                 1  1/1/1948 12:00:00 AM  12/18/2013   \n",
       "\n",
       "                                            ScrapeURL  \\\n",
       "0   https://irma.nps.gov/Stats/SSRSReports/Park%20...   \n",
       "3   https://irma.nps.gov/Stats/SSRSReports/Park%20...   \n",
       "5   https://irma.nps.gov/Stats/SSRSReports/Park%20...   \n",
       "8   https://irma.nps.gov/Stats/SSRSReports/Park%20...   \n",
       "22  https://irma.nps.gov/Stats/SSRSReports/Park%20...   \n",
       "\n",
       "                                            GIS Notes  Gnis Id      Geometry  \\\n",
       "0   LEGACY: contact allen_mccoy@nps.gov for additi...  1163670       POLYGON   \n",
       "3   LEGACY: contact allen_mccoy@nps.gov for additi...  1530459  MULTIPOLYGON   \n",
       "5   LEGACY: NPS Inventory and Monitoring Program D...   578853  MULTIPOLYGON   \n",
       "8   LEGACY: NPS Inventory and Monitoring Program D...  1377082       POLYGON   \n",
       "22  LEGACY: NPS Inventory and Monitoring Program D...   293666       POLYGON   \n",
       "\n",
       "   Metadata  Number of Records     Parkname Region       State Unit Code  \\\n",
       "0       NaN                  1  Crater Lake     PW      Oregon      CRLA   \n",
       "3       NaN                  1      Olympic     PW  Washington      OLYM   \n",
       "5       NaN                  1          NaN     NE       Maine      ACAD   \n",
       "8       NaN                  1          NaN     IM       Texas      BIBE   \n",
       "22      NaN                  1          NaN     SE     Florida      EVER   \n",
       "\n",
       "                    Unit Name      Unit Type  Visitors YearRaw  \n",
       "0   Crater Lake National Park  National Park    1500.0    1904  \n",
       "3       Olympic National Park  National Park    2200.0    1935  \n",
       "5        Acadia National Park  National Park   64000.0    1919  \n",
       "8      Big Bend National Park  National Park    1409.0    1944  \n",
       "22   Everglades National Park  National Park    7482.0    1948  "
      ]
     },
     "execution_count": 150,
     "metadata": {},
     "output_type": "execute_result"
    }
   ],
   "source": [
    "park_visit_new.head(5)"
   ]
  },
  {
   "cell_type": "markdown",
   "id": "2d8c9eca-11a0-40fb-8365-51d31bca350a",
   "metadata": {},
   "source": [
    "### Step 3: Drop Metadata, Parkname and GIS Notes Column as these columns are not needed"
   ]
  },
  {
   "cell_type": "code",
   "execution_count": 153,
   "id": "fcaffb25-256a-4df3-b0db-cb202e65973a",
   "metadata": {},
   "outputs": [
    {
     "data": {
      "text/html": [
       "<div>\n",
       "<style scoped>\n",
       "    .dataframe tbody tr th:only-of-type {\n",
       "        vertical-align: middle;\n",
       "    }\n",
       "\n",
       "    .dataframe tbody tr th {\n",
       "        vertical-align: top;\n",
       "    }\n",
       "\n",
       "    .dataframe thead th {\n",
       "        text-align: right;\n",
       "    }\n",
       "</style>\n",
       "<table border=\"1\" class=\"dataframe\">\n",
       "  <thead>\n",
       "    <tr style=\"text-align: right;\">\n",
       "      <th></th>\n",
       "      <th>Created By</th>\n",
       "      <th>Measure Selector</th>\n",
       "      <th>Year</th>\n",
       "      <th>Date Edit</th>\n",
       "      <th>ScrapeURL</th>\n",
       "      <th>Gnis Id</th>\n",
       "      <th>Geometry</th>\n",
       "      <th>Number of Records</th>\n",
       "      <th>Region</th>\n",
       "      <th>State</th>\n",
       "      <th>Unit Code</th>\n",
       "      <th>Unit Name</th>\n",
       "      <th>Unit Type</th>\n",
       "      <th>Visitors</th>\n",
       "      <th>YearRaw</th>\n",
       "    </tr>\n",
       "  </thead>\n",
       "  <tbody>\n",
       "    <tr>\n",
       "      <th>0</th>\n",
       "      <td>Legacy</td>\n",
       "      <td>1</td>\n",
       "      <td>1/1/1904 12:00:00 AM</td>\n",
       "      <td>4/22/2015</td>\n",
       "      <td>https://irma.nps.gov/Stats/SSRSReports/Park%20...</td>\n",
       "      <td>1163670</td>\n",
       "      <td>POLYGON</td>\n",
       "      <td>1</td>\n",
       "      <td>PW</td>\n",
       "      <td>Oregon</td>\n",
       "      <td>CRLA</td>\n",
       "      <td>Crater Lake National Park</td>\n",
       "      <td>National Park</td>\n",
       "      <td>1500.0</td>\n",
       "      <td>1904</td>\n",
       "    </tr>\n",
       "    <tr>\n",
       "      <th>3</th>\n",
       "      <td>Legacy</td>\n",
       "      <td>1</td>\n",
       "      <td>1/1/1935 12:00:00 AM</td>\n",
       "      <td>4/22/2015</td>\n",
       "      <td>https://irma.nps.gov/Stats/SSRSReports/Park%20...</td>\n",
       "      <td>1530459</td>\n",
       "      <td>MULTIPOLYGON</td>\n",
       "      <td>1</td>\n",
       "      <td>PW</td>\n",
       "      <td>Washington</td>\n",
       "      <td>OLYM</td>\n",
       "      <td>Olympic National Park</td>\n",
       "      <td>National Park</td>\n",
       "      <td>2200.0</td>\n",
       "      <td>1935</td>\n",
       "    </tr>\n",
       "  </tbody>\n",
       "</table>\n",
       "</div>"
      ],
      "text/plain": [
       "  Created By  Measure Selector                  Year  Date Edit  \\\n",
       "0     Legacy                 1  1/1/1904 12:00:00 AM  4/22/2015   \n",
       "3     Legacy                 1  1/1/1935 12:00:00 AM  4/22/2015   \n",
       "\n",
       "                                           ScrapeURL  Gnis Id      Geometry  \\\n",
       "0  https://irma.nps.gov/Stats/SSRSReports/Park%20...  1163670       POLYGON   \n",
       "3  https://irma.nps.gov/Stats/SSRSReports/Park%20...  1530459  MULTIPOLYGON   \n",
       "\n",
       "   Number of Records Region       State Unit Code                  Unit Name  \\\n",
       "0                  1     PW      Oregon      CRLA  Crater Lake National Park   \n",
       "3                  1     PW  Washington      OLYM      Olympic National Park   \n",
       "\n",
       "       Unit Type  Visitors YearRaw  \n",
       "0  National Park    1500.0    1904  \n",
       "3  National Park    2200.0    1935  "
      ]
     },
     "execution_count": 153,
     "metadata": {},
     "output_type": "execute_result"
    }
   ],
   "source": [
    "#dropping metadata column\n",
    "import warnings\n",
    "warnings.filterwarnings(\"ignore\")\n",
    "park_visit_new.drop(['Metadata','Parkname','GIS Notes'], axis =1, inplace = True)\n",
    "park_visit_new.head(2)"
   ]
  },
  {
   "cell_type": "markdown",
   "id": "f2fea183-dffe-45db-9226-66dab4474437",
   "metadata": {},
   "source": [
    "### Step 4: Renaming Headers\n"
   ]
  },
  {
   "cell_type": "code",
   "execution_count": 156,
   "id": "06036f60-5de2-4d32-94ba-d27c8f8b81e8",
   "metadata": {},
   "outputs": [
    {
     "data": {
      "text/html": [
       "<div>\n",
       "<style scoped>\n",
       "    .dataframe tbody tr th:only-of-type {\n",
       "        vertical-align: middle;\n",
       "    }\n",
       "\n",
       "    .dataframe tbody tr th {\n",
       "        vertical-align: top;\n",
       "    }\n",
       "\n",
       "    .dataframe thead th {\n",
       "        text-align: right;\n",
       "    }\n",
       "</style>\n",
       "<table border=\"1\" class=\"dataframe\">\n",
       "  <thead>\n",
       "    <tr style=\"text-align: right;\">\n",
       "      <th></th>\n",
       "      <th>Created By</th>\n",
       "      <th>Measure Selector</th>\n",
       "      <th>Datetime</th>\n",
       "      <th>Date Edit</th>\n",
       "      <th>ScrapeURL</th>\n",
       "      <th>Gnis Id</th>\n",
       "      <th>Geometry</th>\n",
       "      <th>Number of Records</th>\n",
       "      <th>Region</th>\n",
       "      <th>State</th>\n",
       "      <th>Unit Code</th>\n",
       "      <th>Park_Name</th>\n",
       "      <th>Park Type</th>\n",
       "      <th>Visitors</th>\n",
       "      <th>Year</th>\n",
       "    </tr>\n",
       "  </thead>\n",
       "  <tbody>\n",
       "    <tr>\n",
       "      <th>0</th>\n",
       "      <td>Legacy</td>\n",
       "      <td>1</td>\n",
       "      <td>1/1/1904 12:00:00 AM</td>\n",
       "      <td>4/22/2015</td>\n",
       "      <td>https://irma.nps.gov/Stats/SSRSReports/Park%20...</td>\n",
       "      <td>1163670</td>\n",
       "      <td>POLYGON</td>\n",
       "      <td>1</td>\n",
       "      <td>PW</td>\n",
       "      <td>Oregon</td>\n",
       "      <td>CRLA</td>\n",
       "      <td>Crater Lake National Park</td>\n",
       "      <td>National Park</td>\n",
       "      <td>1500.0</td>\n",
       "      <td>1904</td>\n",
       "    </tr>\n",
       "    <tr>\n",
       "      <th>3</th>\n",
       "      <td>Legacy</td>\n",
       "      <td>1</td>\n",
       "      <td>1/1/1935 12:00:00 AM</td>\n",
       "      <td>4/22/2015</td>\n",
       "      <td>https://irma.nps.gov/Stats/SSRSReports/Park%20...</td>\n",
       "      <td>1530459</td>\n",
       "      <td>MULTIPOLYGON</td>\n",
       "      <td>1</td>\n",
       "      <td>PW</td>\n",
       "      <td>Washington</td>\n",
       "      <td>OLYM</td>\n",
       "      <td>Olympic National Park</td>\n",
       "      <td>National Park</td>\n",
       "      <td>2200.0</td>\n",
       "      <td>1935</td>\n",
       "    </tr>\n",
       "    <tr>\n",
       "      <th>5</th>\n",
       "      <td>Legacy</td>\n",
       "      <td>1</td>\n",
       "      <td>1/1/1919 12:00:00 AM</td>\n",
       "      <td>12/18/2013</td>\n",
       "      <td>https://irma.nps.gov/Stats/SSRSReports/Park%20...</td>\n",
       "      <td>578853</td>\n",
       "      <td>MULTIPOLYGON</td>\n",
       "      <td>1</td>\n",
       "      <td>NE</td>\n",
       "      <td>Maine</td>\n",
       "      <td>ACAD</td>\n",
       "      <td>Acadia National Park</td>\n",
       "      <td>National Park</td>\n",
       "      <td>64000.0</td>\n",
       "      <td>1919</td>\n",
       "    </tr>\n",
       "    <tr>\n",
       "      <th>8</th>\n",
       "      <td>Legacy</td>\n",
       "      <td>1</td>\n",
       "      <td>1/1/1944 12:00:00 AM</td>\n",
       "      <td>12/18/2013</td>\n",
       "      <td>https://irma.nps.gov/Stats/SSRSReports/Park%20...</td>\n",
       "      <td>1377082</td>\n",
       "      <td>POLYGON</td>\n",
       "      <td>1</td>\n",
       "      <td>IM</td>\n",
       "      <td>Texas</td>\n",
       "      <td>BIBE</td>\n",
       "      <td>Big Bend National Park</td>\n",
       "      <td>National Park</td>\n",
       "      <td>1409.0</td>\n",
       "      <td>1944</td>\n",
       "    </tr>\n",
       "    <tr>\n",
       "      <th>22</th>\n",
       "      <td>Legacy</td>\n",
       "      <td>1</td>\n",
       "      <td>1/1/1948 12:00:00 AM</td>\n",
       "      <td>12/18/2013</td>\n",
       "      <td>https://irma.nps.gov/Stats/SSRSReports/Park%20...</td>\n",
       "      <td>293666</td>\n",
       "      <td>POLYGON</td>\n",
       "      <td>1</td>\n",
       "      <td>SE</td>\n",
       "      <td>Florida</td>\n",
       "      <td>EVER</td>\n",
       "      <td>Everglades National Park</td>\n",
       "      <td>National Park</td>\n",
       "      <td>7482.0</td>\n",
       "      <td>1948</td>\n",
       "    </tr>\n",
       "  </tbody>\n",
       "</table>\n",
       "</div>"
      ],
      "text/plain": [
       "   Created By  Measure Selector              Datetime   Date Edit  \\\n",
       "0      Legacy                 1  1/1/1904 12:00:00 AM   4/22/2015   \n",
       "3      Legacy                 1  1/1/1935 12:00:00 AM   4/22/2015   \n",
       "5      Legacy                 1  1/1/1919 12:00:00 AM  12/18/2013   \n",
       "8      Legacy                 1  1/1/1944 12:00:00 AM  12/18/2013   \n",
       "22     Legacy                 1  1/1/1948 12:00:00 AM  12/18/2013   \n",
       "\n",
       "                                            ScrapeURL  Gnis Id      Geometry  \\\n",
       "0   https://irma.nps.gov/Stats/SSRSReports/Park%20...  1163670       POLYGON   \n",
       "3   https://irma.nps.gov/Stats/SSRSReports/Park%20...  1530459  MULTIPOLYGON   \n",
       "5   https://irma.nps.gov/Stats/SSRSReports/Park%20...   578853  MULTIPOLYGON   \n",
       "8   https://irma.nps.gov/Stats/SSRSReports/Park%20...  1377082       POLYGON   \n",
       "22  https://irma.nps.gov/Stats/SSRSReports/Park%20...   293666       POLYGON   \n",
       "\n",
       "    Number of Records Region       State Unit Code                  Park_Name  \\\n",
       "0                   1     PW      Oregon      CRLA  Crater Lake National Park   \n",
       "3                   1     PW  Washington      OLYM      Olympic National Park   \n",
       "5                   1     NE       Maine      ACAD       Acadia National Park   \n",
       "8                   1     IM       Texas      BIBE     Big Bend National Park   \n",
       "22                  1     SE     Florida      EVER   Everglades National Park   \n",
       "\n",
       "        Park Type  Visitors  Year  \n",
       "0   National Park    1500.0  1904  \n",
       "3   National Park    2200.0  1935  \n",
       "5   National Park   64000.0  1919  \n",
       "8   National Park    1409.0  1944  \n",
       "22  National Park    7482.0  1948  "
      ]
     },
     "execution_count": 156,
     "metadata": {},
     "output_type": "execute_result"
    }
   ],
   "source": [
    "header_names = {'Unit Name': 'Park_Name',\n",
    "                'YearRaw': 'Year',\n",
    "                'Year':'Datetime',\n",
    "                'Unit Type': 'Park Type'}\n",
    "\n",
    "park_visit_new.rename(columns = header_names, inplace = True)\n",
    "park_visit_new.head()"
   ]
  },
  {
   "cell_type": "markdown",
   "id": "8e740d63-5ffb-4f1c-a0ed-db7764773424",
   "metadata": {},
   "source": [
    "### Step 5: Remove String 'National Park' from National Park Column for ease of Merging with other data source"
   ]
  },
  {
   "cell_type": "code",
   "execution_count": 159,
   "id": "bfa236ca-e5a7-4334-9c10-a5d209a14e9c",
   "metadata": {},
   "outputs": [
    {
     "data": {
      "text/html": [
       "<div>\n",
       "<style scoped>\n",
       "    .dataframe tbody tr th:only-of-type {\n",
       "        vertical-align: middle;\n",
       "    }\n",
       "\n",
       "    .dataframe tbody tr th {\n",
       "        vertical-align: top;\n",
       "    }\n",
       "\n",
       "    .dataframe thead th {\n",
       "        text-align: right;\n",
       "    }\n",
       "</style>\n",
       "<table border=\"1\" class=\"dataframe\">\n",
       "  <thead>\n",
       "    <tr style=\"text-align: right;\">\n",
       "      <th></th>\n",
       "      <th>Created By</th>\n",
       "      <th>Measure Selector</th>\n",
       "      <th>Datetime</th>\n",
       "      <th>Date Edit</th>\n",
       "      <th>ScrapeURL</th>\n",
       "      <th>Gnis Id</th>\n",
       "      <th>Geometry</th>\n",
       "      <th>Number of Records</th>\n",
       "      <th>Region</th>\n",
       "      <th>State</th>\n",
       "      <th>Unit Code</th>\n",
       "      <th>Park_Name</th>\n",
       "      <th>Park Type</th>\n",
       "      <th>Visitors</th>\n",
       "      <th>Year</th>\n",
       "    </tr>\n",
       "  </thead>\n",
       "  <tbody>\n",
       "    <tr>\n",
       "      <th>0</th>\n",
       "      <td>Legacy</td>\n",
       "      <td>1</td>\n",
       "      <td>1/1/1904 12:00:00 AM</td>\n",
       "      <td>4/22/2015</td>\n",
       "      <td>https://irma.nps.gov/Stats/SSRSReports/Park%20...</td>\n",
       "      <td>1163670</td>\n",
       "      <td>POLYGON</td>\n",
       "      <td>1</td>\n",
       "      <td>PW</td>\n",
       "      <td>Oregon</td>\n",
       "      <td>CRLA</td>\n",
       "      <td>Crater Lake</td>\n",
       "      <td>National Park</td>\n",
       "      <td>1500.0</td>\n",
       "      <td>1904</td>\n",
       "    </tr>\n",
       "    <tr>\n",
       "      <th>3</th>\n",
       "      <td>Legacy</td>\n",
       "      <td>1</td>\n",
       "      <td>1/1/1935 12:00:00 AM</td>\n",
       "      <td>4/22/2015</td>\n",
       "      <td>https://irma.nps.gov/Stats/SSRSReports/Park%20...</td>\n",
       "      <td>1530459</td>\n",
       "      <td>MULTIPOLYGON</td>\n",
       "      <td>1</td>\n",
       "      <td>PW</td>\n",
       "      <td>Washington</td>\n",
       "      <td>OLYM</td>\n",
       "      <td>Olympic</td>\n",
       "      <td>National Park</td>\n",
       "      <td>2200.0</td>\n",
       "      <td>1935</td>\n",
       "    </tr>\n",
       "    <tr>\n",
       "      <th>5</th>\n",
       "      <td>Legacy</td>\n",
       "      <td>1</td>\n",
       "      <td>1/1/1919 12:00:00 AM</td>\n",
       "      <td>12/18/2013</td>\n",
       "      <td>https://irma.nps.gov/Stats/SSRSReports/Park%20...</td>\n",
       "      <td>578853</td>\n",
       "      <td>MULTIPOLYGON</td>\n",
       "      <td>1</td>\n",
       "      <td>NE</td>\n",
       "      <td>Maine</td>\n",
       "      <td>ACAD</td>\n",
       "      <td>Acadia</td>\n",
       "      <td>National Park</td>\n",
       "      <td>64000.0</td>\n",
       "      <td>1919</td>\n",
       "    </tr>\n",
       "    <tr>\n",
       "      <th>8</th>\n",
       "      <td>Legacy</td>\n",
       "      <td>1</td>\n",
       "      <td>1/1/1944 12:00:00 AM</td>\n",
       "      <td>12/18/2013</td>\n",
       "      <td>https://irma.nps.gov/Stats/SSRSReports/Park%20...</td>\n",
       "      <td>1377082</td>\n",
       "      <td>POLYGON</td>\n",
       "      <td>1</td>\n",
       "      <td>IM</td>\n",
       "      <td>Texas</td>\n",
       "      <td>BIBE</td>\n",
       "      <td>Big Bend</td>\n",
       "      <td>National Park</td>\n",
       "      <td>1409.0</td>\n",
       "      <td>1944</td>\n",
       "    </tr>\n",
       "    <tr>\n",
       "      <th>22</th>\n",
       "      <td>Legacy</td>\n",
       "      <td>1</td>\n",
       "      <td>1/1/1948 12:00:00 AM</td>\n",
       "      <td>12/18/2013</td>\n",
       "      <td>https://irma.nps.gov/Stats/SSRSReports/Park%20...</td>\n",
       "      <td>293666</td>\n",
       "      <td>POLYGON</td>\n",
       "      <td>1</td>\n",
       "      <td>SE</td>\n",
       "      <td>Florida</td>\n",
       "      <td>EVER</td>\n",
       "      <td>Everglades</td>\n",
       "      <td>National Park</td>\n",
       "      <td>7482.0</td>\n",
       "      <td>1948</td>\n",
       "    </tr>\n",
       "  </tbody>\n",
       "</table>\n",
       "</div>"
      ],
      "text/plain": [
       "   Created By  Measure Selector              Datetime   Date Edit  \\\n",
       "0      Legacy                 1  1/1/1904 12:00:00 AM   4/22/2015   \n",
       "3      Legacy                 1  1/1/1935 12:00:00 AM   4/22/2015   \n",
       "5      Legacy                 1  1/1/1919 12:00:00 AM  12/18/2013   \n",
       "8      Legacy                 1  1/1/1944 12:00:00 AM  12/18/2013   \n",
       "22     Legacy                 1  1/1/1948 12:00:00 AM  12/18/2013   \n",
       "\n",
       "                                            ScrapeURL  Gnis Id      Geometry  \\\n",
       "0   https://irma.nps.gov/Stats/SSRSReports/Park%20...  1163670       POLYGON   \n",
       "3   https://irma.nps.gov/Stats/SSRSReports/Park%20...  1530459  MULTIPOLYGON   \n",
       "5   https://irma.nps.gov/Stats/SSRSReports/Park%20...   578853  MULTIPOLYGON   \n",
       "8   https://irma.nps.gov/Stats/SSRSReports/Park%20...  1377082       POLYGON   \n",
       "22  https://irma.nps.gov/Stats/SSRSReports/Park%20...   293666       POLYGON   \n",
       "\n",
       "    Number of Records Region       State Unit Code     Park_Name  \\\n",
       "0                   1     PW      Oregon      CRLA  Crater Lake    \n",
       "3                   1     PW  Washington      OLYM      Olympic    \n",
       "5                   1     NE       Maine      ACAD       Acadia    \n",
       "8                   1     IM       Texas      BIBE     Big Bend    \n",
       "22                  1     SE     Florida      EVER   Everglades    \n",
       "\n",
       "        Park Type  Visitors  Year  \n",
       "0   National Park    1500.0  1904  \n",
       "3   National Park    2200.0  1935  \n",
       "5   National Park   64000.0  1919  \n",
       "8   National Park    1409.0  1944  \n",
       "22  National Park    7482.0  1948  "
      ]
     },
     "execution_count": 159,
     "metadata": {},
     "output_type": "execute_result"
    }
   ],
   "source": [
    "park_visit_new['Park_Name']=park_visit_new['Park_Name'].str.replace(\"National Park\", \"\")\n",
    "park_visit_new.head()"
   ]
  },
  {
   "cell_type": "markdown",
   "id": "98aa9bbc-cbe1-4d44-b955-360ea752b32b",
   "metadata": {},
   "source": [
    "### Step 6: Convert Visitors Column from decimal to integer"
   ]
  },
  {
   "cell_type": "code",
   "execution_count": 162,
   "id": "325b930b-30a1-410d-a420-d8694f071ff4",
   "metadata": {},
   "outputs": [
    {
     "data": {
      "text/html": [
       "<div>\n",
       "<style scoped>\n",
       "    .dataframe tbody tr th:only-of-type {\n",
       "        vertical-align: middle;\n",
       "    }\n",
       "\n",
       "    .dataframe tbody tr th {\n",
       "        vertical-align: top;\n",
       "    }\n",
       "\n",
       "    .dataframe thead th {\n",
       "        text-align: right;\n",
       "    }\n",
       "</style>\n",
       "<table border=\"1\" class=\"dataframe\">\n",
       "  <thead>\n",
       "    <tr style=\"text-align: right;\">\n",
       "      <th></th>\n",
       "      <th>Created By</th>\n",
       "      <th>Measure Selector</th>\n",
       "      <th>Datetime</th>\n",
       "      <th>Date Edit</th>\n",
       "      <th>ScrapeURL</th>\n",
       "      <th>Gnis Id</th>\n",
       "      <th>Geometry</th>\n",
       "      <th>Number of Records</th>\n",
       "      <th>Region</th>\n",
       "      <th>State</th>\n",
       "      <th>Unit Code</th>\n",
       "      <th>Park_Name</th>\n",
       "      <th>Park Type</th>\n",
       "      <th>Visitors</th>\n",
       "      <th>Year</th>\n",
       "    </tr>\n",
       "  </thead>\n",
       "  <tbody>\n",
       "    <tr>\n",
       "      <th>0</th>\n",
       "      <td>Legacy</td>\n",
       "      <td>1</td>\n",
       "      <td>1/1/1904 12:00:00 AM</td>\n",
       "      <td>4/22/2015</td>\n",
       "      <td>https://irma.nps.gov/Stats/SSRSReports/Park%20...</td>\n",
       "      <td>1163670</td>\n",
       "      <td>POLYGON</td>\n",
       "      <td>1</td>\n",
       "      <td>PW</td>\n",
       "      <td>Oregon</td>\n",
       "      <td>CRLA</td>\n",
       "      <td>Crater Lake</td>\n",
       "      <td>National Park</td>\n",
       "      <td>1500</td>\n",
       "      <td>1904</td>\n",
       "    </tr>\n",
       "    <tr>\n",
       "      <th>3</th>\n",
       "      <td>Legacy</td>\n",
       "      <td>1</td>\n",
       "      <td>1/1/1935 12:00:00 AM</td>\n",
       "      <td>4/22/2015</td>\n",
       "      <td>https://irma.nps.gov/Stats/SSRSReports/Park%20...</td>\n",
       "      <td>1530459</td>\n",
       "      <td>MULTIPOLYGON</td>\n",
       "      <td>1</td>\n",
       "      <td>PW</td>\n",
       "      <td>Washington</td>\n",
       "      <td>OLYM</td>\n",
       "      <td>Olympic</td>\n",
       "      <td>National Park</td>\n",
       "      <td>2200</td>\n",
       "      <td>1935</td>\n",
       "    </tr>\n",
       "    <tr>\n",
       "      <th>5</th>\n",
       "      <td>Legacy</td>\n",
       "      <td>1</td>\n",
       "      <td>1/1/1919 12:00:00 AM</td>\n",
       "      <td>12/18/2013</td>\n",
       "      <td>https://irma.nps.gov/Stats/SSRSReports/Park%20...</td>\n",
       "      <td>578853</td>\n",
       "      <td>MULTIPOLYGON</td>\n",
       "      <td>1</td>\n",
       "      <td>NE</td>\n",
       "      <td>Maine</td>\n",
       "      <td>ACAD</td>\n",
       "      <td>Acadia</td>\n",
       "      <td>National Park</td>\n",
       "      <td>64000</td>\n",
       "      <td>1919</td>\n",
       "    </tr>\n",
       "    <tr>\n",
       "      <th>8</th>\n",
       "      <td>Legacy</td>\n",
       "      <td>1</td>\n",
       "      <td>1/1/1944 12:00:00 AM</td>\n",
       "      <td>12/18/2013</td>\n",
       "      <td>https://irma.nps.gov/Stats/SSRSReports/Park%20...</td>\n",
       "      <td>1377082</td>\n",
       "      <td>POLYGON</td>\n",
       "      <td>1</td>\n",
       "      <td>IM</td>\n",
       "      <td>Texas</td>\n",
       "      <td>BIBE</td>\n",
       "      <td>Big Bend</td>\n",
       "      <td>National Park</td>\n",
       "      <td>1409</td>\n",
       "      <td>1944</td>\n",
       "    </tr>\n",
       "    <tr>\n",
       "      <th>22</th>\n",
       "      <td>Legacy</td>\n",
       "      <td>1</td>\n",
       "      <td>1/1/1948 12:00:00 AM</td>\n",
       "      <td>12/18/2013</td>\n",
       "      <td>https://irma.nps.gov/Stats/SSRSReports/Park%20...</td>\n",
       "      <td>293666</td>\n",
       "      <td>POLYGON</td>\n",
       "      <td>1</td>\n",
       "      <td>SE</td>\n",
       "      <td>Florida</td>\n",
       "      <td>EVER</td>\n",
       "      <td>Everglades</td>\n",
       "      <td>National Park</td>\n",
       "      <td>7482</td>\n",
       "      <td>1948</td>\n",
       "    </tr>\n",
       "  </tbody>\n",
       "</table>\n",
       "</div>"
      ],
      "text/plain": [
       "   Created By  Measure Selector              Datetime   Date Edit  \\\n",
       "0      Legacy                 1  1/1/1904 12:00:00 AM   4/22/2015   \n",
       "3      Legacy                 1  1/1/1935 12:00:00 AM   4/22/2015   \n",
       "5      Legacy                 1  1/1/1919 12:00:00 AM  12/18/2013   \n",
       "8      Legacy                 1  1/1/1944 12:00:00 AM  12/18/2013   \n",
       "22     Legacy                 1  1/1/1948 12:00:00 AM  12/18/2013   \n",
       "\n",
       "                                            ScrapeURL  Gnis Id      Geometry  \\\n",
       "0   https://irma.nps.gov/Stats/SSRSReports/Park%20...  1163670       POLYGON   \n",
       "3   https://irma.nps.gov/Stats/SSRSReports/Park%20...  1530459  MULTIPOLYGON   \n",
       "5   https://irma.nps.gov/Stats/SSRSReports/Park%20...   578853  MULTIPOLYGON   \n",
       "8   https://irma.nps.gov/Stats/SSRSReports/Park%20...  1377082       POLYGON   \n",
       "22  https://irma.nps.gov/Stats/SSRSReports/Park%20...   293666       POLYGON   \n",
       "\n",
       "    Number of Records Region       State Unit Code     Park_Name  \\\n",
       "0                   1     PW      Oregon      CRLA  Crater Lake    \n",
       "3                   1     PW  Washington      OLYM      Olympic    \n",
       "5                   1     NE       Maine      ACAD       Acadia    \n",
       "8                   1     IM       Texas      BIBE     Big Bend    \n",
       "22                  1     SE     Florida      EVER   Everglades    \n",
       "\n",
       "        Park Type  Visitors  Year  \n",
       "0   National Park      1500  1904  \n",
       "3   National Park      2200  1935  \n",
       "5   National Park     64000  1919  \n",
       "8   National Park      1409  1944  \n",
       "22  National Park      7482  1948  "
      ]
     },
     "execution_count": 162,
     "metadata": {},
     "output_type": "execute_result"
    }
   ],
   "source": [
    "park_visit_new = park_visit_new.astype({\"Visitors\": int})\n",
    "park_visit_new.head()"
   ]
  },
  {
   "cell_type": "code",
   "execution_count": 164,
   "id": "bc8a7b49-2d95-49ed-9a0b-8b9d6033f86a",
   "metadata": {},
   "outputs": [
    {
     "data": {
      "text/plain": [
       "['Crater Lake',\n",
       " 'Olympic',\n",
       " 'Acadia',\n",
       " 'Big Bend',\n",
       " 'Everglades',\n",
       " 'Great Smoky Mountains',\n",
       " 'Isle Royale',\n",
       " 'Redwood',\n",
       " 'Shenandoah',\n",
       " 'Black Canyon of the Gunnison',\n",
       " 'Wolf Trap  for the Performing Arts',\n",
       " 'Arches',\n",
       " 'Dry Tortugas',\n",
       " 'Bryce Canyon',\n",
       " 'John D. Rockefeller, Jr., Memorial Parkway',\n",
       " 'Carlsbad Caverns',\n",
       " 'Yellowstone',\n",
       " \"Hawai'i Volcanoes\",\n",
       " 'George Washington Memorial Parkway',\n",
       " 'Sequoia',\n",
       " 'Mammoth Cave',\n",
       " 'Grand Teton',\n",
       " 'Mesa Verde',\n",
       " 'Great Basin',\n",
       " 'Channel Islands',\n",
       " 'Canyonlands',\n",
       " 'Biscayne',\n",
       " 'Guadalupe Mountains',\n",
       " 'Kings Canyon',\n",
       " 'Zion',\n",
       " 'Haleakala',\n",
       " 'Capitol Reef',\n",
       " 'Joshua Tree',\n",
       " 'Theodore Roosevelt',\n",
       " 'Pinnacles',\n",
       " 'Virgin Islands',\n",
       " 'Rocky Mountain',\n",
       " 'Petrified Forest',\n",
       " 'Death Valley',\n",
       " 'Grand Canyon',\n",
       " 'Lassen Volcanic',\n",
       " 'Badlands',\n",
       " 'Cuyahoga Valley',\n",
       " 'Mount Rainier',\n",
       " 'Yosemite',\n",
       " 'Congaree',\n",
       " 'Saguaro',\n",
       " 'Wind Cave',\n",
       " 'Hot Springs',\n",
       " 'Denali',\n",
       " 'Denali National Preserve',\n",
       " 'Gates of the Arctic',\n",
       " 'Glacier Bay',\n",
       " 'Katmai',\n",
       " 'Kenai Fjords',\n",
       " 'Kobuk Valley',\n",
       " 'Lake Clark',\n",
       " 'Wrangell-St. Elias',\n",
       " 'North Cascades',\n",
       " 'Great Sand Dunes',\n",
       " 'of American Samoa',\n",
       " 'Glacier',\n",
       " 'Voyageurs']"
      ]
     },
     "execution_count": 164,
     "metadata": {},
     "output_type": "execute_result"
    }
   ],
   "source": [
    "park_visit_csv = park_visit_new\n",
    "park_visit_csv['Park_Name'] = park_visit_csv['Park_Name'].str.strip()\n",
    "park_visit_csv['Park_Name'].unique().tolist()"
   ]
  },
  {
   "cell_type": "markdown",
   "id": "d0f60d7f-597f-41c2-b318-ac16c9565285",
   "metadata": {},
   "source": [
    "### Conclusion:"
   ]
  },
  {
   "cell_type": "markdown",
   "id": "271bf0ae-45af-4300-ade8-d74f3321e83e",
   "metadata": {},
   "source": [
    " - Ethical considerations: This data set shows visitor data across US national Parks by year from 1904 to 2016. The aim is to highlight Parks by popularity, which is driven by user experience. Hence there are no ethical concerns with this data.\n",
    " - Once the final data has been merged, I expect to clean the data further for better usability.\n",
    " - Based on the dataset type, there are no concerns for duplicates as duplicates are expected.\n"
   ]
  },
  {
   "cell_type": "markdown",
   "id": "2e50c614-ce70-4ace-92a0-89d1cf2ac855",
   "metadata": {},
   "source": [
    "# Milestone 3 - Website Data"
   ]
  },
  {
   "cell_type": "markdown",
   "id": "ed5b0baf-c7b0-45ae-8259-c0f272f3fc41",
   "metadata": {},
   "source": [
    "##### Perform at least 5 data transformation and/or cleansing steps to your website data. The below examples are not required - they are just potential transformations you could do. If your data doesn't work for these scenarios, complete different transformations. You can do the same transformation multiple times if needed to clean your data. The goal is a clean dataset at the end of the milestone.\n",
    "\n",
    "- Replace Headers\n",
    "- Format data into a more readable format\n",
    "- Identify outliers and bad data\n",
    "- Find duplicates\n",
    "- Fix casing or inconsistent values\n",
    "- Conduct Fuzzy Matching"
   ]
  },
  {
   "cell_type": "code",
   "execution_count": 174,
   "id": "cee6d00a-0282-45fa-8f4e-94e1e7ac9943",
   "metadata": {},
   "outputs": [],
   "source": [
    "# importing libraries\n",
    "import requests\n",
    "from bs4 import BeautifulSoup\n",
    "import pandas as pd"
   ]
  },
  {
   "cell_type": "code",
   "execution_count": 176,
   "id": "a4b992d4-2474-43f1-bab8-94ad42a51c83",
   "metadata": {},
   "outputs": [
    {
     "name": "stdout",
     "output_type": "stream",
     "text": [
      "Sorry, something went wrong\n"
     ]
    }
   ],
   "source": [
    "response = requests.get(\n",
    "   url=\"https://en.wikipedia.org/wiki/List_of_national_parks_of_the_United_States_by_elevation\",\n",
    "    )\n",
    "\n",
    "if response.status_code == requests.codes.ok:       \n",
    "    soup = BeautifulSoup(response.content, 'html.parser')\n",
    "\n",
    "    title = soup.find(id=\"firstHeading\")\n",
    "    print(title.string)\n",
    "else:\n",
    "    print(\"Sorry, something went wrong\")"
   ]
  },
  {
   "cell_type": "code",
   "execution_count": 107,
   "id": "44f58ff8-b83e-4bfd-a1aa-3d9b534e201c",
   "metadata": {},
   "outputs": [
    {
     "ename": "NameError",
     "evalue": "name 'soup' is not defined",
     "output_type": "error",
     "traceback": [
      "\u001b[0;31m---------------------------------------------------------------------------\u001b[0m",
      "\u001b[0;31mNameError\u001b[0m                                 Traceback (most recent call last)",
      "Cell \u001b[0;32mIn[107], line 2\u001b[0m\n\u001b[1;32m      1\u001b[0m \u001b[38;5;66;03m# Find all wikitables that the elevation data is in\u001b[39;00m\n\u001b[0;32m----> 2\u001b[0m data_tables \u001b[38;5;241m=\u001b[39m soup\u001b[38;5;241m.\u001b[39mfind_all(\u001b[38;5;124m\"\u001b[39m\u001b[38;5;124mtable\u001b[39m\u001b[38;5;124m\"\u001b[39m, {\u001b[38;5;124m\"\u001b[39m\u001b[38;5;124mclass\u001b[39m\u001b[38;5;124m\"\u001b[39m: \u001b[38;5;124m\"\u001b[39m\u001b[38;5;124mwikitable\u001b[39m\u001b[38;5;124m\"\u001b[39m})\n\u001b[1;32m      3\u001b[0m \u001b[38;5;28mprint\u001b[39m(\u001b[38;5;124mf\u001b[39m\u001b[38;5;124m\"\u001b[39m\u001b[38;5;124mThere are \u001b[39m\u001b[38;5;132;01m{\u001b[39;00m\u001b[38;5;28mlen\u001b[39m(data_tables)\u001b[38;5;132;01m}\u001b[39;00m\u001b[38;5;124m tables\u001b[39m\u001b[38;5;124m\"\u001b[39m)\n",
      "\u001b[0;31mNameError\u001b[0m: name 'soup' is not defined"
     ]
    }
   ],
   "source": [
    "\n",
    "# Find all wikitables that the elevation data is in\n",
    "data_tables = soup.find_all(\"table\", {\"class\": \"wikitable\"})\n",
    "print(f\"There are {len(data_tables)} tables\")"
   ]
  },
  {
   "cell_type": "code",
   "execution_count": null,
   "id": "ccd35f15-9f46-4c68-83c6-b6d1deaa4887",
   "metadata": {},
   "outputs": [],
   "source": [
    "# Get table data\n",
    "elevations_data = data_tables[0]"
   ]
  },
  {
   "cell_type": "code",
   "execution_count": null,
   "id": "74954071-0534-45ec-80a8-1fdff95aff3b",
   "metadata": {},
   "outputs": [],
   "source": [
    "# Get the header information\n",
    "elevations_header = [th.getText().strip() for th in elevations_data.find_all('tbody')[0].find_all('th')]\n",
    "elevations_header"
   ]
  },
  {
   "cell_type": "code",
   "execution_count": null,
   "id": "bfe58a7d-edc3-4ac8-96a4-b5bdb09c2427",
   "metadata": {},
   "outputs": [],
   "source": [
    "# Get the row information\n",
    "elevations_rows = elevations_data.tbody.find_all(\"tr\", recursive = False)[1:]\n",
    "elevations_details = [[td.get_text().strip() for td in tr.find_all('td')] for tr in elevations_rows]"
   ]
  },
  {
   "cell_type": "code",
   "execution_count": null,
   "id": "7bd8a5fa-c629-4a9e-97d6-0cfd221df42a",
   "metadata": {},
   "outputs": [],
   "source": [
    "# Put data into a dictionary\n",
    "elevations_df = pd.DataFrame(elevations_details, columns = elevations_header)\n",
    "elevations_df.head()"
   ]
  },
  {
   "cell_type": "markdown",
   "id": "8383e5af-8301-4b9b-9738-87ded0fdf0f4",
   "metadata": {},
   "source": [
    "## Step 1: Splitting Elevation by feet and metres"
   ]
  },
  {
   "cell_type": "code",
   "execution_count": null,
   "id": "813428b1-6372-4ca2-b14a-cd68364fbe5a",
   "metadata": {},
   "outputs": [],
   "source": [
    "# Split Elevation by '('\n",
    "elevations_df[['elevation_ft','elevation_meters']] = elevations_df['Elevation'].apply(lambda x: pd.Series(str(x).split(\"(\")))\n",
    "\n",
    "# keeping only numeric values for elevation_ft \n",
    "elevations_df['elevation_ft'] = elevations_df['elevation_ft'].str.split(' ').str[0]\n",
    "\n",
    "# keeping only numeric values for elevation_meters\n",
    "elevations_df['elevation_meters'] = elevations_df['elevation_meters'].str.split('m').str[0]\n",
    "\n",
    "# Drop _geoloc column\n",
    "elevations_df.drop(['Elevation'], axis = 1, inplace = True)\n",
    "\n",
    "elevations_df.head()"
   ]
  },
  {
   "cell_type": "markdown",
   "id": "1a9d9a8b-f9f2-4808-86a0-5e2c61509193",
   "metadata": {},
   "source": [
    "## Step 2 : Removing non-string characters from Location of lowest point\n"
   ]
  },
  {
   "cell_type": "code",
   "execution_count": null,
   "id": "38d84157-06e0-48b5-9ede-87bdd1805dc9",
   "metadata": {},
   "outputs": [],
   "source": [
    "import re\n",
    "\n",
    "# function to non-string characters\n",
    "def remove_non_string(location):\n",
    "    return re.sub(r'\\[\\d+\\]', '', location)\n",
    "# creating new column name\n",
    "elevations_df ['lowest_point'] = elevations_df['Location of lowest point'].apply(lambda x: remove_non_string(x))\n",
    "\n",
    "elevations_df.head()"
   ]
  },
  {
   "cell_type": "markdown",
   "id": "f3b7a7c1-d24f-4cd2-8f4c-514b4d247175",
   "metadata": {},
   "source": [
    "## Step 3: Dropping Duplicate Lowest point column"
   ]
  },
  {
   "cell_type": "code",
   "execution_count": null,
   "id": "0cb96a77-1234-4d95-8059-dba20e8db81f",
   "metadata": {},
   "outputs": [],
   "source": [
    "elevations_df.drop(['Location of lowest point'], axis = 1, inplace = True)\n",
    "elevations_df.head(2)"
   ]
  },
  {
   "cell_type": "markdown",
   "id": "ccc309ba-47ad-43ca-868d-f80bd7a9586e",
   "metadata": {},
   "source": [
    "## \n",
    "\n",
    "\n",
    "Step 4: Splitting feet and meters for vertical relief and minimum elevation columns"
   ]
  },
  {
   "cell_type": "code",
   "execution_count": null,
   "id": "a12a4d55-115a-4e39-8637-fdf6403af1eb",
   "metadata": {},
   "outputs": [],
   "source": [
    "# Split Minimum elevation by '('\n",
    "elevations_df[['minimum_elevation_ft','minimum_elevation_meters']] = elevations_df['Minimum elevation'].apply(lambda x: pd.Series(str(x).split(\"(\")))\n",
    "\n",
    "# keeping only numeric values for minimum elevation_ft \n",
    "elevations_df['minimum_elevation_ft'] = elevations_df['minimum_elevation_ft'].str.split(' ').str[0]\n",
    "\n",
    "# keeping only numeric values for minimum elevation_meters\n",
    "elevations_df['minimum_elevation_meters'] = elevations_df['minimum_elevation_meters'].str.split('m').str[0]\n",
    "\n",
    "\n",
    "# Split Vertical relief by '('\n",
    "elevations_df[['vertical_relief_ft','vertical_relief_meters']] = elevations_df['Vertical relief'].apply(lambda x: pd.Series(str(x).split(\"(\")))\n",
    "\n",
    "# keeping only numeric values for vertical relief_ft \n",
    "elevations_df['vertical_relief_ft'] = elevations_df['vertical_relief_ft'].str.split(' ').str[0]\n",
    "\n",
    "# keeping only numeric values for vertical relief_meters\n",
    "elevations_df['vertical_relief_meters'] = elevations_df['vertical_relief_meters'].str.split('m').str[0]\n",
    "\n",
    "#dropping original minimum elevation and Vertical relief columns\n",
    "\n",
    "elevations_df.drop(['Minimum elevation'], axis = 1, inplace = True)\n",
    "elevations_df.drop(['Vertical relief'], axis = 1, inplace = True)\n",
    "\n",
    "elevations_df.head()"
   ]
  },
  {
   "cell_type": "markdown",
   "id": "b9bf65a8-808f-4a14-8aba-595362e155ed",
   "metadata": {},
   "source": [
    "## Step 5: Dropping Unwanted Columns"
   ]
  },
  {
   "cell_type": "code",
   "execution_count": null,
   "id": "67554555-c8b2-4751-b9ed-23e76da5ea19",
   "metadata": {},
   "outputs": [],
   "source": [
    "#dropping location and rank columns\n",
    "\n",
    "elevations_df.drop(['Rank'], axis = 1, inplace = True)\n",
    "elevations_df.drop(['Location'], axis = 1, inplace = True)\n",
    "\n",
    "elevations_df.head()"
   ]
  },
  {
   "cell_type": "markdown",
   "id": "1793fe17-5bc6-4c81-a9d6-25f22b3cabdb",
   "metadata": {},
   "source": [
    "## \n",
    "Step 6: Renaming Columns"
   ]
  },
  {
   "cell_type": "code",
   "execution_count": null,
   "id": "2ef0b33f-bcde-488b-a6f7-f35fdf451720",
   "metadata": {},
   "outputs": [],
   "source": [
    "header_rename = {'Park': 'Park_Name', 'Peak name':'peak_name', \n",
    "                 'Mountain range': 'mountain_range'}\n",
    "\n",
    "elevations_df.rename(columns = header_rename, inplace = True)\n",
    "elevations_df.head(2)"
   ]
  },
  {
   "cell_type": "code",
   "execution_count": null,
   "id": "e48a7651-799d-4a42-8748-c529b64e5c70",
   "metadata": {},
   "outputs": [],
   "source": [
    "elevations_df.info()"
   ]
  },
  {
   "cell_type": "markdown",
   "id": "47814f3e-cf7d-4c03-9b80-45513540175d",
   "metadata": {},
   "source": [
    "## \n",
    "\n",
    "\n",
    "Step 7: Converting columns to numeric"
   ]
  },
  {
   "cell_type": "code",
   "execution_count": null,
   "id": "9045ba2b-adbf-497f-bdb8-a393cfbd1857",
   "metadata": {},
   "outputs": [],
   "source": [
    "elevations_df['elevation_ft'] = pd.to_numeric(elevations_df['elevation_ft']\n",
    "                                                .apply(lambda x: x.replace(',', '').strip()))\n",
    "elevations_df['elevation_meters'] = pd.to_numeric(elevations_df['elevation_meters']\n",
    "                                                  .apply(lambda x: x.replace(',', '').strip()))\n",
    "elevations_df['vertical_relief_ft'] = pd.to_numeric(elevations_df['vertical_relief_ft']\n",
    "                                                      .apply(lambda x: x.replace(',', '').strip()))\n",
    "elevations_df['vertical_relief_meters'] = pd.to_numeric(elevations_df['vertical_relief_meters']\n",
    "                                                        .apply(lambda x: x.replace(',', '').strip()))\n",
    "elevations_df.head(2)\n",
    "elevations_df.info()"
   ]
  },
  {
   "cell_type": "markdown",
   "id": "a196ced5-dd40-416a-98b1-cb09a445fc58",
   "metadata": {},
   "source": [
    "## Step 8: Checking for outliers"
   ]
  },
  {
   "cell_type": "code",
   "execution_count": null,
   "id": "d5df7f70-3cc3-426a-9115-77b595e8a967",
   "metadata": {},
   "outputs": [],
   "source": [
    "elevations_df.describe()"
   ]
  },
  {
   "cell_type": "code",
   "execution_count": null,
   "id": "decfd09e-1783-4334-81c9-6fa8122e645f",
   "metadata": {},
   "outputs": [],
   "source": [
    "# Creating histogram to visualize outliers\n",
    "elevations_df.hist(bins = 15, figsize = (15, 10), grid = False)"
   ]
  },
  {
   "cell_type": "markdown",
   "id": "9f92916f-2178-47a0-8109-26204e9f77d1",
   "metadata": {},
   "source": [
    "## Step 9: Display and describe final data set"
   ]
  },
  {
   "cell_type": "code",
   "execution_count": null,
   "id": "acc5ed67-4875-4e85-a5fd-f0be0b90c26c",
   "metadata": {},
   "outputs": [],
   "source": [
    "#using desctiptiive stacitistics to better understand the spread of the data\n",
    "elevations_df.describe()"
   ]
  },
  {
   "cell_type": "code",
   "execution_count": null,
   "id": "ca739621-30c4-4a6f-aa91-362483a999da",
   "metadata": {},
   "outputs": [],
   "source": [
    "elevations_df.head()"
   ]
  },
  {
   "cell_type": "code",
   "execution_count": null,
   "id": "62093ea2-26ec-46e0-b857-63b26298ca14",
   "metadata": {},
   "outputs": [],
   "source": [
    "park_elev_html = elevations_df\n",
    "\n",
    "park_elev_html['Park_Name'].unique().tolist()"
   ]
  },
  {
   "cell_type": "markdown",
   "id": "1f8476c0-6075-4141-81b1-e1e14656a4c3",
   "metadata": {},
   "source": [
    "### Summary for Milestone 3:"
   ]
  },
  {
   "cell_type": "markdown",
   "id": "32fe286d-e21a-44ce-aa45-2452fdf1274d",
   "metadata": {},
   "source": [
    "- The main changes made to the data were mainly done to eliminate unwanted columns and to make the data more concise and easily readable\n",
    "- There are no legal or regulatory guidelines for this data or topic as the data was pulled from wikipedia which is a public website\n",
    "- In cleaning the data, I made assumptions that the data would be easier to explore by splitting the columns by feet and meters\n",
    "- Some of the steps done in milestone 3 might be further evaluated and modified after cleaning the API data\n",
    "  "
   ]
  },
  {
   "cell_type": "markdown",
   "id": "46e48987-5d0c-4b18-9b98-839c1e68d02f",
   "metadata": {},
   "source": [
    "# Milestone 4 - API Data"
   ]
  },
  {
   "cell_type": "code",
   "execution_count": null,
   "id": "b856a17c-a0be-4f59-9c6d-b10bab274db6",
   "metadata": {},
   "outputs": [],
   "source": [
    "import requests\n",
    "import json\n",
    "import pandas as pd\n",
    "from requests.exceptions import ConnectionError, Timeout, TooManyRedirects\n",
    "from bs4 import BeautifulSoup\n",
    "\n",
    "import requests\n",
    "\n",
    "#url = \"https://developer.nps.gov/api/v1/parks?\"\n",
    "\n",
    "url = \"https://developer.nps.gov/api/v1/thingstodo?limit=500\"\n",
    "#url = \"https://developer.nps.gov/api/v1/activities/parks?stateCode=me\"\n",
    "headers = {\n",
    "    \"X-API-Key\": \"EdpD7rtu466ptlB1wr4f6O4bdKTJ2ekVok4Y47E8\", # Replace with your API key\n",
    "}\n",
    "try:\n",
    "    response = requests.get(url, headers=headers)\n",
    "    data = json.loads(response.text)\n",
    "    print(data).head(5)\n",
    "except (ConnectionError, Timeout, TooManyRedirects) as e:\n",
    "    print(e)"
   ]
  },
  {
   "cell_type": "markdown",
   "id": "c7a4b06a-8d28-4f7e-b1ef-2def94c49aaa",
   "metadata": {},
   "source": [
    "#### 1: Normalizing Json Data"
   ]
  },
  {
   "cell_type": "code",
   "execution_count": null,
   "id": "9b59b13a-89a7-4465-b537-e46e53bb01d4",
   "metadata": {},
   "outputs": [],
   "source": [
    "#using pandas for normalize the json format and make the data more readable\n",
    "pd.set_option('display.max_columns', None)\n",
    "pd.set_option('display.max_rows', None)\n",
    "pd.DataFrame(data)\n",
    "api_df1 = pd.json_normalize(data['data'], record_path = ['relatedParks'], \n",
    "                            meta = ['location','locationDescription','longitude','latitude','activities','season','doFeesApply','arePetsPermitted','isReservationRequired',])\n",
    "\n",
    "api_df1.head(5)\n"
   ]
  },
  {
   "cell_type": "code",
   "execution_count": null,
   "id": "10846575-aa90-4440-b2be-be7b50eb5852",
   "metadata": {},
   "outputs": [],
   "source": [
    "len(pd.unique(api_df1['fullName']))"
   ]
  },
  {
   "cell_type": "markdown",
   "id": "9488d54d-7bf0-4030-8627-408c7b60cfee",
   "metadata": {},
   "source": [
    "#### 2: Replacing Headers"
   ]
  },
  {
   "cell_type": "code",
   "execution_count": null,
   "id": "9b30b632-9705-40c8-9c05-2a5d1daf968d",
   "metadata": {},
   "outputs": [],
   "source": [
    "header_names = {'designation':'siteType','locationDescription':'direction/tips','doFeesApply':'fees(yes/no)','arePetsPermitted':'petsAllowed(yes/no)','isReservationRequired':'reservationRequired(yes/no)'}\n",
    "api_df1.rename(columns = header_names, inplace = True)\n",
    "api_df1.head(5)"
   ]
  },
  {
   "cell_type": "markdown",
   "id": "b4e018e7-0656-4c78-aefc-280deb45ad7d",
   "metadata": {},
   "source": [
    "#### 3: Adding Timestamp to the dataset"
   ]
  },
  {
   "cell_type": "code",
   "execution_count": null,
   "id": "85e7ba4e-244a-420e-b942-64306a829725",
   "metadata": {},
   "outputs": [],
   "source": [
    "\n",
    "#adding a timestamp to show when the data was last run\n",
    "api_df1['timestamp'] = pd.to_datetime('now')\n",
    "api_df1.head(2)\n"
   ]
  },
  {
   "cell_type": "markdown",
   "id": "8009dd27-00a4-4bb5-ab00-d51095e3bca0",
   "metadata": {},
   "source": [
    "#### 4: Filtering table to only include site types that are National parks"
   ]
  },
  {
   "cell_type": "code",
   "execution_count": null,
   "id": "a4a3649a-d249-4c24-b201-cd07084303da",
   "metadata": {},
   "outputs": [],
   "source": [
    "api_df1 = api_df1[api_df1['siteType'].str.contains('National Park')]\n",
    "api_df1.head(5)"
   ]
  },
  {
   "cell_type": "markdown",
   "id": "6b949147-15b7-4791-8287-c4bfb891a1b4",
   "metadata": {},
   "source": [
    "#### 5: Dropping Unwanted Columns"
   ]
  },
  {
   "cell_type": "code",
   "execution_count": null,
   "id": "8fd25f92-4f67-443e-b56e-6a9ce3999aee",
   "metadata": {},
   "outputs": [],
   "source": [
    "api_df1.drop(['parkCode','activities'], axis = 1, inplace = True)\n",
    "api_df1.head(2)"
   ]
  },
  {
   "cell_type": "markdown",
   "id": "9b7f5b06-0029-43d9-8995-8a7eb72164f8",
   "metadata": {},
   "source": [
    "#### 6: Formatting true/false columns and mapping to yes/no"
   ]
  },
  {
   "cell_type": "code",
   "execution_count": null,
   "id": "52d1213a-2d07-425f-81e3-b21a24f2125b",
   "metadata": {},
   "outputs": [],
   "source": [
    "\n",
    "api_df1['fees(yes/no)'] = api_df1['fees(yes/no)'].map({'true': 'yes', 'false': 'no'})\n",
    "api_df1['petsAllowed(yes/no)'] = api_df1['petsAllowed(yes/no)'].map({'true': 'yes', 'false': 'no'})\n",
    "api_df1['reservationRequired(yes/no)'] = api_df1['reservationRequired(yes/no)'].map({'true': 'yes', 'false': 'no'})\n",
    "api_df1.head(2)\n",
    "                                     "
   ]
  },
  {
   "cell_type": "markdown",
   "id": "a4c10e8e-e421-45db-9da2-42bfe047d431",
   "metadata": {},
   "source": [
    "#### 7: Converting Longitude and Latitude to Numeric; Rounding to 3 decimal places"
   ]
  },
  {
   "cell_type": "code",
   "execution_count": null,
   "id": "bbbccb4f-7572-4825-8bd3-940e3bf2ea21",
   "metadata": {},
   "outputs": [],
   "source": [
    "#converting cells to numeric\n",
    "api_df1['longitude'] = pd.to_numeric(api_df1['longitude']\n",
    "                                                .apply(lambda x: x.replace(',', '').strip()))\n",
    "api_df1['latitude'] = pd.to_numeric(api_df1['latitude']\n",
    "                                                  .apply(lambda x: x.replace(',', '').strip()))\n",
    "#rounding values to 3 decimal places\n",
    "api_df1['longitude'] = round(api_df1['longitude'], 3)\n",
    "\n",
    "api_df1['latitude'] = round(api_df1['latitude'], 3)\n",
    "api_df1.info()\n",
    "api_df1.head(2)"
   ]
  },
  {
   "cell_type": "markdown",
   "id": "2f0e1785-f9cc-44ef-8d04-68f04f4d38cd",
   "metadata": {},
   "source": [
    "#### 8: Renaming Park Name Column"
   ]
  },
  {
   "cell_type": "code",
   "execution_count": null,
   "id": "a7f7f367-96d9-442b-adf8-ff23f02b4c26",
   "metadata": {},
   "outputs": [],
   "source": [
    "header_rename = {'name': 'Park_Name'}\n",
    "\n",
    "api_df1.rename(columns = header_rename, inplace = True)"
   ]
  },
  {
   "cell_type": "code",
   "execution_count": null,
   "id": "89b043f5-567a-431f-87b2-97d47ebb1fbb",
   "metadata": {},
   "outputs": [],
   "source": [
    "api_df1 = api_df1.applymap(str)\n",
    "\n",
    "\n",
    "\n",
    "api_df1['Park_Name'].unique().tolist()"
   ]
  },
  {
   "cell_type": "markdown",
   "id": "d8560f22-1160-4f43-84e9-d0f74b825bae",
   "metadata": {},
   "source": [
    "### Summary for Milestone 4:"
   ]
  },
  {
   "cell_type": "markdown",
   "id": "a0c00851-e685-4869-8fb4-b7eeb3164a94",
   "metadata": {},
   "source": [
    "- The main changes made to the data were mainly done to pull API data by extracting the required columns in order to make the data more concise and easily readable\n",
    "- There are no legal or regulatory guidelines for this data or topic as the API data was pulled from the national parks website which is a public website\n",
    "- In cleaning the data, I focused on getting the data set to have a unique identifier to allow for ease of joining all datasets\n",
    "- Some of the steps done in milestone 4 might be further evaluated and modified in order to join the final dataset"
   ]
  },
  {
   "cell_type": "markdown",
   "id": "8c2a6d9e-a694-4efc-9d9c-992edb5adcfb",
   "metadata": {},
   "source": [
    "# Milestone 5 - Merging the Data and Storing in a Database/Visualizing Data"
   ]
  },
  {
   "cell_type": "code",
   "execution_count": null,
   "id": "c160d9c6-6654-41c5-b8fb-5d62b6fd4d75",
   "metadata": {},
   "outputs": [],
   "source": [
    "# importing sqlite3 library\n",
    "import sqlalchemy\n",
    "from sqlalchemy import create_engine , select, MetaData, Table, and_\n",
    "import pandas as pd\n",
    "import sqlite3"
   ]
  },
  {
   "cell_type": "code",
   "execution_count": null,
   "id": "f2b27a2a-1416-4a8f-ac9f-a2cbe22865f7",
   "metadata": {},
   "outputs": [],
   "source": [
    "engine = sqlalchemy.create_engine('sqlite:///parkdata.db', echo=False)"
   ]
  },
  {
   "cell_type": "code",
   "execution_count": null,
   "id": "3802b879-f8bb-4574-9c9f-297fd1187dc8",
   "metadata": {},
   "outputs": [],
   "source": [
    "#appending flatfile\n",
    "park_visit_csv.to_sql('CSVData', con=engine, if_exists='append')"
   ]
  },
  {
   "cell_type": "code",
   "execution_count": null,
   "id": "ff292cc4-9060-4669-b964-697a6fa6d015",
   "metadata": {},
   "outputs": [],
   "source": [
    "#appending website data\n",
    "park_elev_html.to_sql('HTMLData', con=engine, if_exists='append')"
   ]
  },
  {
   "cell_type": "code",
   "execution_count": null,
   "id": "2aa4dd33-d631-42d4-a2d8-d33b5bc04248",
   "metadata": {},
   "outputs": [],
   "source": [
    "#appending api data\n",
    "api_df1.to_sql('APIData', con=engine, if_exists='append')"
   ]
  },
  {
   "cell_type": "code",
   "execution_count": null,
   "id": "144281d3-83e6-4d4b-a6c3-fc97a5144f8c",
   "metadata": {},
   "outputs": [],
   "source": [
    "#joining all 3 datasets\n",
    "conn = sqlite3.connect('parkdata.db')\n",
    "# Creating CSV US County dataset\n",
    "query = conn.execute('''SELECT * \n",
    "                    FROM CSVData \n",
    "                    LEFT JOIN HTMLData USING (Park_Name)\n",
    "                    LEFT JOIN APIData USING (Park_Name)   \n",
    "    ''')\n",
    "cols = [column[0] for column in query.description]\n",
    "combined_df = pd.DataFrame.from_records(data = query.fetchall(), columns = cols)\n",
    "#commit the changes to db\n",
    "conn.commit()\n",
    "#close the connection\n",
    "conn.close()"
   ]
  },
  {
   "cell_type": "code",
   "execution_count": null,
   "id": "33b5377f-06cd-4d3b-b008-5cf0a96a367b",
   "metadata": {},
   "outputs": [],
   "source": [
    "combined_df.head()"
   ]
  },
  {
   "cell_type": "code",
   "execution_count": null,
   "id": "8529ac30-e718-4d59-bbe1-bb54ced9510f",
   "metadata": {},
   "outputs": [],
   "source": [
    "#removing unwanted columns\n",
    "\n",
    "combined_df.drop(['Created By','Datetime','Measure Selector','ScrapeURL','Gnis Id'], axis =1, inplace = True)\n"
   ]
  },
  {
   "cell_type": "code",
   "execution_count": null,
   "id": "c2711024-31dc-4966-b8f9-95417ab00829",
   "metadata": {},
   "outputs": [],
   "source": [
    "combined_df.head(2)"
   ]
  },
  {
   "cell_type": "markdown",
   "id": "d5fa1e2e-d99c-4673-96ca-1c81f3a050fc",
   "metadata": {},
   "source": [
    "## Visualizations"
   ]
  },
  {
   "cell_type": "code",
   "execution_count": null,
   "id": "93b59605-7d67-44e4-a390-3dfec66f7d13",
   "metadata": {},
   "outputs": [],
   "source": [
    "import seaborn as sns\n",
    "import matplotlib.pyplot as plt"
   ]
  },
  {
   "cell_type": "markdown",
   "id": "f5649845-ad35-4bf5-8559-971456a3ee12",
   "metadata": {},
   "source": [
    "### Plot 1 - Plot showing parks with the highest elevations (Data source: CSV and HTML Data)"
   ]
  },
  {
   "cell_type": "code",
   "execution_count": null,
   "id": "498f2efd-d869-4d16-bd29-8875265d61c9",
   "metadata": {},
   "outputs": [],
   "source": [
    "#plot to show national parks by elevation\n",
    "\n",
    "sns.set(rc={'figure.figsize':(20,6)})\n",
    "\n",
    "sorted_data = combined_df.sort_values('elevation_ft', ascending=False)\n",
    "sns.barplot(x=sorted_data['Park_Name'], y=sorted_data['elevation_ft'],palette = 'Set2')\n",
    "plt.xticks(rotation = 90)\n",
    "plt.xlabel(\"Park_Name\")\n",
    "plt.ylabel(\"elevation_ft\")\n",
    "plt.title('Plot of National Parks in the USA by Elevation')\n"
   ]
  },
  {
   "cell_type": "markdown",
   "id": "f5e399b7-4f84-4b2a-878e-ba1a7e3982b4",
   "metadata": {},
   "source": [
    "### Plot 2 - Plot showing highly visited parks(Data source: CSV Data; Years 1904 - 2016)"
   ]
  },
  {
   "cell_type": "code",
   "execution_count": null,
   "id": "af9daf8d-3cb1-4d58-bd32-2238c5f83b01",
   "metadata": {},
   "outputs": [],
   "source": [
    "\n",
    "\n",
    "sns.set(rc={'figure.figsize':(20,4)})\n",
    "\n",
    "sorted_data = combined_df.nlargest(100, 'Visitors')\n",
    "sns.barplot(x=sorted_data['Park_Name'], y=sorted_data['Visitors'],palette = 'Set2')\n",
    "plt.xticks(rotation = 90)\n",
    "plt.xlabel(\"Park_Name\")\n",
    "plt.ylabel(\"Visitors\")\n",
    "plt.title('Top 10 most visited National Parks ')"
   ]
  },
  {
   "cell_type": "markdown",
   "id": "2a52b65c-c2ed-49c5-9635-55fc092c0aba",
   "metadata": {},
   "source": [
    "### Plot 3 - Plot showing visitor activity and reservation requirement (Data source: CSV and API Data)"
   ]
  },
  {
   "cell_type": "code",
   "execution_count": null,
   "id": "cfec21b6-81ae-416c-929b-f1a45f357b8f",
   "metadata": {},
   "outputs": [],
   "source": [
    "#box plot showing the number of visitors vs if pets are allowed\n",
    "ax = plt.figure(figsize=(5,5))\n",
    "ax = sns.boxplot(data=combined_df, x = 'reservationRequired(yes/no)', y = 'Visitors')\n",
    "ax.set_ylim(0,2500000)\n",
    "plt.title('Plot of visitor activity and reservation requirement ')"
   ]
  },
  {
   "cell_type": "markdown",
   "id": "c7752058-e483-474a-a219-9a87d76f222b",
   "metadata": {},
   "source": [
    "### Plot 4 - Plot showing Visitor activity and pet restrictions(Data source: CSV and API Data)"
   ]
  },
  {
   "cell_type": "code",
   "execution_count": null,
   "id": "c0c3ee91-0c83-4377-a0c3-9e1294f29dee",
   "metadata": {},
   "outputs": [],
   "source": [
    "#box plot showing the number of visitors vs if pets are allowed\n",
    "ax = plt.figure(figsize=(5,5))\n",
    "ax = sns.boxplot(data=combined_df, x = 'petsAllowed(yes/no)', y = 'Visitors')\n",
    "ax.set_ylim(0,2500000)\n",
    "plt.title('Plot of visitor activity and pet restrictions ')"
   ]
  },
  {
   "cell_type": "markdown",
   "id": "90661d38-ec03-4953-841f-710d9e997d4c",
   "metadata": {},
   "source": [
    "#### Based on the above plot, there are more visitors at Parks where pets are allowed"
   ]
  },
  {
   "cell_type": "markdown",
   "id": "d86ad1b2-9754-40a3-a9ba-d3a17f20aec8",
   "metadata": {},
   "source": [
    "### Plot 5 - Plot showing Park Visitor activity by state (Source: CSV data)"
   ]
  },
  {
   "cell_type": "code",
   "execution_count": null,
   "id": "c2b4f214-ba60-4d51-92d6-874e9a594267",
   "metadata": {},
   "outputs": [],
   "source": [
    "sns.set(rc={'figure.figsize':(20,6)})\n",
    "\n",
    "#sorted_data = combined_df.sort_values('Park_Name', ascending=False)\n",
    "sns.barplot(x=combined_df['State'], y=combined_df['Visitors'],palette = 'Set2',)\n",
    "plt.xticks(rotation = 90)\n",
    "plt.xlabel(\"State\")\n",
    "plt.ylabel(\"Number of Visitors (1904 - 2016)\")\n",
    "plt.title('Plot showing National Park visitors by State')"
   ]
  },
  {
   "cell_type": "markdown",
   "id": "297bcc4f-4b3f-4f6c-9eb3-7dceff30cddf",
   "metadata": {},
   "source": [
    "#### Final Dataset"
   ]
  },
  {
   "cell_type": "code",
   "execution_count": null,
   "id": "063f845e-825a-4998-9682-c04af3e8a679",
   "metadata": {},
   "outputs": [],
   "source": [
    "combined_df.head(5)"
   ]
  }
 ],
 "metadata": {
  "kernelspec": {
   "display_name": "Python 3 (ipykernel)",
   "language": "python",
   "name": "python3"
  },
  "language_info": {
   "codemirror_mode": {
    "name": "ipython",
    "version": 3
   },
   "file_extension": ".py",
   "mimetype": "text/x-python",
   "name": "python",
   "nbconvert_exporter": "python",
   "pygments_lexer": "ipython3",
   "version": "3.11.7"
  }
 },
 "nbformat": 4,
 "nbformat_minor": 5
}
